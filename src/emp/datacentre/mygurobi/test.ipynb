{
 "cells": [
  {
   "cell_type": "code",
   "execution_count": 1,
   "metadata": {
    "vscode": {
     "languageId": "shellscript"
    }
   },
   "outputs": [
    {
     "name": "stdout",
     "output_type": "stream",
     "text": [
      "Requirement already satisfied: gurobipy in /usr/local/lib/python3.8/dist-packages (9.5.2)\n",
      "Note: you may need to restart the kernel to use updated packages.\n"
     ]
    }
   ],
   "source": [
    "%pip install gurobipy"
   ]
  },
  {
   "cell_type": "code",
   "execution_count": 4,
   "metadata": {
    "vscode": {
     "languageId": "shellscript"
    }
   },
   "outputs": [
    {
     "name": "stdout",
     "output_type": "stream",
     "text": [
      "Collecting gurobipy==11.0.0\n",
      "  Downloading gurobipy-11.0.0-cp38-cp38-manylinux2014_x86_64.manylinux_2_17_x86_64.whl (13.3 MB)\n",
      "\u001b[K     |████████████████████████████████| 13.3 MB 17.1 MB/s eta 0:00:01\n",
      "\u001b[?25hInstalling collected packages: gurobipy\n",
      "Successfully installed gurobipy-11.0.0\n",
      "Note: you may need to restart the kernel to use updated packages.\n"
     ]
    }
   ],
   "source": [
    "%pip install gurobipy==11.0.0"
   ]
  },
  {
   "cell_type": "code",
   "execution_count": 5,
   "metadata": {
    "vscode": {
     "languageId": "shellscript"
    }
   },
   "outputs": [
    {
     "name": "stdout",
     "output_type": "stream",
     "text": [
      "Set parameter Username\n",
      "Academic license - for non-commercial use only - expires 2025-08-22\n"
     ]
    },
    {
     "ename": "GurobiError",
     "evalue": "Unable to open file '--f=/u/az6922/.local/share/jupyter/runtime/kernel-v2-19013893UGxGIVzoR8E.json' for input",
     "output_type": "error",
     "traceback": [
      "\u001b[0;31m---------------------------------------------------------------------------\u001b[0m",
      "\u001b[0;31mGurobiError\u001b[0m                               Traceback (most recent call last)",
      "Cell \u001b[0;32mIn[5], line 21\u001b[0m\n\u001b[1;32m     17\u001b[0m     sys\u001b[38;5;241m.\u001b[39mexit(\u001b[38;5;241m0\u001b[39m)\n\u001b[1;32m     19\u001b[0m \u001b[38;5;66m# Read and solve model\u001b[39m\n\u001b[0;32m---> 21\u001b[0m model \u001b[38;5;241m=\u001b[39m \u001b[43mgp\u001b[49m\u001b[38;5;241;43m.\u001b[39;49m\u001b[43mread\u001b[49m\u001b[43m(\u001b[49m\u001b[43msys\u001b[49m\u001b[38;5;241;43m.\u001b[39;49m\u001b[43margv\u001b[49m\u001b[43m[\u001b[49m\u001b[38;5;241;43m1\u001b[39;49m\u001b[43m]\u001b[49m\u001b[43m)\u001b[49m\n\u001b[1;32m     22\u001b[0m model\u001b[38;5;241m.\u001b[39moptimize()\n\u001b[1;32m     24\u001b[0m \u001b[38;5;28;01mif\u001b[39;00m model\u001b[38;5;241m.\u001b[39mStatus \u001b[38;5;241m==\u001b[39m GRB\u001b[38;5;241m.\u001b[39mINF_OR_UNBD:\n\u001b[1;32m     25\u001b[0m     \u001b[38;5;66m# Turn presolve off to determine whether model is infeasible\u001b[39m\n\u001b[1;32m     26\u001b[0m     \u001b[38;5;66m# or unbounded\u001b[39m\n",
      "File \u001b[0;32msrc/gurobipy/gurobi.pxi:3779\u001b[0m, in \u001b[0;36mgurobipy.read\u001b[0;34m()\u001b[0m\n",
      "File \u001b[0;32msrc/gurobipy/gurobi.pxi:117\u001b[0m, in \u001b[0;36mgurobipy.gurobi.read\u001b[0;34m()\u001b[0m\n",
      "\u001b[0;31mGurobiError\u001b[0m: Unable to open file '--f=/u/az6922/.local/share/jupyter/runtime/kernel-v2-19013893UGxGIVzoR8E.json' for input"
     ]
    }
   ],
   "source": [
    "#!/usr/bin/env python3.11\n",
    "\n",
    "# Copyright 2024, Gurobi Optimization, LLC\n",
    "\n",
    "# This example reads an LP model from a file and solves it.\n",
    "# If the model is infeasible or unbounded, the example turns off\n",
    "# presolve and solves the model again. If the model is infeasible,\n",
    "# the example computes an Irreducible Inconsistent Subsystem (IIS),\n",
    "# and writes it to a file\n",
    "\n",
    "import sys\n",
    "import gurobipy as gp\n",
    "from gurobipy import GRB\n",
    "\n",
    "if len(sys.argv) < 2:\n",
    "    print(\"Usage: lp.py filename\")\n",
    "    sys.exit(0)\n",
    "\n",
    "# Read and solve model\n",
    "\n",
    "model = gp.read(sys.argv[1])\n",
    "model.optimize()\n",
    "\n",
    "if model.Status == GRB.INF_OR_UNBD:\n",
    "    # Turn presolve off to determine whether model is infeasible\n",
    "    # or unbounded\n",
    "    model.setParam(GRB.Param.Presolve, 0)\n",
    "    model.optimize()\n",
    "\n",
    "if model.Status == GRB.OPTIMAL:\n",
    "    print(f\"Optimal objective: {model.ObjVal:g}\")\n",
    "    model.write(\"model.sol\")\n",
    "    sys.exit(0)\n",
    "elif model.Status != GRB.INFEASIBLE:\n",
    "    print(f\"Optimization was stopped with status {model.Status}\")\n",
    "    sys.exit(0)\n",
    "\n",
    "\n",
    "# Model is infeasible - compute an Irreducible Inconsistent Subsystem (IIS)\n",
    "\n",
    "print(\"\")\n",
    "print(\"Model is infeasible\")\n",
    "model.computeIIS()\n",
    "model.write(\"model.ilp\")\n",
    "print(\"IIS written to file 'model.ilp'\")"
   ]
  }
 ],
 "metadata": {
  "kernelspec": {
   "display_name": "Python 3",
   "language": "python",
   "name": "python3"
  },
  "language_info": {
   "codemirror_mode": {
    "name": "ipython",
    "version": 3
   },
   "file_extension": ".py",
   "mimetype": "text/x-python",
   "name": "python",
   "nbconvert_exporter": "python",
   "pygments_lexer": "ipython3",
   "version": "3.8.10"
  }
 },
 "nbformat": 4,
 "nbformat_minor": 2
}
