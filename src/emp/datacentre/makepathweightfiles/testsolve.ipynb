{
 "cells": [
  {
   "cell_type": "markdown",
   "metadata": {},
   "source": [
    "example copied from chatgpt"
   ]
  },
  {
   "cell_type": "code",
   "execution_count": 1,
   "metadata": {},
   "outputs": [
    {
     "name": "stdout",
     "output_type": "stream",
     "text": [
      "Set parameter Username\n",
      "Academic license - for non-commercial use only - expires 2025-01-09\n",
      "Gurobi Optimizer version 11.0.3 build v11.0.3rc0 (linux64 - \"Ubuntu 20.04.6 LTS\")\n",
      "\n",
      "CPU model: Intel(R) Xeon(R) CPU E5-2630 v4 @ 2.20GHz, instruction set [SSE2|AVX|AVX2]\n",
      "Thread count: 20 physical cores, 40 logical processors, using up to 20 threads\n",
      "\n",
      "Optimize a model with 2 rows, 2 columns and 4 nonzeros\n",
      "Model fingerprint: 0x1c49ab20\n",
      "Coefficient statistics:\n",
      "  Matrix range     [1e+00, 1e+00]\n",
      "  Objective range  [2e+00, 3e+00]\n",
      "  Bounds range     [0e+00, 0e+00]\n",
      "  RHS range        [3e+00, 1e+01]\n",
      "Presolve removed 2 rows and 2 columns\n",
      "Presolve time: 0.01s\n",
      "Presolve: All rows and columns removed\n",
      "Iteration    Objective       Primal Inf.    Dual Inf.      Time\n",
      "       0    2.3500000e+01   0.000000e+00   0.000000e+00      0s\n",
      "\n",
      "Solved in 0 iterations and 0.01 seconds (0.00 work units)\n",
      "Optimal objective  2.350000000e+01\n",
      "Optimal objective value: 23.5\n",
      "x: 6.5\n",
      "y: 3.5\n"
     ]
    }
   ],
   "source": [
    "import gurobipy as gp\n",
    "from gurobipy import GRB\n",
    "\n",
    "# Create a new model\n",
    "model = gp.Model(\"example\")\n",
    "\n",
    "# Add variables\n",
    "x = model.addVar(name=\"x\")\n",
    "y = model.addVar(name=\"y\")\n",
    "\n",
    "# Set objective function\n",
    "model.setObjective(2*x + 3*y, GRB.MAXIMIZE)\n",
    "\n",
    "# Add constraints\n",
    "model.addConstr(x + y <= 10, \"c0\")\n",
    "model.addConstr(x - y >= 3, \"c1\")\n",
    "\n",
    "# Optimize model\n",
    "model.optimize()\n",
    "\n",
    "# Print results\n",
    "if model.status == GRB.OPTIMAL:\n",
    "    print(f\"Optimal objective value: {model.objVal}\")\n",
    "    print(f\"x: {x.x}\")\n",
    "    print(f\"y: {y.x}\")\n",
    "else:\n",
    "    print(\"No optimal solution found\")"
   ]
  },
  {
   "cell_type": "markdown",
   "metadata": {},
   "source": [
    "topology:\n",
    "0-----1------2\n",
    " \\----------/\n",
    "traffic (netpath): \n",
    "- 0->2 (0->2, 0->1->2)\n",
    "- 1->2 (1->2)"
   ]
  },
  {
   "cell_type": "code",
   "execution_count": 4,
   "metadata": {},
   "outputs": [],
   "source": [
    "dirprefix = \"/home/annzhou/DRing/src/emp/datacentre\"\n",
    "with open(f\"{dirprefix}/graphfiles/node3.edgelist\",'w') as f:\n",
    "    f.write(\"0->1\\n1->2\\n0->2\\n\")\n",
    "\n",
    "with open(f\"{dirprefix}/netpathfiles/node3.txt\",'w') as f:\n",
    "    f.write(\"0 0 0\\n0 1 0\\n\")\n",
    "    f.write(\"0 2 2\\n 0->2\\n 0->1 1->2\\n\")\n",
    "    f.write(\"1 0 0\\n1 1 0\\n\")\n",
    "    f.write(\"1 2 1\\n 1->2\\n\")\n",
    "    f.write(\"2 0 0\\n2 1 0\\n2 2 0\\n\")\n",
    "\n",
    "with open(f\"{dirprefix}/serverfiles/node3\",'w') as f:\n",
    "    f.write(\"0,0\\n1,1\\n2,2\\n\")\n",
    "\n",
    "with open(f\"{dirprefix}/flowfiles/node3\",'w') as f:\n",
    "    f.write(\"0,2,10\\n1,2,8\\n\")"
   ]
  }
 ],
 "metadata": {
  "kernelspec": {
   "display_name": "Python 3",
   "language": "python",
   "name": "python3"
  },
  "language_info": {
   "codemirror_mode": {
    "name": "ipython",
    "version": 3
   },
   "file_extension": ".py",
   "mimetype": "text/x-python",
   "name": "python",
   "nbconvert_exporter": "python",
   "pygments_lexer": "ipython3",
   "version": "3.8.10"
  }
 },
 "nbformat": 4,
 "nbformat_minor": 2
}
