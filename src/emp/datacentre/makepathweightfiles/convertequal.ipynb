{
 "cells": [
  {
   "cell_type": "code",
   "execution_count": 5,
   "metadata": {},
   "outputs": [],
   "source": [
    "graphname = \"dring\"\n",
    "routingname = \"32disjoint\"\n",
    "\n",
    "homedir = \"/home/annzhou\"\n",
    "oldpathweightfile = f\"{homedir}/DRing/src/emp/datacentre/pathweightfiles/{graphname}/{routingname}/pathweight_{graphname}_{routingname}_equal_64.txt\"\n",
    "newpathweightfile = f\"{homedir}/DRing/src/emp/datacentre/qvarfiles/qvar_{graphname}_0_0_{routingname}_64\"\n",
    "\n",
    "with open(oldpathweightfile,'r') as fold:\n",
    "    lines = fold.readlines()\n",
    "    with open(newpathweightfile,'w') as fnew:\n",
    "        for line in lines:\n",
    "            tokens = line.split()\n",
    "            fromsw = int(tokens[0])\n",
    "            tosw = int(tokens[1])\n",
    "            pid = int(tokens[2])\n",
    "            weight = float(tokens[5])\n",
    "            fnew.write(f\"{fromsw},{tosw},{pid},{weight}\\n\")"
   ]
  }
 ],
 "metadata": {
  "kernelspec": {
   "display_name": "Python 3",
   "language": "python",
   "name": "python3"
  },
  "language_info": {
   "codemirror_mode": {
    "name": "ipython",
    "version": 3
   },
   "file_extension": ".py",
   "mimetype": "text/x-python",
   "name": "python",
   "nbconvert_exporter": "python",
   "pygments_lexer": "ipython3",
   "version": "3.8.10"
  }
 },
 "nbformat": 4,
 "nbformat_minor": 2
}
