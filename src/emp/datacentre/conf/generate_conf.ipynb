{
 "cells": [
  {
   "cell_type": "code",
   "execution_count": 1,
   "metadata": {},
   "outputs": [],
   "source": [
    "dir = \"/home/annzhou/DRing/src/emp/datacentre/conf/\"\n",
    "file = dir + \"jan10_clusterac\"\n",
    "with open(file,'w') as f:\n",
    "    f.write(\"./oblivious_c2s_discover.sh rrg 32disjoint clustera a 0 0 0 0 oblivious-ecmp-equal 2 10\\n\")\n",
    "    for i in [8,10,12,14,16,32,48,64]:\n",
    "        f.write(f\"./oblivious_c2s_discover.sh rrg su3 clustera a 0 0 0 {i} oblivious 2 10\\n\")\n",
    "    f.write(\"./oblivious_c2s_discover.sh rrg 32disjoint clusterc c 0 0 0 0 oblivious-ecmp-equal 0.2 0.6\\n\")\n",
    "    for i in [8,16,32,44,46,48,62,63,64]:\n",
    "        f.write(f\"./oblivious_c2s_discover.sh rrg su3 clusterc c 0 0 0 {i} oblivious 0.2 0.6\\n\")"
   ]
  },
  {
   "cell_type": "code",
   "execution_count": 1,
   "metadata": {},
   "outputs": [],
   "source": [
    "dir = \"/home/annzhou/DRing/src/emp/datacentre/conf/\"\n",
    "file = dir + \"jan11_clusterb\"\n",
    "with open(file,'w') as f:\n",
    "    for i in [1,2,3,4,5,6,7,9,10,11,12,13,14,15]:\n",
    "        f.write(f\"./oblivious_c2s_discover.sh rrg su3 clusterb b 0 0 0 {i} oblivious 0.2 1\\n\")"
   ]
  },
  {
   "cell_type": "code",
   "execution_count": null,
   "metadata": {},
   "outputs": [],
   "source": [
    "dir = \"/home/annzhou/DRing/src/emp/datacentre/conf/\"\n",
    "file = dir + \"jan11_clustera\"\n",
    "with open(file,'w') as f:\n",
    "    for i in [2,4,6]:\n",
    "        f.write(f\"./oblivious_c2s_discover.sh rrg su3 clustera a 0 0 0 {i} oblivious 2 10\\n\")"
   ]
  },
  {
   "cell_type": "code",
   "execution_count": 2,
   "metadata": {},
   "outputs": [],
   "source": [
    "dir = \"/home/annzhou/DRing/src/emp/datacentre/conf/\"\n",
    "file = dir + \"jan10_clusterb\"\n",
    "with open(file,'w') as f:\n",
    "    f.write(\"./oblivious_c2s_discover.sh rrg 32disjoint clusterb b 0 0 0 0 oblivious-ecmp-equal 0.2 1\\n\")\n",
    "    for i in [8,16,32,46,47,48,49,50,64]:\n",
    "        f.write(f\"./oblivious_c2s_discover.sh rrg su3 clusterb b 0 0 0 {i} oblivious 0.2 1\\n\")"
   ]
  },
  {
   "cell_type": "code",
   "execution_count": 3,
   "metadata": {},
   "outputs": [],
   "source": [
    "dir = \"/home/annzhou/DRing/src/emp/datacentre/conf/\"\n",
    "file = dir + \"jan10_4to4_1\"\n",
    "with open(file,'w') as f:\n",
    "    for i in [24,32,40,48,56,64]:\n",
    "        f.write(f\"./oblivious_c2s_discover.sh rrg su3 c2s N 4 4 0 {i} oblivious 2 10\\n\")\n",
    "    for seed in range(1,5):\n",
    "        f.write(f\"./oblivious_c2s_discover.sh leafspine ecmp c2s N 4 4 {seed} 0 oblivious 2 10\\n\")\n",
    "        f.write(f\"./oblivious_c2s_discover.sh rrg 32disjoint c2s N 4 4 {seed} 0 oblivious-ecmp-equal 2 10\\n\")\n",
    "        for i in range(8,65,8):\n",
    "            f.write(f\"./oblivious_c2s_discover.sh rrg su3 c2s N 4 4 {seed} {i} oblivious 2 10\\n\")"
   ]
  },
  {
   "cell_type": "code",
   "execution_count": 1,
   "metadata": {},
   "outputs": [],
   "source": [
    "dir = \"/home/annzhou/DRing/src/emp/datacentre/conf/\"\n",
    "file = dir + \"jan10_16to16\"\n",
    "with open(file,'w') as f:\n",
    "    f.write(f\"./oblivious_c2s_discover.sh rrg 32disjoint c2s N 16 16 0 0 oblivious-ecmp-equal 0.8 2\\n\")\n",
    "    for i in range(8,65,8):\n",
    "        f.write(f\"./oblivious_c2s_discover.sh rrg su3 c2s N 16 16 0 {i} oblivious 0.8 2\\n\")"
   ]
  },
  {
   "cell_type": "code",
   "execution_count": 3,
   "metadata": {},
   "outputs": [],
   "source": [
    "dir = \"/home/annzhou/DRing/src/emp/datacentre/conf/\"\n",
    "file = dir + \"jan28_ml_test\"\n",
    "routinglist = [\"su3\",\"32disjoint\",\"racke0\"]\n",
    "with open(file,'w') as f:\n",
    "    for routing in routinglist:\n",
    "        f.write(f\"./tagdiscover.sh dring {routing} ml0 ml 0 100 none 20 36\\n\")\n",
    "        f.write(f\"./tagdiscover.sh rrg {routing} ml0 ml 0 100 none 20 36\\n\")\n",
    "    f.write(f\"./tagdiscover.sh leafspine ecmp ml0 ml 0 100 none 20 36\\n\")"
   ]
  },
  {
   "cell_type": "code",
   "execution_count": 11,
   "metadata": {},
   "outputs": [],
   "source": [
    "\n",
    "dir = \"/home/annzhou/DRing/src/emp/datacentre/conf/\"\n",
    "mlnum=40\n",
    "file = dir + f\"jan29_ml{mlnum}\"\n",
    "with open(file,'w') as f:\n",
    "    f.write(f\"./tagdiscover.sh leafspine ecmp ml{mlnum} ml 0 40 none 100 500\\n\")\n",
    "    f.write(f\"./tagdiscover.sh dring ecmp ml{mlnum} ml 0 40 none 800 1200\\n\")\n",
    "    f.write(f\"./tagdiscover.sh dring su2 ml{mlnum} ml 0 40 none 800 1200\\n\")\n",
    "    f.write(f\"./tagdiscover.sh dring su3 ml{mlnum} ml 0 40 none 800 1400\\n\")\n",
    "    f.write(f\"./tagdiscover.sh dring 32disjoint ml{mlnum} ml 0 40 none 800 1400\\n\")\n",
    "    f.write(f\"./tagdiscover.sh dring racke0 ml{mlnum} ml 0 40 none 800 1400\\n\")\n",
    "    f.write(f\"./tagdiscover.sh dring racke1 ml{mlnum} ml 0 40 none 800 1400\\n\")\n",
    "    f.write(f\"./tagdiscover.sh dring racke2 ml{mlnum} ml 0 40 none 800 1400\\n\")"
   ]
  },
  {
   "cell_type": "markdown",
   "metadata": {},
   "source": [
    "./tagdiscover.sh dring su3 ml40 ml 0 40 none 1200 1400\n",
    "./tagdiscover.sh dring 32disjoint ml40 ml 0 40 none 1200 1400\n",
    "./tagdiscover.sh leafspine ecmp ml40 ml 0 40 none 1200 1400"
   ]
  },
  {
   "cell_type": "markdown",
   "metadata": {},
   "source": [
    "./tagdiscover.sh dring su3 ml41 ml 0 41 none 1200 1400\n",
    "./tagdiscover.sh dring 32disjoint ml41 ml 0 41 none 1200 1400\n",
    "./tagdiscover.sh leafspine ecmp ml41 ml 0 41 none 1200 1400"
   ]
  },
  {
   "cell_type": "markdown",
   "metadata": {},
   "source": [
    "./tagdiscover.sh dring su3 ml50 ml 0 50 none 1200 1400\n",
    "./tagdiscover.sh dring 32disjoint ml50 ml 0 50 none 1200 1400\n",
    "./tagdiscover.sh leafspine ecmp ml50 ml 0 50 none 1200 1400"
   ]
  },
  {
   "cell_type": "code",
   "execution_count": 5,
   "metadata": {},
   "outputs": [
    {
     "name": "stdout",
     "output_type": "stream",
     "text": [
      "python3 run_oblivious_c2s.py --conf conf/jan29_ml1 && \n",
      "python3 run_oblivious_c2s.py --conf conf/jan29_ml2 && \n",
      "python3 run_oblivious_c2s.py --conf conf/jan29_ml3 && \n",
      "python3 run_oblivious_c2s.py --conf conf/jan29_ml4 && \n"
     ]
    }
   ],
   "source": [
    "for i in range(1,5):\n",
    "    print(f\"python3 run_oblivious_c2s.py --conf conf/jan29_ml{i} && \")"
   ]
  }
 ],
 "metadata": {
  "kernelspec": {
   "display_name": "Python 3",
   "language": "python",
   "name": "python3"
  },
  "language_info": {
   "codemirror_mode": {
    "name": "ipython",
    "version": 3
   },
   "file_extension": ".py",
   "mimetype": "text/x-python",
   "name": "python",
   "nbconvert_exporter": "python",
   "pygments_lexer": "ipython3",
   "version": "3.8.10"
  }
 },
 "nbformat": 4,
 "nbformat_minor": 2
}
