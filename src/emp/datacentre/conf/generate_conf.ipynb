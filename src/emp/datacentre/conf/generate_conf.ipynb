{
 "cells": [
  {
   "cell_type": "code",
   "execution_count": 1,
   "metadata": {},
   "outputs": [],
   "source": [
    "dir = \"/home/annzhou/DRing/src/emp/datacentre/conf/\"\n",
    "file = dir + \"jan10_clusterac\"\n",
    "with open(file,'w') as f:\n",
    "    f.write(\"./oblivious_c2s_discover.sh rrg 32disjoint clustera a 0 0 0 0 oblivious-ecmp-equal 2 10\\n\")\n",
    "    for i in [8,10,12,14,16,32,48,64]:\n",
    "        f.write(f\"./oblivious_c2s_discover.sh rrg su3 clustera a 0 0 0 {i} oblivious 2 10\\n\")\n",
    "    f.write(\"./oblivious_c2s_discover.sh rrg 32disjoint clusterc c 0 0 0 0 oblivious-ecmp-equal 0.2 0.6\\n\")\n",
    "    for i in [8,16,32,44,46,48,62,63,64]:\n",
    "        f.write(f\"./oblivious_c2s_discover.sh rrg su3 clusterc c 0 0 0 {i} oblivious 0.2 0.6\\n\")"
   ]
  },
  {
   "cell_type": "code",
   "execution_count": 1,
   "metadata": {},
   "outputs": [],
   "source": [
    "dir = \"/home/annzhou/DRing/src/emp/datacentre/conf/\"\n",
    "file = dir + \"jan11_clusterb\"\n",
    "with open(file,'w') as f:\n",
    "    for i in [1,2,3,4,5,6,7,9,10,11,12,13,14,15]:\n",
    "        f.write(f\"./oblivious_c2s_discover.sh rrg su3 clusterb b 0 0 0 {i} oblivious 0.2 1\\n\")"
   ]
  },
  {
   "cell_type": "code",
   "execution_count": null,
   "metadata": {},
   "outputs": [],
   "source": [
    "dir = \"/home/annzhou/DRing/src/emp/datacentre/conf/\"\n",
    "file = dir + \"jan11_clustera\"\n",
    "with open(file,'w') as f:\n",
    "    for i in [2,4,6]:\n",
    "        f.write(f\"./oblivious_c2s_discover.sh rrg su3 clustera a 0 0 0 {i} oblivious 2 10\\n\")"
   ]
  },
  {
   "cell_type": "code",
   "execution_count": 2,
   "metadata": {},
   "outputs": [],
   "source": [
    "dir = \"/home/annzhou/DRing/src/emp/datacentre/conf/\"\n",
    "file = dir + \"jan10_clusterb\"\n",
    "with open(file,'w') as f:\n",
    "    f.write(\"./oblivious_c2s_discover.sh rrg 32disjoint clusterb b 0 0 0 0 oblivious-ecmp-equal 0.2 1\\n\")\n",
    "    for i in [8,16,32,46,47,48,49,50,64]:\n",
    "        f.write(f\"./oblivious_c2s_discover.sh rrg su3 clusterb b 0 0 0 {i} oblivious 0.2 1\\n\")"
   ]
  },
  {
   "cell_type": "code",
   "execution_count": 3,
   "metadata": {},
   "outputs": [],
   "source": [
    "dir = \"/home/annzhou/DRing/src/emp/datacentre/conf/\"\n",
    "file = dir + \"jan10_4to4_1\"\n",
    "with open(file,'w') as f:\n",
    "    for i in [24,32,40,48,56,64]:\n",
    "        f.write(f\"./oblivious_c2s_discover.sh rrg su3 c2s N 4 4 0 {i} oblivious 2 10\\n\")\n",
    "    for seed in range(1,5):\n",
    "        f.write(f\"./oblivious_c2s_discover.sh leafspine ecmp c2s N 4 4 {seed} 0 oblivious 2 10\\n\")\n",
    "        f.write(f\"./oblivious_c2s_discover.sh rrg 32disjoint c2s N 4 4 {seed} 0 oblivious-ecmp-equal 2 10\\n\")\n",
    "        for i in range(8,65,8):\n",
    "            f.write(f\"./oblivious_c2s_discover.sh rrg su3 c2s N 4 4 {seed} {i} oblivious 2 10\\n\")"
   ]
  },
  {
   "cell_type": "code",
   "execution_count": 4,
   "metadata": {},
   "outputs": [],
   "source": [
    "dir = \"/home/annzhou/DRing/src/emp/datacentre/conf/\"\n",
    "file = dir + \"jan10_16to16\"\n",
    "with open(file,'w') as f:\n",
    "    f.write(f\"./oblivious_c2s_discover.sh rrg 32disjoint c2s N 16 16 0 0 oblivious-ecmp-equal 0.8 2\\n\")\n",
    "    for i in range(8,65,8):\n",
    "        f.write(f\"./oblivious_c2s_discover.sh rrg su3 c2s N 16 16 0 {i} oblivious 0.8 2\\n\")"
   ]
  }
 ],
 "metadata": {
  "kernelspec": {
   "display_name": "Python 3",
   "language": "python",
   "name": "python3"
  },
  "language_info": {
   "codemirror_mode": {
    "name": "ipython",
    "version": 3
   },
   "file_extension": ".py",
   "mimetype": "text/x-python",
   "name": "python",
   "nbconvert_exporter": "python",
   "pygments_lexer": "ipython3",
   "version": "3.8.10"
  }
 },
 "nbformat": 4,
 "nbformat_minor": 2
}
