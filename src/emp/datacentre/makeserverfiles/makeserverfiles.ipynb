{
 "cells": [
  {
   "cell_type": "code",
   "execution_count": 3,
   "metadata": {},
   "outputs": [],
   "source": [
    "# leafspine\n",
    "numserver = 3072\n",
    "numsw = 80\n",
    "numport = 64 # == numleaf\n",
    "\n",
    "file = f\"/home/annzhou/DRing/src/emp/datacentre/serverfiles/leafspine_{numserver}_{numsw}_{numport}\"\n",
    "numserverpersw = numserver//numport\n",
    "with open(file,'w') as f:\n",
    "    for server in range(numserver):\n",
    "        sw = server//numserverpersw\n",
    "        f.write(f\"{server},{sw}\\n\")"
   ]
  },
  {
   "cell_type": "code",
   "execution_count": 11,
   "metadata": {},
   "outputs": [],
   "source": [
    "# rrg,dring -- this is wrong, at least for DRing_2988\n",
    "# inspired by int RandRegularTopology::ConvertHostToSwitch(int host)\n",
    "numserver = 2988\n",
    "numsw = 80\n",
    "numport = 64 # == numleaf\n",
    "graphname = \"dring\"\n",
    "\n",
    "def server_to_sw(host):\n",
    "    OVERSUBSCRIPTION = 1\n",
    "    NSW = numsw\n",
    "    NHOST = numserver\n",
    "    REDUCED_NHOST = NHOST/OVERSUBSCRIPTION\n",
    "    SVRPORTS = OVERSUBSCRIPTION * (REDUCED_NHOST/NSW if REDUCED_NHOST%NSW==0 else REDUCED_NHOST/NSW+1)\n",
    "    HETERO = 0 if REDUCED_NHOST%NSW==0 else 1\n",
    "    nsw_less_svrport = NSW - (NHOST/OVERSUBSCRIPTION)%NSW\n",
    "\n",
    "    if HETERO==1:\n",
    "        if SVRPORTS!=1:\n",
    "            reducedSvrport = SVRPORTS - OVERSUBSCRIPTION\n",
    "            if host < nsw_less_svrport * reducedSvrport:\n",
    "                myswitchindex = host // reducedSvrport\n",
    "            else:\n",
    "                myswitchindex = (host - nsw_less_svrport * reducedSvrport) // (SVRPORTS) + nsw_less_svrport\n",
    "        else:\n",
    "            myswitchindex =  nsw_less_svrport + host\n",
    "    else:\n",
    "        myswitchindex = host // SVRPORTS\n",
    "\n",
    "    return int(myswitchindex)\n",
    "\n",
    "file = f\"/home/annzhou/DRing/src/emp/datacentre/serverfiles/{graphname}_{numserver}_{numsw}_{numport}\"\n",
    "with open(file,'w') as f:\n",
    "    for server in range(numserver):\n",
    "        sw = server_to_sw(server)\n",
    "        f.write(f\"{server},{sw}\\n\")"
   ]
  },
  {
   "cell_type": "markdown",
   "metadata": {},
   "source": [
    "fix for dring_2988"
   ]
  },
  {
   "cell_type": "code",
   "execution_count": 12,
   "metadata": {},
   "outputs": [],
   "source": [
    "txtfile = f\"/home/annzhou/DRing/src/emp/datacentre/makeserverfiles/dring_2988_fromlogging\"\n",
    "serverfile = f\"/home/annzhou/DRing/src/emp/datacentre/serverfiles/dring_2988_80_64\"\n",
    "with open(txtfile,'r') as fr:\n",
    "    lines = fr.readlines()\n",
    "    with open(serverfile,'w') as fw:\n",
    "        prevsw = -1\n",
    "        prevserver = -1\n",
    "        baseserver = 0\n",
    "        for line in lines:\n",
    "            if line.startswith(\"SVR\"): continue\n",
    "            tokens = line.split(\"->\")\n",
    "            sw = int(tokens[0][2:])\n",
    "            server = int(tokens[1][3:])\n",
    "            # print(f\"sw={sw},prevsw={prevsw}\")\n",
    "            if sw != prevsw:\n",
    "                baseserver = prevserver+1\n",
    "                # print(baseserver)\n",
    "            prevsw = sw\n",
    "            prevserver = server+baseserver\n",
    "            fw.write(f\"{server+baseserver},{sw}\\n\")"
   ]
  }
 ],
 "metadata": {
  "kernelspec": {
   "display_name": "Python 3",
   "language": "python",
   "name": "python3"
  },
  "language_info": {
   "codemirror_mode": {
    "name": "ipython",
    "version": 3
   },
   "file_extension": ".py",
   "mimetype": "text/x-python",
   "name": "python",
   "nbconvert_exporter": "python",
   "pygments_lexer": "ipython3",
   "version": "3.8.10"
  }
 },
 "nbformat": 4,
 "nbformat_minor": 2
}
