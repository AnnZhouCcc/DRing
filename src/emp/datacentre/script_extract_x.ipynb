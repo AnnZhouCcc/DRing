{
 "cells": [
  {
   "cell_type": "code",
   "execution_count": null,
   "metadata": {},
   "outputs": [],
   "source": [
    "clusterlist = [\"a\",\"b\",\"c\"]\n",
    "klist = [2,12,24]\n",
    "for cluster in clusterlist:\n",
    "    for k in klist:\n",
    "        # filename = f\"discover_dring_su3_kcluster_{k}_kcluster_{cluster}/log.txt\"\n",
    "        filename = f\"discover_leafspine_ecmp_kcluster_{k}_kcluster_{cluster}/log.txt\"\n",
    "        with open(filename,'r') as f:\n",
    "            lines = f.readlines()\n",
    "            for line in lines:\n",
    "                tokens = line.split(\",\")\n",
    "                if tokens[0][0] == \"m\" and tokens[0][1] == \"=\":\n",
    "                    value = float(tokens[3].split(\"=\")[1])\n",
    "                    print(f\"cluster {cluster}, k={k}: {value}\")"
   ]
  },
  {
   "cell_type": "code",
   "execution_count": null,
   "metadata": {},
   "outputs": [],
   "source": [
    "# topologyroutinglist = [\"leafspine_ecmp\",\"dring_ecmp\",\"dring_su2\",\"dring_su3\",\"dring_32disjoint\",\"dring_racke0\",\"dring_racke1\",\"dring_racke2\"]\n",
    "topologyroutinglist = [\"leafspine_ecmp\",\"dring_su2\",\"dring_su3\",\"dring_32disjoint\",\"dring_racke2\",\"rrg_su2\",\"rrg_su3\",\"rrg_32disjoint\",\"rrg_racke2\"]\n",
    "mllist = [42,43,44]\n",
    "for tr in topologyroutinglist:\n",
    "    for ml in mllist:\n",
    "    # tr = \"dring_su2\"\n",
    "    # ml = 0\n",
    "        filename = f\"discover_{tr}_ml{ml}_ml_none/log.txt\"\n",
    "        with open(filename,'r') as f:\n",
    "            lines = f.readlines()\n",
    "            for line in lines:\n",
    "                tokens = line.split(\",\")\n",
    "                if tokens[0][0] == \"m\" and tokens[0][1] == \"=\":\n",
    "                    value = float(tokens[3].split(\"=\")[1])\n",
    "                    print(f\"{tr}, ml{ml}, {value}\")"
   ]
  },
  {
   "cell_type": "code",
   "execution_count": 1,
   "metadata": {},
   "outputs": [
    {
     "name": "stdout",
     "output_type": "stream",
     "text": [
      "dring_su3, cluster a, k=2: p1=10.75, p2=10.875\n",
      "dring_su3, cluster a, k=12: p1=13.5, p2=13.75\n",
      "dring_su3, cluster a, k=24: p1=21.25, p2=21.5\n",
      "dring_su3, cluster b, k=2: p1=0.6875, p2=0.7\n",
      "dring_su3, cluster b, k=12: p1=1.0375, p2=1.05\n",
      "dring_su3, cluster b, k=24: p1=1.7, p2=1.725\n",
      "dring_su3, cluster c, k=2: p1=0.6375, p2=0.65\n",
      "dring_su3, cluster c, k=12: p1=0.51875, p2=0.525\n",
      "dring_su3, cluster c, k=24: p1=0.725, p2=0.7375\n",
      "leafspine_ecmp, cluster a, k=2: p1=6.0, p2=6.125\n",
      "leafspine_ecmp, cluster a, k=12: p1=7.875, p2=8.0\n",
      "leafspine_ecmp, cluster a, k=24: p1=12.5, p2=12.75\n",
      "leafspine_ecmp, cluster b, k=2: p1=0.5, p2=0.50625\n",
      "leafspine_ecmp, cluster b, k=12: p1=0.6625, p2=0.675\n",
      "leafspine_ecmp, cluster b, k=24: p1=1.05, p2=1.0625\n",
      "leafspine_ecmp, cluster c, k=2: p1=0.40625, p2=0.4125\n",
      "leafspine_ecmp, cluster c, k=12: p1=0.46875, p2=0.475\n",
      "leafspine_ecmp, cluster c, k=24: p1=0.7375, p2=0.75\n"
     ]
    }
   ],
   "source": [
    "topologylist = [\"dring_su3\",\"leafspine_ecmp\"]\n",
    "clusterlist = [\"a\",\"b\",\"c\"]\n",
    "klist = [2,12,24]\n",
    "for tr in topologylist:\n",
    "    for cluster in clusterlist:\n",
    "        for k in klist:\n",
    "            filename = f\"discover_{tr}_kcluster_{k}_kcluster_{cluster}/log.txt\"\n",
    "            p1 = 0\n",
    "            p2 = 0\n",
    "            with open(filename,'r') as f:\n",
    "                lines = f.readlines()\n",
    "                for line in lines:\n",
    "                    tokens = line.split(\"=\")\n",
    "                    if tokens[0] == \"p1\":\n",
    "                        p1 = float(tokens[1])\n",
    "                    elif tokens[0] == \"p2\":\n",
    "                        p2 = float(tokens[1])\n",
    "            print(f\"{tr}, cluster {cluster}, k={k}: p1={p1}, p2={p2}\")"
   ]
  }
 ],
 "metadata": {
  "kernelspec": {
   "display_name": "Python 3",
   "language": "python",
   "name": "python3"
  },
  "language_info": {
   "codemirror_mode": {
    "name": "ipython",
    "version": 3
   },
   "file_extension": ".py",
   "mimetype": "text/x-python",
   "name": "python",
   "nbconvert_exporter": "python",
   "pygments_lexer": "ipython3",
   "version": "3.10.12"
  }
 },
 "nbformat": 4,
 "nbformat_minor": 2
}
