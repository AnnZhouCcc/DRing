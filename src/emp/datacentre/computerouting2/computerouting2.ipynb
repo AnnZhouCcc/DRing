{
 "cells": [
  {
   "cell_type": "markdown",
   "metadata": {},
   "source": [
    "generate conf\n",
    "how to launch: python3 run_oblivious_c2s.py --conf computerouting2/cluster_c.conf --worker 1 --maxGB 5 --waitSec 30"
   ]
  },
  {
   "cell_type": "code",
   "execution_count": 3,
   "metadata": {},
   "outputs": [],
   "source": [
    "trafficname = \"cluster_c\"\n",
    "scaledown = 100000\n",
    "with open(f\"/home/annzhou/DRing/src/emp/datacentre/computerouting2/{trafficname}.conf\",'w') as f:\n",
    "    for H in range(1,25):\n",
    "        f.write(f\"python3 computerouting2/testtemporalH_meta.py {trafficname} {scaledown} {H}\\n\")"
   ]
  },
  {
   "cell_type": "markdown",
   "metadata": {},
   "source": [
    "python3 run_oblivious_c2s.py --conf computerouting2/unv1.conf --worker 1 --maxGB 5 --waitSec 30"
   ]
  },
  {
   "cell_type": "code",
   "execution_count": 6,
   "metadata": {},
   "outputs": [],
   "source": [
    "trafficname = \"unv1\"\n",
    "scaledown = 10000000\n",
    "with open(f\"/home/annzhou/DRing/src/emp/datacentre/computerouting2/{trafficname}.conf\",'w') as f:\n",
    "    for H in range(1,5):\n",
    "        f.write(f\"python3 computerouting2/testtemporalH_wisc.py {trafficname} {scaledown} {H}\\n\")"
   ]
  }
 ],
 "metadata": {
  "kernelspec": {
   "display_name": "Python 3",
   "language": "python",
   "name": "python3"
  },
  "language_info": {
   "codemirror_mode": {
    "name": "ipython",
    "version": 3
   },
   "file_extension": ".py",
   "mimetype": "text/x-python",
   "name": "python",
   "nbconvert_exporter": "python",
   "pygments_lexer": "ipython3",
   "version": "3.8.10"
  }
 },
 "nbformat": 4,
 "nbformat_minor": 2
}
