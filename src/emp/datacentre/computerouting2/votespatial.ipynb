{
 "cells": [
  {
   "cell_type": "code",
   "execution_count": 10,
   "metadata": {},
   "outputs": [],
   "source": [
    "trafficname = \"prv1\"\n",
    "H = 1\n",
    "errortolerance = 0.01\n",
    "\n",
    "if trafficname.startswith(\"cluster\"):\n",
    "    numinterval = 48\n",
    "    scaledown = 100000\n",
    "else:\n",
    "    numinterval = 8\n",
    "    scaledown = 10000000\n",
    "routingnamearr = [\"ecmp\",\"su2\",\"su3\",\"32disjoint\"]\n",
    "outputfile = f\"/home/annzhou/DRing/src/emp/datacentre/computerouting2/output/votespatial_{trafficname}_{H}_{errortolerance}\"\n",
    "inputfile = f\"/home/annzhou/DRing/src/emp/datacentre/computerouting2/output/spatial_dring_{trafficname}_-1_0_64_d{scaledown}\"\n",
    "\n",
    "datadict = dict()\n",
    "for routingname in routingnamearr:\n",
    "    datadict[routingname] = dict()\n",
    "with open(inputfile,'r') as f:\n",
    "    lines = f.readlines()\n",
    "    for line in lines:\n",
    "        tokens = line.split(',')\n",
    "        routingname = tokens[0]\n",
    "        interval = int(tokens[1])\n",
    "        throughput = float(tokens[2])\n",
    "        datadict[routingname][interval] = throughput\n",
    "\n",
    "\n",
    "# from chatgpt\n",
    "def find_max_indices(numbers, tolerance):\n",
    "    # Find the maximum value in the list\n",
    "    max_value = max(numbers)\n",
    "    \n",
    "    # Find all indices where the value is within the tolerance of the maximum value\n",
    "    indices = [i for i, value in enumerate(numbers) if abs(value - max_value)/max_value <= tolerance]\n",
    "    \n",
    "    return indices\n",
    "\n",
    "\n",
    "vote_per_interval = list()\n",
    "for interval in range(numinterval):\n",
    "    throughputlist = list()\n",
    "    for routingname in routingnamearr:\n",
    "        throughputlist.append(datadict[routingname][interval])\n",
    "    vote_indices = find_max_indices(throughputlist,errortolerance)\n",
    "    vote_per_interval.append(vote_indices)\n",
    "\n",
    "with open(outputfile,'w') as f:\n",
    "    for solveinterval in range(H,numinterval):\n",
    "        totalvote = [0,0,0,0]\n",
    "        for computeinterval in range(solveinterval-H,solveinterval):\n",
    "            myvotes = vote_per_interval[computeinterval]\n",
    "            for myvote in myvotes:\n",
    "                totalvote[myvote] += 1\n",
    "        maxvotes = find_max_indices(totalvote,0)\n",
    "        for maxvote in maxvotes:\n",
    "            f.write(f\"{solveinterval},{maxvote}\\n\")"
   ]
  }
 ],
 "metadata": {
  "kernelspec": {
   "display_name": "Python 3",
   "language": "python",
   "name": "python3"
  },
  "language_info": {
   "codemirror_mode": {
    "name": "ipython",
    "version": 3
   },
   "file_extension": ".py",
   "mimetype": "text/x-python",
   "name": "python",
   "nbconvert_exporter": "python",
   "pygments_lexer": "ipython3",
   "version": "3.8.10"
  }
 },
 "nbformat": 4,
 "nbformat_minor": 2
}
