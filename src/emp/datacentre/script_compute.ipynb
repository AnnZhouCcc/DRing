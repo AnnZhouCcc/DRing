{
 "cells": [
  {
   "cell_type": "code",
   "execution_count": 4,
   "metadata": {},
   "outputs": [
    {
     "name": "stdout",
     "output_type": "stream",
     "text": [
      "average=1.6759493670886076, max=2, sum=10592, count=6320\n"
     ]
    }
   ],
   "source": [
    "topology = \"rrg\"\n",
    "\n",
    "netpathfile = f\"netpathfiles/netpath_ecmp_{topology}.txt\"\n",
    "with open(netpathfile,'r') as f:\n",
    "    plensum = 0\n",
    "    plencount = 0\n",
    "    plenmax = 0\n",
    "    shouldadd = False\n",
    "    lines = f.readlines()\n",
    "    for index,line in enumerate(lines):\n",
    "        if \"->\" not in line:\n",
    "            tokens = line.split()\n",
    "            numpaths = int(tokens[2])\n",
    "            if numpaths > 0:\n",
    "                shouldadd = True\n",
    "        else:\n",
    "            if shouldadd:\n",
    "                tokens = line.split()\n",
    "                plensum += len(tokens)\n",
    "                if len(tokens) > plenmax:\n",
    "                    plenmax = len(tokens)\n",
    "                plencount += 1\n",
    "                shouldadd = False\n",
    "print(f\"average={plensum/plencount}, max={plenmax}, sum={plensum}, count={plencount}\")"
   ]
  }
 ],
 "metadata": {
  "kernelspec": {
   "display_name": "Python 3",
   "language": "python",
   "name": "python3"
  },
  "language_info": {
   "codemirror_mode": {
    "name": "ipython",
    "version": 3
   },
   "file_extension": ".py",
   "mimetype": "text/x-python",
   "name": "python",
   "nbconvert_exporter": "python",
   "pygments_lexer": "ipython3",
   "version": "3.10.12"
  }
 },
 "nbformat": 4,
 "nbformat_minor": 2
}
