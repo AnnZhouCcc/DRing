{
 "cells": [
  {
   "cell_type": "markdown",
   "metadata": {},
   "source": [
    "Find the average of getFlowBytes"
   ]
  },
  {
   "cell_type": "code",
   "execution_count": null,
   "metadata": {},
   "outputs": [],
   "source": [
    "// c++ run on https://cpp.sh/\n",
    "#include <iostream>\n",
    "#include <string>\n",
    "#include <random>\n",
    "\n",
    "int main()\n",
    "{\n",
    "    int mean_bytes = 100.0 * 1024;\n",
    "    double shape = 1.05;\n",
    "    double scale = mean_bytes * (shape - 1)/shape;\n",
    "    std::exponential_distribution<double> exp_distribution = std::exponential_distribution<double>(shape);\n",
    "    std::default_random_engine generator;\n",
    "\n",
    "    int large_flow_threshold = 10 * 1024 * 1024;\n",
    "    int count = 50000;\n",
    "    int sum = 0;\n",
    "    double x = 0;\n",
    "    int bytes = 0;\n",
    "    for (int i=0; i<count; i++) {\n",
    "        x = exp_distribution(generator);\n",
    "        bytes = scale * exp(x);\n",
    "        while (bytes<0 or bytes>large_flow_threshold){\n",
    "            x = exp_distribution(generator);\n",
    "            bytes = scale * exp(x);\n",
    "        }\n",
    "        sum += bytes;\n",
    "    }\n",
    "    \n",
    "    std::cout << \"average=\" << sum/(double)count << std::endl;\n",
    "}"
   ]
  },
  {
   "cell_type": "markdown",
   "metadata": {},
   "source": [
    "Check whether the pathweightfiles exist"
   ]
  },
  {
   "cell_type": "code",
   "execution_count": 5,
   "metadata": {},
   "outputs": [],
   "source": [
    "import os\n",
    "\n",
    "conffile = \"/home/annzhou/DRing/src/emp/datacentre/experiments/rerun_sigcomm24/r2r0.conf\"\n",
    "with open(conffile,'r') as f:\n",
    "    lines = f.readlines()\n",
    "    for line in lines:\n",
    "        tokens = line.split()\n",
    "        pwfile = tokens[23]\n",
    "        if not os.path.exists(f\"/home/annzhou/DRing/src/emp/datacentre/{pwfile}\"):\n",
    "            print(f\"File not exist: {pwfile}\")\n"
   ]
  },
  {
   "cell_type": "code",
   "execution_count": 28,
   "metadata": {},
   "outputs": [],
   "source": [
    "import os\n",
    "\n",
    "conffile = \"/home/annzhou/DRing/src/emp/datacentre/experiments/rerun_sigcomm24/clusterb.conf\"\n",
    "with open(conffile,'r') as f:\n",
    "    lines = f.readlines()\n",
    "    for line in lines:\n",
    "        tokens = line.split()\n",
    "        solvestart = int(tokens[12])\n",
    "        solveend = int(tokens[13])\n",
    "        solveinterval = int(tokens[14])\n",
    "        computestart = int(tokens[15])\n",
    "        computeinterval = int(tokens[17])\n",
    "        pwfile = tokens[23]\n",
    "        dp = tokens[24]\n",
    "        numintervals = int((solveend-solvestart)/solveinterval)+1\n",
    "        # print(numintervals)\n",
    "        for i in range(numintervals):\n",
    "            if computeinterval == 0:\n",
    "                mypwfile = pwfile\n",
    "            else:\n",
    "                mypwfile = f\"{pwfile}{computestart+i*solveinterval}_{computestart+i*solveinterval+computeinterval}_{dp}.txt\"\n",
    "            if not os.path.exists(f\"/home/annzhou/DRing/src/emp/datacentre/{mypwfile}\"):\n",
    "                print(f\"File not exist: {mypwfile}\")\n"
   ]
  },
  {
   "cell_type": "markdown",
   "metadata": {},
   "source": [
    "Store into picklefile and produce sumfile"
   ]
  },
  {
   "cell_type": "code",
   "execution_count": 8,
   "metadata": {},
   "outputs": [],
   "source": [
    "trafficname = \"r2r0\"\n",
    "\n",
    "import pickle\n",
    "\n",
    "conffile = f\"/home/annzhou/DRing/src/emp/datacentre/experiments/rerun_sigcomm24/{trafficname}.conf\"\n",
    "sumfile = f\"/home/annzhou/DRing/src/emp/datacentre/experiments/rerun_sigcomm24/{trafficname}.txt\"\n",
    "datadict = dict()\n",
    "with open(conffile,'r') as f:\n",
    "    with open(sumfile,'a') as sumf:\n",
    "        lines = f.readlines()\n",
    "        for line in lines:\n",
    "            tokens = line.split()\n",
    "            logfile = tokens[29]\n",
    "            sizelist = list()\n",
    "            durationlist = list()\n",
    "            startlist = list()\n",
    "            with open(f\"/home/annzhou/DRing/src/emp/datacentre/{logfile}\",'r') as logf:\n",
    "                loglines = logf.readlines()\n",
    "                for logline in loglines:\n",
    "                    logtokens = logline.split()\n",
    "                    if logtokens[0] == \"FCT\":\n",
    "                        durationlist.append(float(logtokens[2]))\n",
    "                        sizelist.append(int(logtokens[1]))\n",
    "                        startlist.append(float(logtokens[3]))\n",
    "            datadict[logfile] = [durationlist,sizelist,startlist]\n",
    "            durationlist.sort()\n",
    "            sumf.write(f\"{logfile}\\t{sum(durationlist)/len(durationlist)}\\t{durationlist[int(len(durationlist)*0.5)]}\\t{durationlist[int(len(durationlist)*0.99)]}\\t{durationlist[int(len(durationlist)*0.9999)]}\\n\")\n",
    "\n",
    "with open(f'/home/annzhou/DRing/src/emp/datacentre/experiments/rerun_sigcomm24/{trafficname}.pickle', 'wb') as handle:\n",
    "    pickle.dump(datadict, handle, protocol=pickle.HIGHEST_PROTOCOL)"
   ]
  },
  {
   "cell_type": "markdown",
   "metadata": {},
   "source": [
    "Delete logfiles"
   ]
  },
  {
   "cell_type": "code",
   "execution_count": 9,
   "metadata": {},
   "outputs": [],
   "source": [
    "import os\n",
    "\n",
    "conffile = \"/home/annzhou/DRing/src/emp/datacentre/experiments/rerun_sigcomm24/r2r0.conf\"\n",
    "with open(conffile,'r') as f:\n",
    "    lines = f.readlines()\n",
    "    for line in lines:\n",
    "        tokens = line.split()\n",
    "        logfile = tokens[29]\n",
    "        os.remove(f\"/home/annzhou/DRing/src/emp/datacentre/{logfile}\")"
   ]
  },
  {
   "cell_type": "markdown",
   "metadata": {},
   "source": [
    "Test correctness plot cwnd"
   ]
  },
  {
   "cell_type": "code",
   "execution_count": 5,
   "metadata": {},
   "outputs": [
    {
     "data": {
      "image/png": "[encoded data removed]",
      "text/plain": [
       "<Figure size 640x480 with 1 Axes>"
      ]
     },
     "metadata": {},
     "output_type": "display_data"
    }
   ],
   "source": [
    "logfile = \"/home/annzhou/DRing/src/emp/datacentre/m_testcor_rrg_ecmp_a2a_equal.log\"\n",
    "timelist1 = list()\n",
    "cwndlist1 = list()\n",
    "timelist2 = list()\n",
    "cwndlist2 = list()\n",
    "timelist3 = list()\n",
    "droplist3 = list()\n",
    "with open(logfile,'r') as f:\n",
    "    lines = f.readlines()\n",
    "    for line in lines:\n",
    "        if len(line.split(','))==3 and len(line.split(',')[1].split('='))==2 and line.split(',')[1].split('=')[0]==\"flowsize\":\n",
    "            tokens = line.split(',')\n",
    "            now = int(tokens[0].split('=')[1])\n",
    "            size = int(tokens[1].split('=')[1])\n",
    "            cwnd = int(tokens[2].split('=')[1])\n",
    "            if size==5245500:\n",
    "                timelist1.append(now)\n",
    "                cwndlist1.append(cwnd)\n",
    "            elif size==10488000:\n",
    "                timelist2.append(now)\n",
    "                cwndlist2.append(cwnd)\n",
    "            else:\n",
    "                print(f\"Error: flowsize={size}\")\n",
    "        if len(line.split(','))==3 and line.split(',')[1]==\"drop\":\n",
    "            timelist3.append(now)\n",
    "            droplist3.append(cwnd)\n",
    "\n",
    "import matplotlib\n",
    "import matplotlib.pyplot as plt\n",
    "\n",
    "plt.plot(timelist1,cwndlist1,label=\"f1\")\n",
    "plt.plot(timelist2,cwndlist2,label=\"f2\")\n",
    "plt.plot(timelist3,droplist3,label=\"drop\",marker=\"^\")\n",
    "plt.legend()\n",
    "plt.xlabel(\"time\")\n",
    "plt.ylabel(\"cwnd\")\n",
    "plt.title(\"a2a\")\n",
    "# plt.savefig(f\"/home/annzhou/DRing/src/emp/datacentre/experiments/rerun_sigcomm24/a2a.png\", bbox_inches='tight', dpi=500)\n",
    "plt.show()\n",
    "plt.close()"
   ]
  },
  {
   "cell_type": "markdown",
   "metadata": {},
   "source": [
    "Calculate total traffic across all pairs of servers per cluster in the file\n",
    "\n",
    "cluster a: total 6642540978 bytes\n",
    "mult=6.232554701147679\n",
    "\n",
    "cluster b: total 102766683282 bytes\n",
    "mult=0.40285429750024226\n",
    "\n",
    "cluster c: total 145701131197 bytes\n",
    "mult=0.2841432984073663"
   ]
  },
  {
   "cell_type": "code",
   "execution_count": null,
   "metadata": {},
   "outputs": [],
   "source": [
    "myclusterstr = \"c\"\n",
    "\n",
    "clusterfilesuffix = dict()\n",
    "clusterfilesuffix[\"a\"] = [\"_0_273\"]\n",
    "clusterfilesuffix[\"b\"] = [\"_0_500\",\"_500_1000\",\"_1000_1500\",\"_1500_2000\",\"_2000_2500\",\"_2500_2900\"]\n",
    "clusterfilesuffix[\"c\"] = [\"_0_273\"]\n",
    "\n",
    "totalbytes = 0\n",
    "for suffix in clusterfilesuffix[myclusterstr]:\n",
    "  with open(f\"/home/annzhou/DRing/src/emp/datacentre/trafficfiles/cluster_{myclusterstr}/traffic_64racks{suffix}\",'r') as f:\n",
    "    lines = f.readlines()\n",
    "    for line in lines:\n",
    "      tokens = line.split()\n",
    "      mybytes = int(tokens[1])\n",
    "      totalbytes += mybytes\n",
    "print(f\"cluster {myclusterstr}: total {totalbytes} bytes\")\n",
    "\n",
    "\n",
    "target = 41.4*1e9 # bytes, for 150ms\n",
    "mult = target/totalbytes\n",
    "print(f\"mult={mult}\")"
   ]
  },
  {
   "cell_type": "markdown",
   "metadata": {},
   "source": [
    "Bulk untar rrg su3 cluster* dbr"
   ]
  },
  {
   "cell_type": "code",
   "execution_count": 27,
   "metadata": {},
   "outputs": [
    {
     "name": "stdout",
     "output_type": "stream",
     "text": [
      "tar -zxvf rrg_su3_clusterb_dbr0.tar.gz && tar -zxvf rrg_su3_clusterb_dbr1.tar.gz && tar -zxvf rrg_su3_clusterb_dbr2.tar.gz && tar -zxvf rrg_su3_clusterb_dbr3.tar.gz && tar -zxvf rrg_su3_clusterb_dbr4.tar.gz && tar -zxvf rrg_su3_clusterb_dbr5_0.tar.gz && tar -zxvf rrg_su3_clusterb_dbr5_1.tar.gz && tar -zxvf rrg_su3_clusterb_dbr6.tar.gz && tar -zxvf rrg_su3_clusterb_dbr7_0.tar.gz && tar -zxvf rrg_su3_clusterb_dbr7_1.tar.gz && tar -zxvf rrg_su3_clusterb_dbr8.tar.gz && tar -zxvf rrg_su3_clusterb_dbr9.tar.gz\n"
     ]
    }
   ],
   "source": [
    "commandstr = \"\"\n",
    "# clustername = \"a\"\n",
    "# strarr = [\"0\",\"1\",\"2\",\"3\",\"4\",\"5\",\"6\",\"7_0\",\"7_1\",\"8\",\"9\"]\n",
    "clustername = \"b\"\n",
    "strarr = [\"0\",\"1\",\"2\",\"3\",\"4\",\"5_0\",\"5_1\",\"6\",\"7_0\",\"7_1\",\"8\",\"9\"]\n",
    "\n",
    "for mystr in strarr:\n",
    "    if commandstr != \"\": commandstr += \" && \"\n",
    "    commandstr += f\"tar -zxvf rrg_su3_cluster{clustername}_dbr{mystr}.tar.gz\"\n",
    "print(commandstr)"
   ]
  }
 ],
 "metadata": {
  "kernelspec": {
   "display_name": "Python 3",
   "language": "python",
   "name": "python3"
  },
  "language_info": {
   "codemirror_mode": {
    "name": "ipython",
    "version": 3
   },
   "file_extension": ".py",
   "mimetype": "text/x-python",
   "name": "python",
   "nbconvert_exporter": "python",
   "pygments_lexer": "ipython3",
   "version": "3.8.10"
  }
 },
 "nbformat": 4,
 "nbformat_minor": 2
}
