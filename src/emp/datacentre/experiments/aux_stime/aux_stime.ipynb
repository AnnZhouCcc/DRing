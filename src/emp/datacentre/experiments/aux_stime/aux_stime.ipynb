{
 "cells": [
  {
   "cell_type": "markdown",
   "metadata": {},
   "source": [
    "generate conffile (print)"
   ]
  },
  {
   "cell_type": "code",
   "execution_count": 4,
   "metadata": {},
   "outputs": [],
   "source": [
    "multstr_a = \"0 1 3\"\n",
    "multstr_b = \"0 1 6\"\n",
    "stimestr_a = \"50 150 200\"\n",
    "stimestr_b = \"25 75 100\"\n",
    "multname_a = \"200ms\"\n",
    "multname_b = \"100ms\"\n",
    "multstr_c = \"0 1 2\"\n",
    "stimestr_c = \"75 225 300\"\n",
    "multname_c = \"300ms\"\n",
    "rtname = \"su2\"\n",
    "rt1 = \"su\"\n",
    "rt2 = 2\n",
    "pwname = \"equal\"\n",
    "lf = 0\n",
    "\n",
    "pwfile = f\"pathweightfiles/dring/{rtname}/pathweight_dring_{rtname}_equal_64.txt\"\n",
    "with open(\"/home/annzhou/DRing/src/emp/datacentre/experiments/aux_stime/aux_stime.conf\",'w') as f:\n",
    "    for fseed in [0,2,3,4,5]:\n",
    "        f.write(f\"./run.sh RRG MAKE 80 2988 64 dring_a2a A2A graphfiles/ring_supergraph/double_ring/instance1_80_64.edgelist {multstr_a} 0 0 0 0 0 0 {rt1} {rt2} null {fseed} netpathfiles/netpath_{rtname}_dring.txt {pwfile} 64 {stimestr_a} 0 0 > m_linkfailure_dring_{rtname}_a2a_{pwname}_{multname_a}_{fseed}.log\\n\")\n",
    "        f.write(f\"./run.sh RRG NOMAKE 80 2988 64 dring_a2a A2A graphfiles/ring_supergraph/double_ring/instance1_80_64.edgelist {multstr_b} 0 0 0 0 0 0 {rt1} {rt2} null {fseed} netpathfiles/netpath_{rtname}_dring.txt {pwfile} 64 {stimestr_b} 0 0 > m_linkfailure_dring_{rtname}_a2a_{pwname}_{multname_b}_{fseed}.log\\n\")\n",
    "        f.write(f\"./run.sh RRG NOMAKE 80 2988 64 dring_a2a A2A graphfiles/ring_supergraph/double_ring/instance1_80_64.edgelist {multstr_c} 0 0 0 0 0 0 {rt1} {rt2} null {fseed} netpathfiles/netpath_{rtname}_dring.txt {pwfile} 64 {stimestr_c} 0 0 > m_linkfailure_dring_{rtname}_a2a_{pwname}_{multname_c}_{fseed}.log\\n\")"
   ]
  },
  {
   "cell_type": "markdown",
   "metadata": {},
   "source": [
    "compute"
   ]
  },
  {
   "cell_type": "code",
   "execution_count": 5,
   "metadata": {},
   "outputs": [
    {
     "name": "stdout",
     "output_type": "stream",
     "text": [
      "m_linkfailure_dring_su2_a2a_equal_200ms_0.log\n",
      "m_linkfailure_dring_su2_a2a_equal_100ms_0.log\n",
      "m_linkfailure_dring_su2_a2a_equal_300ms_0.log\n",
      "m_linkfailure_dring_su2_a2a_equal_200ms_2.log\n",
      "m_linkfailure_dring_su2_a2a_equal_100ms_2.log\n",
      "m_linkfailure_dring_su2_a2a_equal_300ms_2.log\n",
      "m_linkfailure_dring_su2_a2a_equal_200ms_3.log\n",
      "m_linkfailure_dring_su2_a2a_equal_100ms_3.log\n",
      "m_linkfailure_dring_su2_a2a_equal_300ms_3.log\n",
      "m_linkfailure_dring_su2_a2a_equal_200ms_4.log\n",
      "m_linkfailure_dring_su2_a2a_equal_100ms_4.log\n",
      "m_linkfailure_dring_su2_a2a_equal_300ms_4.log\n",
      "m_linkfailure_dring_su2_a2a_equal_200ms_5.log\n",
      "m_linkfailure_dring_su2_a2a_equal_100ms_5.log\n",
      "m_linkfailure_dring_su2_a2a_equal_300ms_5.log\n"
     ]
    }
   ],
   "source": [
    "homedir = \"/home/annzhou\"\n",
    "# lines = [\n",
    "#     \"./run.sh RRG MAKE 80 2988 64 dring_a2a A2A graphfiles/ring_supergraph/double_ring/instance1_80_64.edgelist 0 1 3 0 0 0 0 0 0 su 2 null 0 netpathfiles/netpath_su2_dring.txt pathweightfiles/dring/su2/pathweight_dring_su2_equal_64.txt 64 50 150 200 0 0 > m_linkfailure_dring_su2_a2a_equal_200ms.log\",\n",
    "#     \"./run.sh RRG NOMAKE 80 2988 64 dring_a2a A2A graphfiles/ring_supergraph/double_ring/instance1_80_64.edgelist 0 1 6 0 0 0 0 0 0 su 2 null 0 netpathfiles/netpath_su2_dring.txt pathweightfiles/dring/su2/pathweight_dring_su2_equal_64.txt 64 25 75 100 0 0 > m_linkfailure_dring_su2_a2a_equal_100ms.log\",\n",
    "#     \"./run.sh RRG NOMAKE 80 2988 64 dring_a2a A2A graphfiles/ring_supergraph/double_ring/instance1_80_64.edgelist 0 1 2 0 0 0 0 0 0 su 2 null 0 netpathfiles/netpath_su2_dring.txt pathweightfiles/dring/su2/pathweight_dring_su2_equal_64.txt 64 75 225 300 0 0 > m_linkfailure_dring_su2_a2a_equal_300ms.log\"\n",
    "# ]\n",
    "conffile = f\"{homedir}/DRing/src/emp/datacentre/experiments/aux_stime/aux_stime.conf\"\n",
    "sumfile = f\"{homedir}/DRing/src/emp/datacentre/experiments/aux_stime/aux_stime.txt\"\n",
    "with open(conffile,'r') as f:\n",
    "    lines = f.readlines()\n",
    "    with open(sumfile,'a') as sumf:\n",
    "        for line in lines:\n",
    "            tokens = line.split()\n",
    "            logfile = tokens[31]\n",
    "            sizelist = list()\n",
    "            durationlist = list()\n",
    "            startlist = list()\n",
    "            with open(f\"{homedir}/DRing/src/emp/datacentre/{logfile}\",'r') as logf:\n",
    "                print(logfile)\n",
    "                loglines = logf.readlines()\n",
    "                for logline in loglines:\n",
    "                    logtokens = logline.split()\n",
    "                    if logtokens[0] == \"FCT\":\n",
    "                        durationlist.append(float(logtokens[2]))\n",
    "                        sizelist.append(int(logtokens[1]))\n",
    "                        startlist.append(float(logtokens[3]))\n",
    "            sumf.write(f\"{logfile}\\t{sum(durationlist)/len(durationlist)}\\t{durationlist[int(len(durationlist)*0.5)]}\\t{durationlist[int(len(durationlist)*0.99)]}\\t{durationlist[int(len(durationlist)*0.9999)]}\\n\")"
   ]
  },
  {
   "cell_type": "markdown",
   "metadata": {},
   "source": [
    "compute"
   ]
  },
  {
   "cell_type": "code",
   "execution_count": 6,
   "metadata": {},
   "outputs": [
    {
     "name": "stdout",
     "output_type": "stream",
     "text": [
      "100ms: 0.09542764\n",
      "200ms: 0.11798067999999999\n",
      "300ms: 0.1249115\n"
     ]
    }
   ],
   "source": [
    "sumfile = f\"{homedir}/DRing/src/emp/datacentre/experiments/aux_stime/aux_stime.txt\"\n",
    "with open(sumfile,'r') as f:\n",
    "    lines = f.readlines()\n",
    "    lines100 = lines[:5]\n",
    "    sum100 = 0\n",
    "    for line in lines100:\n",
    "        tokens = line.split()\n",
    "        fct = float(tokens[3])\n",
    "        sum100 += fct\n",
    "    print(f\"100ms: {sum100/5}\")\n",
    "    lines200 = lines[5:10]\n",
    "    sum200 = 0\n",
    "    for line in lines200:\n",
    "        tokens = line.split()\n",
    "        fct = float(tokens[3])\n",
    "        sum200 += fct\n",
    "    print(f\"200ms: {sum200/5}\")\n",
    "    lines300 = lines[10:]\n",
    "    sum300 = 0\n",
    "    for line in lines300:\n",
    "        tokens = line.split()\n",
    "        fct = float(tokens[3])\n",
    "        sum300 += fct\n",
    "    print(f\"300ms: {sum300/5}\")\n"
   ]
  },
  {
   "cell_type": "markdown",
   "metadata": {},
   "source": [
    "delete logfile"
   ]
  },
  {
   "cell_type": "code",
   "execution_count": 17,
   "metadata": {},
   "outputs": [],
   "source": [
    "import os\n",
    "\n",
    "homedir = \"/home/annzhou\"\n",
    "conffile = f\"{homedir}/DRing/src/emp/datacentre/experiments/linkfailure/dring_10.conf\"\n",
    "with open(conffile,'r') as f:\n",
    "    lines = f.readlines()\n",
    "    for line in lines:\n",
    "        tokens = line.split()\n",
    "        logfile = tokens[31]\n",
    "        os.remove(f\"{homedir}/DRing/src/emp/datacentre/{logfile}\")"
   ]
  },
  {
   "cell_type": "markdown",
   "metadata": {},
   "source": [
    "delete log & run"
   ]
  },
  {
   "cell_type": "code",
   "execution_count": null,
   "metadata": {},
   "outputs": [],
   "source": [
    "import os\n",
    "\n",
    "homedir = \"/home/annzhou\"\n",
    "dringdir = f\"{homedir}/DRing/src/emp/datacentre\"\n",
    "for filedir in os.listdir(dringdir):\n",
    "    if os.path.isfile(os.path.join(dringdir, filedir)):\n",
    "        tokens = filedir.split(\"_\")\n",
    "        if (tokens[0]==\"rrg\" or tokens[0]==\"leafspine\") and tokens[1]==\"log\":\n",
    "            print(filedir)\n",
    "            os.remove(f\"{homedir}/DRing/src/emp/datacentre/{filedir}\")\n",
    "        if (tokens[-1]==\"run\") and ((tokens[0]==\"leafspine\" and tokens[1]==\"leafspine\") or (tokens[0]==\"rrg\" and (tokens[1]==\"rrg\" or tokens[1]==\"dring\"))):\n",
    "            print(filedir)\n",
    "            os.remove(f\"{homedir}/DRing/src/emp/datacentre/{filedir}\")\n"
   ]
  }
 ],
 "metadata": {
  "kernelspec": {
   "display_name": "Python 3",
   "language": "python",
   "name": "python3"
  },
  "language_info": {
   "codemirror_mode": {
    "name": "ipython",
    "version": 3
   },
   "file_extension": ".py",
   "mimetype": "text/x-python",
   "name": "python",
   "nbconvert_exporter": "python",
   "pygments_lexer": "ipython3",
   "version": "3.8.10"
  }
 },
 "nbformat": 4,
 "nbformat_minor": 2
}
