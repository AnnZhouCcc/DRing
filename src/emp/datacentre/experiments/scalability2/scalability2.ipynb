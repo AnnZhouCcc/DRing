{
 "cells": [
  {
   "cell_type": "markdown",
   "metadata": {},
   "source": [
    "calculate mult"
   ]
  },
  {
   "cell_type": "code",
   "execution_count": 1,
   "metadata": {},
   "outputs": [
    {
     "name": "stdout",
     "output_type": "stream",
     "text": [
      "/home/annzhou/DRing/src/emp/datacentre/scalegraphfiles2/dring_deg96_sw120_sn12_i1.edgelist: 0.4746279147721861\n",
      "/home/annzhou/DRing/src/emp/datacentre/scalegraphfiles2/rrg_deg96_sw120_svr6720_os1_i1.edgelist: 0.4746279147721861\n",
      "/home/annzhou/DRing/src/emp/datacentre/scalegraphfiles2/dring_deg96_sw140_sn14_i1.edgelist: 0.4052595491890543\n",
      "/home/annzhou/DRing/src/emp/datacentre/scalegraphfiles2/rrg_deg96_sw140_svr7840_os1_i1.edgelist: 0.4052595491890543\n",
      "/home/annzhou/DRing/src/emp/datacentre/scalegraphfiles2/dring_deg96_sw160_sn16_i1.edgelist: 0.35640853132328815\n",
      "/home/annzhou/DRing/src/emp/datacentre/scalegraphfiles2/rrg_deg96_sw160_svr8960_os1_i1.edgelist: 0.35640853132328815\n",
      "/home/annzhou/DRing/src/emp/datacentre/scalegraphfiles2/dring_deg96_sw180_sn18_i1.edgelist: 0.31642056605823254\n",
      "/home/annzhou/DRing/src/emp/datacentre/scalegraphfiles2/rrg_deg96_sw180_svr10080_os1_i1.edgelist: 0.31642056605823254\n",
      "/home/annzhou/DRing/src/emp/datacentre/scalegraphfiles2/dring_deg96_sw200_sn20_i1.edgelist: 0.28519348048731186\n",
      "/home/annzhou/DRing/src/emp/datacentre/scalegraphfiles2/rrg_deg96_sw200_svr11200_os1_i1.edgelist: 0.28519348048731186\n"
     ]
    }
   ],
   "source": [
    "loadlevel = 0.1\n",
    "\n",
    "graphnamelist = [\"dring\",\"rrg\"]\n",
    "swlist = [120,140,160,180,200]\n",
    "deg = 96\n",
    "swpersn = 10\n",
    "filenameprefix = \"/home/annzhou/DRing/src/emp/datacentre/scalegraphfiles2/\"\n",
    "flowfilenameprefix = \"/home/annzhou/DRing/src/emp/datacentre/flowfiles/c2s_\"\n",
    "for sw in swlist:\n",
    "    svr = sw*56\n",
    "    for graphname in graphnamelist:\n",
    "        if graphname==\"dring\":\n",
    "            filename = f\"{filenameprefix}dring_deg{deg}_sw{sw}_sn{sw//swpersn}_i1.edgelist\"\n",
    "        elif graphname==\"rrg\":\n",
    "            filename = f\"{filenameprefix}rrg_deg{deg}_sw{sw}_svr{svr}_os1_i1.edgelist\"\n",
    "        with open(filename,'r') as f:\n",
    "            numlink = len(f.readlines())\n",
    "            \n",
    "        flowfile = f\"{flowfilenameprefix}{svr}_{sw}_{deg}_{int(sw*0.9)}_{sw-int(sw*0.9)}_1_0_0_0\"\n",
    "        bytespermult = 0\n",
    "        with open(flowfile,'r') as f:\n",
    "            lines = f.readlines()\n",
    "            for line in lines:\n",
    "                tokens = line.split(',')\n",
    "                bytespermult += int(tokens[2])\n",
    "            \n",
    "        bytesperlink = 894784*1500*0.2 # 894784 packets per second, 1500B per packet, 200ms\n",
    "        totalbytes = bytesperlink*numlink # *2 for 2 directions, /2 for 2 hops per flow\n",
    "        usablebytes = totalbytes*loadlevel\n",
    "        mult = usablebytes/bytespermult\n",
    "        print(f\"{filename}: {mult}\")"
   ]
  },
  {
   "cell_type": "markdown",
   "metadata": {},
   "source": [
    "generate conffile"
   ]
  },
  {
   "cell_type": "code",
   "execution_count": 5,
   "metadata": {},
   "outputs": [],
   "source": [
    "graphname = \"dring\"\n",
    "routingname = \"su3\"\n",
    "rt1 = \"su\"\n",
    "rt2 = 3\n",
    "swlist = range(120,181,20)\n",
    "multlistarr = [[0,47,100],[0,41,100],[0,36,100],[0,32,100]]\n",
    "sseedarr = range(1,6)\n",
    "numport = 96\n",
    "swpersn = 10\n",
    "\n",
    "conffile = f\"/home/annzhou/DRing/src/emp/datacentre/experiments/scalability2/{graphname}.conf\"\n",
    "with open(conffile,'w') as f:\n",
    "    for inumsw,numsw in enumerate(swlist):\n",
    "        multlist = multlistarr[inumsw]\n",
    "        multstr = f\"{multlist[0]}_{multlist[1]}_{multlist[2]}\"\n",
    "        numserver = numsw*56\n",
    "        c = int(numsw*0.9)\n",
    "        s = numsw-c\n",
    "\n",
    "        trafficfile = f\"flowfiles/c2s_{numserver}_{numsw}_{numport}_{c}_{s}_{multstr}_0\"\n",
    "        dringqvarfile = f\"qvarfiles/qvar_{graphname}_{numserver}_{numsw}_{numport}_0_0_{routingname}_c2s_{c}_{s}_0_{multstr}_2_0_64\"\n",
    "        dringnetpathfile = f\"netpathfiles/netpath_{routingname}_{graphname}_{numserver}_{numsw}_{numport}\"\n",
    "        dringscalegraphfile = f\"scalegraphfiles2/dring_deg{numport}_sw{numsw}_sn{numsw//swpersn}_i1.edgelist\"\n",
    "        dringserverfile = f\"serverfiles/{graphname}_{numserver}_{numsw}_{numport}\"\n",
    "        makedring = \"MAKE\"\n",
    "        for sseed in sseedarr:\n",
    "            f.write(f\"./run.sh RRG {makedring} {numsw} {numserver} {numport} {graphname}_{numsw} NEW_FILE {dringscalegraphfile} {multlist[0]} {multlist[1]} {multlist[2]} 0 0 0 0 0 0 {rt1} {rt2} {trafficfile} {dringserverfile} {sseed} {dringnetpathfile} {dringqvarfile} 64 50 150 200 0 0 > m_scalability2_{graphname}_{numsw}_{sseed}.log\\n\")\n",
    "            makedring = \"NOMAKE\""
   ]
  },
  {
   "cell_type": "code",
   "execution_count": 6,
   "metadata": {},
   "outputs": [],
   "source": [
    "graphname = \"rrg\"\n",
    "routingname = \"su3\"\n",
    "rt1 = \"su\"\n",
    "rt2 = 3\n",
    "swlist = range(120,181,20)\n",
    "multlistarr = [[0,47,100],[0,41,100],[0,36,100],[0,32,100]]\n",
    "sseedarr = range(1,6)\n",
    "numport = 96\n",
    "swpersn = 10\n",
    "\n",
    "conffile = f\"/home/annzhou/DRing/src/emp/datacentre/experiments/scalability2/{graphname}.conf\"\n",
    "with open(conffile,'w') as f:\n",
    "    for inumsw,numsw in enumerate(swlist):\n",
    "        multlist = multlistarr[inumsw]\n",
    "        multstr = f\"{multlist[0]}_{multlist[1]}_{multlist[2]}\"\n",
    "        numserver = numsw*56\n",
    "        c = int(numsw*0.9)\n",
    "        s = numsw-c\n",
    "\n",
    "        trafficfile = f\"flowfiles/c2s_{numserver}_{numsw}_{numport}_{c}_{s}_{multstr}_0\"\n",
    "        dringqvarfile = f\"qvarfiles/qvar_{graphname}_{numserver}_{numsw}_{numport}_0_0_{routingname}_c2s_{c}_{s}_0_{multstr}_2_0_64\"\n",
    "        dringnetpathfile = f\"netpathfiles/netpath_{routingname}_{graphname}_{numserver}_{numsw}_{numport}\"\n",
    "        dringscalegraphfile = f\"scalegraphfiles2/rrg_deg{numport}_sw{numsw}_svr{numserver}_os1_i1.edgelist\"\n",
    "        dringserverfile = f\"serverfiles/{graphname}_{numserver}_{numsw}_{numport}\"\n",
    "        makedring = \"MAKE\"\n",
    "        for sseed in sseedarr:\n",
    "            f.write(f\"./run.sh RRG {makedring} {numsw} {numserver} {numport} {graphname}_{numsw} NEW_FILE {dringscalegraphfile} {multlist[0]} {multlist[1]} {multlist[2]} 0 0 0 0 0 0 {rt1} {rt2} {trafficfile} {dringserverfile} {sseed} {dringnetpathfile} {dringqvarfile} 64 50 150 200 0 0 > m_scalability2_{graphname}_{numsw}_{sseed}.log\\n\")\n",
    "            makedring = \"NOMAKE\""
   ]
  },
  {
   "cell_type": "markdown",
   "metadata": {},
   "source": [
    "generate sumfile & picklefile"
   ]
  },
  {
   "cell_type": "code",
   "execution_count": null,
   "metadata": {},
   "outputs": [],
   "source": [
    "import pickle\n",
    "\n",
    "filename = \"rrg\"\n",
    "\n",
    "homedir = \"/home/annzhou\"\n",
    "datadict = dict()\n",
    "conffile = f\"{homedir}/DRing/src/emp/datacentre/experiments/scalability2/{filename}.conf\"\n",
    "sumfile = f\"{homedir}/DRing/src/emp/datacentre/experiments/scalability2/{filename}.txt\"\n",
    "with open(conffile,'r') as f:\n",
    "    with open(sumfile,'a') as sumf:\n",
    "        lines = f.readlines()\n",
    "        for line in lines:\n",
    "            tokens = line.split()\n",
    "            logfile = tokens[32]\n",
    "            sizelist = list()\n",
    "            durationlist = list()\n",
    "            startlist = list()\n",
    "            with open(f\"{homedir}/DRing/src/emp/datacentre/{logfile}\",'r') as logf:\n",
    "                print(logfile)\n",
    "                loglines = logf.readlines()\n",
    "                for logline in loglines:\n",
    "                    logtokens = logline.split()\n",
    "                    if logtokens[0] == \"FCT\":\n",
    "                        durationlist.append(float(logtokens[2]))\n",
    "                        sizelist.append(int(logtokens[1]))\n",
    "                        startlist.append(float(logtokens[3]))\n",
    "            datadict[logfile] = [durationlist,sizelist,startlist]\n",
    "            durationlist.sort()\n",
    "            sumf.write(f\"{logfile}\\t{sum(durationlist)/len(durationlist)}\\t{durationlist[int(len(durationlist)*0.5)]}\\t{durationlist[int(len(durationlist)*0.99)]}\\t{durationlist[int(len(durationlist)*0.9999)]}\\n\")\n",
    "\n",
    "with open(f'{homedir}/DRing/src/emp/datacentre/experiments/scalability2/{filename}.pickle', 'wb') as handle:\n",
    "    pickle.dump(datadict, handle, protocol=pickle.HIGHEST_PROTOCOL)"
   ]
  },
  {
   "cell_type": "markdown",
   "metadata": {},
   "source": [
    "plot"
   ]
  },
  {
   "cell_type": "code",
   "execution_count": 2,
   "metadata": {},
   "outputs": [
    {
     "data": {
      "image/png": "[encoded data removed]",
      "text/plain": [
       "<Figure size 640x480 with 1 Axes>"
      ]
     },
     "metadata": {},
     "output_type": "display_data"
    }
   ],
   "source": [
    "import matplotlib\n",
    "import matplotlib.pyplot as plt\n",
    "import numpy as np\n",
    "\n",
    "homedir = \"/home/annzhou\"\n",
    "dringsumfile = f\"{homedir}/DRing/src/emp/datacentre/experiments/scalability2/dring.txt\"\n",
    "rrgsumfile = f\"{homedir}/DRing/src/emp/datacentre/experiments/scalability2/rrg.txt\"\n",
    "swlist = [120,140,160]\n",
    "sseedarr = range(1,6)\n",
    "\n",
    "dringylist = list()\n",
    "with open(dringsumfile,'r') as f:\n",
    "    lines = f.readlines()\n",
    "    for sw in swlist:\n",
    "        dringseedlist = list()\n",
    "        for sseed in sseedarr:\n",
    "            logfile = f\"m_scalability2_dring_{sw}_{sseed}.log\"\n",
    "            for line in lines:\n",
    "                tokens = line.split()\n",
    "                if tokens[0] == logfile:\n",
    "                    n99fct = float(tokens[3])\n",
    "                    dringseedlist.append(n99fct)\n",
    "        dringylist.append(sum(dringseedlist)/len(dringseedlist))\n",
    "plt.plot(swlist,dringylist,label=\"dring\",marker='.')\n",
    "\n",
    "rrgylist = list()\n",
    "with open(rrgsumfile,'r') as f:\n",
    "    lines = f.readlines()\n",
    "    for sw in swlist:\n",
    "        rrgseedlist = list()\n",
    "        for sseed in sseedarr:\n",
    "            logfile = f\"m_scalability2_rrg_{sw}_{sseed}.log\"\n",
    "            for line in lines:\n",
    "                tokens = line.split()\n",
    "                if tokens[0] == logfile:\n",
    "                    n99fct = float(tokens[3])\n",
    "                    rrgseedlist.append(n99fct)\n",
    "        rrgylist.append(sum(rrgseedlist)/len(rrgseedlist))\n",
    "plt.plot(swlist,rrgylist,label=\"rrg\",marker='o')\n",
    "\n",
    "plt.legend()\n",
    "plt.xlabel('#sw')\n",
    "plt.ylabel('99ile fct (ms)')\n",
    "plt.title(f'all-to-10%, 5 runs, 50% load')\n",
    "# plt.ylim(0,20)\n",
    "# plt.savefig(f\"{homedir}/DRing/src/emp/datacentre/experiments/scalability/{trafficname}.png\", dpi=500)\n",
    "plt.show()"
   ]
  },
  {
   "cell_type": "markdown",
   "metadata": {},
   "source": [
    "delete"
   ]
  },
  {
   "cell_type": "code",
   "execution_count": null,
   "metadata": {},
   "outputs": [],
   "source": [
    "import os\n",
    "\n",
    "homedir = \"/home/annzhou\"\n",
    "dringdir = f\"{homedir}/DRing/src/emp/datacentre\"\n",
    "for filedir in os.listdir(dringdir):\n",
    "    if os.path.isfile(os.path.join(dringdir, filedir)):\n",
    "        tokens = filedir.split(\"_\")\n",
    "        if tokens[0]==\"m\" and tokens[1]==\"scalability2\" and tokens[-1].split('.')[-1]==\"log\":\n",
    "            print(filedir)\n",
    "            os.remove(f\"{homedir}/DRing/src/emp/datacentre/{filedir}\")\n",
    "        if (tokens[0]==\"rrg\" or tokens[0]==\"leafspine\") and tokens[1]==\"log\":\n",
    "            print(filedir)\n",
    "            os.remove(f\"{homedir}/DRing/src/emp/datacentre/{filedir}\")\n",
    "        if (tokens[-1]==\"run\") and ((tokens[0]==\"leafspine\" and tokens[1]==\"leafspine\") or (tokens[0]==\"rrg\" and (tokens[1]==\"rrg\" or tokens[1]==\"dring\"))):\n",
    "            print(filedir)\n",
    "            os.remove(f\"{homedir}/DRing/src/emp/datacentre/{filedir}\")"
   ]
  }
 ],
 "metadata": {
  "kernelspec": {
   "display_name": "Python 3",
   "language": "python",
   "name": "python3"
  },
  "language_info": {
   "codemirror_mode": {
    "name": "ipython",
    "version": 3
   },
   "file_extension": ".py",
   "mimetype": "text/x-python",
   "name": "python",
   "nbconvert_exporter": "python",
   "pygments_lexer": "ipython3",
   "version": "3.8.10"
  }
 },
 "nbformat": 4,
 "nbformat_minor": 2
}
