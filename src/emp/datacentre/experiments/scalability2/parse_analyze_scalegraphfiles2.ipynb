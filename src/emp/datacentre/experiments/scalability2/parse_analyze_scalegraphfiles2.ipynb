{
 "cells": [
  {
   "cell_type": "markdown",
   "metadata": {},
   "source": [
    "parse sw->sw from \"a b\" to \"a->b\", remove server->sw"
   ]
  },
  {
   "cell_type": "code",
   "execution_count": 1,
   "metadata": {},
   "outputs": [],
   "source": [
    "graphname = \"dring\"\n",
    "deg = 96\n",
    "swpersn = 10\n",
    "snlist = [12,14,16,18,20]\n",
    "for sn in snlist:\n",
    "    sw = swpersn*sn\n",
    "    readgraphfile = f\"/home/annzhou/DRing/src/emp/datacentre/scalegraphfiles2/withservers/{graphname}/{graphname}_deg{deg}_sw{sw}_sn{sn}_i1.edgelist\"\n",
    "    writegraphfile = f\"/home/annzhou/DRing/src/emp/datacentre/scalegraphfiles2/{graphname}_deg{deg}_sw{sw}_sn{sn}_i1.edgelist\"\n",
    "    with open(readgraphfile,'r') as f:\n",
    "        lines = f.readlines()\n",
    "    with open(writegraphfile,'w') as f:\n",
    "        for line in lines:\n",
    "            if \"->\" not in line:\n",
    "                tokens = line.split()\n",
    "                f.write(f\"{tokens[0]}->{tokens[1]}\\n\")"
   ]
  },
  {
   "cell_type": "code",
   "execution_count": 4,
   "metadata": {},
   "outputs": [],
   "source": [
    "graphname = \"rrg\"\n",
    "deg = 96\n",
    "swlist = [120,140,160,180,200]\n",
    "for sw in swlist:\n",
    "    svr = sw*56\n",
    "    readgraphfile = f\"/home/annzhou/DRing/src/emp/datacentre/scalegraphfiles2/withservers/{graphname}/{graphname}_deg{deg}_sw{sw}_svr{svr}_os1_i1.edgelist\"\n",
    "    writegraphfile = f\"/home/annzhou/DRing/src/emp/datacentre/scalegraphfiles2/{graphname}_deg{deg}_sw{sw}_svr{svr}_os1_i1.edgelist\"\n",
    "    with open(readgraphfile,'r') as f:\n",
    "        lines = f.readlines()\n",
    "    with open(writegraphfile,'w') as f:\n",
    "        for line in lines:\n",
    "            if \"->\" not in line:\n",
    "                tokens = line.split()\n",
    "                f.write(f\"{tokens[0]}->{tokens[1]}\\n\")"
   ]
  },
  {
   "cell_type": "markdown",
   "metadata": {},
   "source": [
    "calculate number of links"
   ]
  },
  {
   "cell_type": "code",
   "execution_count": 5,
   "metadata": {},
   "outputs": [
    {
     "name": "stdout",
     "output_type": "stream",
     "text": [
      "/home/annzhou/DRing/src/emp/datacentre/scalegraphfiles2/dring_deg96_sw120_sn12_i1.edgelist: 2400\n",
      "/home/annzhou/DRing/src/emp/datacentre/scalegraphfiles2/rrg_deg96_sw120_svr6720_os1_i1.edgelist: 2400\n",
      "/home/annzhou/DRing/src/emp/datacentre/scalegraphfiles2/dring_deg96_sw140_sn14_i1.edgelist: 2800\n",
      "/home/annzhou/DRing/src/emp/datacentre/scalegraphfiles2/rrg_deg96_sw140_svr7840_os1_i1.edgelist: 2800\n",
      "/home/annzhou/DRing/src/emp/datacentre/scalegraphfiles2/dring_deg96_sw160_sn16_i1.edgelist: 3200\n",
      "/home/annzhou/DRing/src/emp/datacentre/scalegraphfiles2/rrg_deg96_sw160_svr8960_os1_i1.edgelist: 3200\n",
      "/home/annzhou/DRing/src/emp/datacentre/scalegraphfiles2/dring_deg96_sw180_sn18_i1.edgelist: 3600\n",
      "/home/annzhou/DRing/src/emp/datacentre/scalegraphfiles2/rrg_deg96_sw180_svr10080_os1_i1.edgelist: 3600\n",
      "/home/annzhou/DRing/src/emp/datacentre/scalegraphfiles2/dring_deg96_sw200_sn20_i1.edgelist: 4000\n",
      "/home/annzhou/DRing/src/emp/datacentre/scalegraphfiles2/rrg_deg96_sw200_svr11200_os1_i1.edgelist: 4000\n"
     ]
    }
   ],
   "source": [
    "graphnamelist = [\"dring\",\"rrg\"]\n",
    "swlist = [120,140,160,180,200]\n",
    "deg = 96\n",
    "swpersn = 10\n",
    "filenameprefix = \"/home/annzhou/DRing/src/emp/datacentre/scalegraphfiles2/\"\n",
    "for sw in swlist:\n",
    "    for graphname in graphnamelist:\n",
    "        if graphname==\"dring\":\n",
    "            filename = f\"{filenameprefix}dring_deg{deg}_sw{sw}_sn{sw//swpersn}_i1.edgelist\"\n",
    "        elif graphname==\"rrg\":\n",
    "            filename = f\"{filenameprefix}rrg_deg{deg}_sw{sw}_svr{sw*56}_os1_i1.edgelist\"\n",
    "        with open(filename,'r') as f:\n",
    "            print(f\"{filename}: {len(f.readlines())}\")"
   ]
  },
  {
   "cell_type": "markdown",
   "metadata": {},
   "source": [
    "generate serverfiles"
   ]
  },
  {
   "cell_type": "code",
   "execution_count": 7,
   "metadata": {},
   "outputs": [],
   "source": [
    "graphname = \"dring\"\n",
    "deg = 96\n",
    "swpersn = 10\n",
    "swlist = [120,140,160,180,200]\n",
    "for sw in swlist:\n",
    "    numserver = sw*56\n",
    "    readgraphfile = f\"/home/annzhou/DRing/src/emp/datacentre/scalegraphfiles2/withservers/{graphname}/{graphname}_deg{deg}_sw{sw}_sn{sw//swpersn}_i1.edgelist\"\n",
    "    writeserverfile = f\"/home/annzhou/DRing/src/emp/datacentre/serverfiles/{graphname}_{numserver}_{sw}_{deg}\"\n",
    "    with open(readgraphfile,'r') as f:\n",
    "        lines = f.readlines()\n",
    "    with open(writeserverfile,'w') as f:\n",
    "        for line in lines:\n",
    "            if \"->\" in line:\n",
    "                tokens = line.split(\"->\")\n",
    "                f.write(f\"{int(tokens[0])-10000},{tokens[1]}\")"
   ]
  },
  {
   "cell_type": "code",
   "execution_count": 9,
   "metadata": {},
   "outputs": [],
   "source": [
    "graphname = \"rrg\"\n",
    "deg = 96\n",
    "swpersn = 10\n",
    "swlist = [120,140,160,180,200]\n",
    "for sw in swlist:\n",
    "    svr = sw*56\n",
    "    readgraphfile = f\"/home/annzhou/DRing/src/emp/datacentre/scalegraphfiles2/withservers/{graphname}/{graphname}_deg{deg}_sw{sw}_svr{svr}_os1_i1.edgelist\"\n",
    "    writeserverfile = f\"/home/annzhou/DRing/src/emp/datacentre/serverfiles/{graphname}_{svr}_{sw}_{deg}\"\n",
    "    with open(readgraphfile,'r') as f:\n",
    "        lines = f.readlines()\n",
    "    with open(writeserverfile,'w') as f:\n",
    "        for line in lines:\n",
    "            if \"->\" in line:\n",
    "                tokens = line.split(\"->\")\n",
    "                f.write(f\"{int(tokens[0])-10000},{tokens[1]}\")"
   ]
  }
 ],
 "metadata": {
  "kernelspec": {
   "display_name": "Python 3",
   "language": "python",
   "name": "python3"
  },
  "language_info": {
   "codemirror_mode": {
    "name": "ipython",
    "version": 3
   },
   "file_extension": ".py",
   "mimetype": "text/x-python",
   "name": "python",
   "nbconvert_exporter": "python",
   "pygments_lexer": "ipython3",
   "version": "3.8.10"
  }
 },
 "nbformat": 4,
 "nbformat_minor": 2
}
