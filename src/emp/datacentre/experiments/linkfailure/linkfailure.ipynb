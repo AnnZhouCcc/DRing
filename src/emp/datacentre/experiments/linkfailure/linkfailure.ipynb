{
 "cells": [
  {
   "cell_type": "markdown",
   "metadata": {},
   "source": [
    "generate conffile"
   ]
  },
  {
   "cell_type": "code",
   "execution_count": 6,
   "metadata": {},
   "outputs": [],
   "source": [
    "multnamearr = range(10,91,20)\n",
    "multstrarr = [\"0 1 15\",\"0 1 5\",\"0 1 3\",\"0 7 15\",\"0 3 5\"]\n",
    "rtnamearr = [\"ecmp\",\"su2\"]\n",
    "rt1arr = [\"ecmp\",\"su\"]\n",
    "rt2arr = [0,2]\n",
    "pwnamearr = [\"equal\",\"thisweight\"]\n",
    "fseedarr = range(10)\n",
    "\n",
    "for imult,multname in enumerate(multnamearr):\n",
    "    multstr = multstrarr[imult]\n",
    "\n",
    "    lfarr = [2,20,204]\n",
    "    with open(f\"/home/annzhou/DRing/src/emp/datacentre/experiments/linkfailure/leafspine_{multname}.conf\",'w') as f:\n",
    "        rtname = \"ecmp\"\n",
    "        rt1 = \"ecmp\"\n",
    "        rt2 = 0\n",
    "        pwname = \"equal\"\n",
    "        pwfile = f\"pathweightfiles/leafspine/{rtname}/pathweight_leafspine_{rtname}_equal_64.txt\"\n",
    "\n",
    "        f.write(f\"./run.sh LEAFSPINE MAKE 80 3072 64 leafspine_a2a A2A null {multstr} 0 0 0 0 0 0 {rt1} {rt2} null 0 netpathfiles/netpath_{rtname}_leafspine.txt {pwfile} 64 50 150 200 0 0 > m_linkfailure_leafspine_{rtname}_a2a_{pwname}_{multname}_0_0.log\\n\")\n",
    "        for lf in lfarr:\n",
    "            for fseed in fseedarr:\n",
    "                f.write(f\"./run.sh LEAFSPINE NOMAKE 80 3072 64 leafspine_a2a A2A null {multstr} 0 0 0 0 0 0 {rt1} {rt2} null 0 netpathfiles/netpath_{rtname}_leafspine.txt {pwfile} 64 50 150 200 {lf} {fseed} > m_linkfailure_leafspine_{rtname}_a2a_{pwname}_{multname}_{lf}_{fseed}.log\\n\")\n",
    "\n",
    "    lfarr = [2,21,213]\n",
    "    with open(f\"/home/annzhou/DRing/src/emp/datacentre/experiments/linkfailure/dring_{multname}.conf\",'w') as f:\n",
    "        make_dring = True\n",
    "        for irtname,rtname in enumerate(rtnamearr):\n",
    "            rt1 = rt1arr[irtname]\n",
    "            rt2 = rt2arr[irtname]\n",
    "            for pwname in pwnamearr:\n",
    "                pwfile = f\"pathweightfiles/dring/{rtname}/a2a/pathweight_pbr1_dring_{rtname}_a2a_lp1_barriernocrossover_64.txt\" if pwname==\"thisweight\" else f\"pathweightfiles/dring/{rtname}/pathweight_dring_{rtname}_equal_64.txt\"\n",
    "                make = \"MAKE\" if make_dring else \"NOMAKE\"\n",
    "                f.write(f\"./run.sh RRG {make} 80 2988 64 dring_a2a A2A graphfiles/ring_supergraph/double_ring/instance1_80_64.edgelist {multstr} 0 0 0 0 0 0 {rt1} {rt2} null 0 netpathfiles/netpath_{rtname}_dring.txt {pwfile} 64 50 150 200 0 0 > m_linkfailure_dring_{rtname}_a2a_{pwname}_{multname}_0_0.log\\n\")\n",
    "                make_dring = False\n",
    "\n",
    "                for lf in lfarr:\n",
    "                    for fseed in fseedarr:\n",
    "                        f.write(f\"./run.sh RRG NOMAKE 80 2988 64 dring_a2a A2A graphfiles/ring_supergraph/double_ring/instance1_80_64.edgelist {multstr} 0 0 0 0 0 0 {rt1} {rt2} null 0 netpathfiles/netpath_{rtname}_dring.txt {pwfile} 64 50 150 200 {lf} {fseed} > m_linkfailure_dring_{rtname}_a2a_{pwname}_{multname}_{lf}_{fseed}.log\\n\")"
   ]
  },
  {
   "cell_type": "markdown",
   "metadata": {},
   "source": [
    "generate picklefile"
   ]
  },
  {
   "cell_type": "code",
   "execution_count": 9,
   "metadata": {},
   "outputs": [
    {
     "name": "stdout",
     "output_type": "stream",
     "text": [
      "dring_30\n",
      "dring_50\n"
     ]
    },
    {
     "ename": "FileNotFoundError",
     "evalue": "[Errno 2] No such file or directory: '/home/annzhou/DRing/src/emp/datacentre/m_linkfailure_dring_ecmp_a2a_equal_50_0_0.log'",
     "output_type": "error",
     "traceback": [
      "\u001b[0;31m---------------------------------------------------------------------------\u001b[0m",
      "\u001b[0;31mFileNotFoundError\u001b[0m                         Traceback (most recent call last)",
      "Cell \u001b[0;32mIn[9], line 23\u001b[0m\n\u001b[1;32m     21\u001b[0m durationlist \u001b[38;5;241m=\u001b[39m \u001b[38;5;28mlist\u001b[39m()\n\u001b[1;32m     22\u001b[0m startlist \u001b[38;5;241m=\u001b[39m \u001b[38;5;28mlist\u001b[39m()\n\u001b[0;32m---> 23\u001b[0m \u001b[38;5;28;01mwith\u001b[39;00m \u001b[38;5;28;43mopen\u001b[39;49m\u001b[43m(\u001b[49m\u001b[38;5;124;43mf\u001b[39;49m\u001b[38;5;124;43m\"\u001b[39;49m\u001b[38;5;132;43;01m{\u001b[39;49;00m\u001b[43mhomedir\u001b[49m\u001b[38;5;132;43;01m}\u001b[39;49;00m\u001b[38;5;124;43m/DRing/src/emp/datacentre/\u001b[39;49m\u001b[38;5;132;43;01m{\u001b[39;49;00m\u001b[43mlogfile\u001b[49m\u001b[38;5;132;43;01m}\u001b[39;49;00m\u001b[38;5;124;43m\"\u001b[39;49m\u001b[43m,\u001b[49m\u001b[38;5;124;43m'\u001b[39;49m\u001b[38;5;124;43mr\u001b[39;49m\u001b[38;5;124;43m'\u001b[39;49m\u001b[43m)\u001b[49m \u001b[38;5;28;01mas\u001b[39;00m logf:\n\u001b[1;32m     24\u001b[0m     \u001b[38;5;66;03m# print(logfile)\u001b[39;00m\n\u001b[1;32m     25\u001b[0m     loglines \u001b[38;5;241m=\u001b[39m logf\u001b[38;5;241m.\u001b[39mreadlines()\n\u001b[1;32m     26\u001b[0m     \u001b[38;5;28;01mfor\u001b[39;00m logline \u001b[38;5;129;01min\u001b[39;00m loglines:\n",
      "File \u001b[0;32m~/.local/lib/python3.8/site-packages/IPython/core/interactiveshell.py:284\u001b[0m, in \u001b[0;36m_modified_open\u001b[0;34m(file, *args, **kwargs)\u001b[0m\n\u001b[1;32m    277\u001b[0m \u001b[38;5;28;01mif\u001b[39;00m file \u001b[38;5;129;01min\u001b[39;00m {\u001b[38;5;241m0\u001b[39m, \u001b[38;5;241m1\u001b[39m, \u001b[38;5;241m2\u001b[39m}:\n\u001b[1;32m    278\u001b[0m     \u001b[38;5;28;01mraise\u001b[39;00m \u001b[38;5;167;01mValueError\u001b[39;00m(\n\u001b[1;32m    279\u001b[0m         \u001b[38;5;124mf\u001b[39m\u001b[38;5;124m\"\u001b[39m\u001b[38;5;124mIPython won\u001b[39m\u001b[38;5;124m'\u001b[39m\u001b[38;5;124mt let you open fd=\u001b[39m\u001b[38;5;132;01m{\u001b[39;00mfile\u001b[38;5;132;01m}\u001b[39;00m\u001b[38;5;124m by default \u001b[39m\u001b[38;5;124m\"\u001b[39m\n\u001b[1;32m    280\u001b[0m         \u001b[38;5;124m\"\u001b[39m\u001b[38;5;124mas it is likely to crash IPython. If you know what you are doing, \u001b[39m\u001b[38;5;124m\"\u001b[39m\n\u001b[1;32m    281\u001b[0m         \u001b[38;5;124m\"\u001b[39m\u001b[38;5;124myou can use builtins\u001b[39m\u001b[38;5;124m'\u001b[39m\u001b[38;5;124m open.\u001b[39m\u001b[38;5;124m\"\u001b[39m\n\u001b[1;32m    282\u001b[0m     )\n\u001b[0;32m--> 284\u001b[0m \u001b[38;5;28;01mreturn\u001b[39;00m \u001b[43mio_open\u001b[49m\u001b[43m(\u001b[49m\u001b[43mfile\u001b[49m\u001b[43m,\u001b[49m\u001b[43m \u001b[49m\u001b[38;5;241;43m*\u001b[39;49m\u001b[43margs\u001b[49m\u001b[43m,\u001b[49m\u001b[43m \u001b[49m\u001b[38;5;241;43m*\u001b[39;49m\u001b[38;5;241;43m*\u001b[39;49m\u001b[43mkwargs\u001b[49m\u001b[43m)\u001b[49m\n",
      "\u001b[0;31mFileNotFoundError\u001b[0m: [Errno 2] No such file or directory: '/home/annzhou/DRing/src/emp/datacentre/m_linkfailure_dring_ecmp_a2a_equal_50_0_0.log'"
     ]
    }
   ],
   "source": [
    "import pickle\n",
    "\n",
    "homedir = \"/home/annzhou\"\n",
    "conffilesuffix = [\"leafspine_10\",\"leafspine_30\"]\n",
    "for suffix in conffilesuffix:\n",
    "    print(suffix)\n",
    "    conffile = f\"{homedir}/DRing/src/emp/datacentre/experiments/linkfailure/{suffix}.conf\"\n",
    "    sumfile = f\"{homedir}/DRing/src/emp/datacentre/experiments/linkfailure/{suffix}.txt\"\n",
    "    datadict = dict()\n",
    "    with open(conffile,'r') as f:\n",
    "        with open(sumfile,'a') as sumf:\n",
    "            lines = f.readlines()\n",
    "            for line in lines:\n",
    "                tokens = line.split()\n",
    "                logfile = tokens[31]\n",
    "                sizelist = list()\n",
    "                durationlist = list()\n",
    "                startlist = list()\n",
    "                with open(f\"{homedir}/DRing/src/emp/datacentre/{logfile}\",'r') as logf:\n",
    "                    print(logfile)\n",
    "                    loglines = logf.readlines()\n",
    "                    for logline in loglines:\n",
    "                        logtokens = logline.split()\n",
    "                        if logtokens[0] == \"FCT\":\n",
    "                            durationlist.append(float(logtokens[2]))\n",
    "                            sizelist.append(int(logtokens[1]))\n",
    "                            startlist.append(float(logtokens[3]))\n",
    "                datadict[logfile] = [durationlist,sizelist,startlist]\n",
    "                durationlist.sort()\n",
    "                sumf.write(f\"{logfile}\\t{sum(durationlist)/len(durationlist)}\\t{durationlist[int(len(durationlist)*0.5)]}\\t{durationlist[int(len(durationlist)*0.99)]}\\t{durationlist[int(len(durationlist)*0.9999)]}\\n\")\n",
    "\n",
    "    with open(f'/home/annzhou/DRing/src/emp/datacentre/experiments/linkfailure/{suffix}.pickle', 'wb') as handle:\n",
    "        pickle.dump(datadict, handle, protocol=pickle.HIGHEST_PROTOCOL)"
   ]
  },
  {
   "cell_type": "markdown",
   "metadata": {},
   "source": [
    "plot"
   ]
  },
  {
   "cell_type": "code",
   "execution_count": null,
   "metadata": {},
   "outputs": [],
   "source": [
    "import matplotlib\n",
    "import matplotlib.pyplot as plt\n",
    "import numpy as np\n",
    "\n",
    "fig,axs = plt.subplots(3,1,figsize=(15,3))\n"
   ]
  },
  {
   "cell_type": "markdown",
   "metadata": {},
   "source": [
    "parse test conf"
   ]
  },
  {
   "cell_type": "code",
   "execution_count": 3,
   "metadata": {},
   "outputs": [],
   "source": [
    "# test\n",
    "homedir = \"/home/annzhou/\"\n",
    "conffile = f\"{homedir}DRing/src/emp/datacentre/experiments/linkfailure/test.conf\"\n",
    "sumfile = f\"{homedir}DRing/src/emp/datacentre/experiments/linkfailure/test.txt\"\n",
    "datadict = dict()\n",
    "with open(conffile,'r') as f:\n",
    "    with open(sumfile,'a') as sumf:\n",
    "        lines = f.readlines()\n",
    "        for line in lines:\n",
    "            tokens = line.split()\n",
    "            logfile = tokens[31]\n",
    "            sizelist = list()\n",
    "            durationlist = list()\n",
    "            startlist = list()\n",
    "            with open(f\"{homedir}DRing/src/emp/datacentre/{logfile}\",'r') as logf:\n",
    "                loglines = logf.readlines()\n",
    "                for logline in loglines:\n",
    "                    logtokens = logline.split()\n",
    "                    if logtokens[0] == \"FCT\":\n",
    "                        durationlist.append(float(logtokens[2]))\n",
    "                        sizelist.append(int(logtokens[1]))\n",
    "                        startlist.append(float(logtokens[3]))\n",
    "            datadict[logfile] = [durationlist,sizelist,startlist]\n",
    "            durationlist.sort()\n",
    "            sumf.write(f\"{logfile}\\t{sum(durationlist)/len(durationlist)}\\t{durationlist[int(len(durationlist)*0.5)]}\\t{durationlist[int(len(durationlist)*0.99)]}\\t{durationlist[int(len(durationlist)*0.9999)]}\\n\")"
   ]
  }
 ],
 "metadata": {
  "kernelspec": {
   "display_name": "Python 3",
   "language": "python",
   "name": "python3"
  },
  "language_info": {
   "codemirror_mode": {
    "name": "ipython",
    "version": 3
   },
   "file_extension": ".py",
   "mimetype": "text/x-python",
   "name": "python",
   "nbconvert_exporter": "python",
   "pygments_lexer": "ipython3",
   "version": "3.8.10"
  }
 },
 "nbformat": 4,
 "nbformat_minor": 2
}
