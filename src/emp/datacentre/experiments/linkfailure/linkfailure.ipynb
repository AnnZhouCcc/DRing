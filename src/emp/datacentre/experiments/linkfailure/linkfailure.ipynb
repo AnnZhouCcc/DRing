{
 "cells": [
  {
   "cell_type": "markdown",
   "metadata": {},
   "source": [
    "generate conffile"
   ]
  },
  {
   "cell_type": "code",
   "execution_count": 5,
   "metadata": {},
   "outputs": [],
   "source": [
    "multnamearr = range(10,91,20)\n",
    "multstrarr = [\"0 1 15\",\"0 1 5\",\"0 1 3\",\"0 7 15\",\"0 3 5\"]\n",
    "rtnamearr = [\"ecmp\",\"su2\"]\n",
    "rt1arr = [\"ecmp\",\"su\"]\n",
    "rt2arr = [0,2]\n",
    "pwnamearr = [\"equal\",\"thisweight\"]\n",
    "fseedarr = range(10)\n",
    "\n",
    "for imult,multname in enumerate(multnamearr):\n",
    "    multstr = multstrarr[imult]\n",
    "\n",
    "    lfarr = [2,20,204]\n",
    "    with open(f\"/home/annzhou/DRing/src/emp/datacentre/experiments/linkfailure/leafspine_{multname}.conf\",'w') as f:\n",
    "        rtname = \"ecmp\"\n",
    "        rt1 = \"ecmp\"\n",
    "        rt2 = 0\n",
    "        pwname = \"equal\"\n",
    "        pwfile = f\"pathweightfiles/leafspine/{rtname}/pathweight_leafspine_{rtname}_equal_64.txt\"\n",
    "\n",
    "        f.write(f\"./run.sh LEAFSPINE MAKE 80 3072 64 leafspine_a2a A2A null {multstr} 0 0 0 0 0 0 {rt1} {rt2} null 0 netpathfiles/netpath_{rtname}_leafspine.txt {pwfile} 64 50 150 200 0 0 > m_linkfailure_leafspine_{rtname}_a2a_{pwname}_{multname}_0_0.log\\n\")\n",
    "        for lf in lfarr:\n",
    "            for fseed in fseedarr:\n",
    "                f.write(f\"./run.sh LEAFSPINE NOMAKE 80 3072 64 leafspine_a2a A2A null {multstr} 0 0 0 0 0 0 {rt1} {rt2} null 0 netpathfiles/netpath_{rtname}_leafspine.txt {pwfile} 64 50 150 200 {lf} {fseed} > m_linkfailure_leafspine_{rtname}_a2a_{pwname}_{multname}_{lf}_{fseed}.log\\n\")\n",
    "\n",
    "    lfarr = [2,21,213]\n",
    "    with open(f\"/home/annzhou/DRing/src/emp/datacentre/experiments/linkfailure/dring_{multname}.conf\",'w') as f:\n",
    "        make_dring = True\n",
    "        for irtname,rtname in enumerate(rtnamearr):\n",
    "            rt1 = rt1arr[irtname]\n",
    "            rt2 = rt2arr[irtname]\n",
    "            for pwname in pwnamearr:\n",
    "                pwfile = f\"pathweightfiles/dring/{rtname}/a2a/pathweight_pbr1_dring_{rtname}_a2a_lp1_barriernocrossover_64.txt\" if pwname==\"thisweight\" else f\"pathweightfiles/dring/{rtname}/pathweight_dring_{rtname}_equal_64.txt\"\n",
    "                make = \"MAKE\" if make_dring else \"NOMAKE\"\n",
    "                f.write(f\"./run.sh RRG {make} 80 2988 64 dring_a2a A2A graphfiles/ring_supergraph/double_ring/instance1_80_64.edgelist {multstr} 0 0 0 0 0 0 {rt1} {rt2} null 0 netpathfiles/netpath_{rtname}_dring.txt {pwfile} 64 50 150 200 0 0 > m_dring_{rtname}_a2a_{pwname}_{multname}_0_0.log\\n\")\n",
    "                make_dring = False\n",
    "\n",
    "                for lf in lfarr:\n",
    "                    for fseed in fseedarr:\n",
    "                        f.write(f\"./run.sh RRG NOMAKE 80 2988 64 dring_a2a A2A graphfiles/ring_supergraph/double_ring/instance1_80_64.edgelist {multstr} 0 0 0 0 0 0 {rt1} {rt2} null 0 netpathfiles/netpath_{rtname}_dring.txt {pwfile} 64 50 150 200 {lf} {fseed} > m_dring_{rtname}_a2a_{pwname}_{multname}_{lf}_{fseed}.log\\n\")"
   ]
  },
  {
   "cell_type": "markdown",
   "metadata": {},
   "source": [
    "parse test conf"
   ]
  },
  {
   "cell_type": "code",
   "execution_count": 3,
   "metadata": {},
   "outputs": [],
   "source": [
    "# test\n",
    "homedir = \"/home/annzhou/\"\n",
    "conffile = f\"{homedir}DRing/src/emp/datacentre/experiments/linkfailure/test.conf\"\n",
    "sumfile = f\"{homedir}DRing/src/emp/datacentre/experiments/linkfailure/test.txt\"\n",
    "datadict = dict()\n",
    "with open(conffile,'r') as f:\n",
    "    with open(sumfile,'a') as sumf:\n",
    "        lines = f.readlines()\n",
    "        for line in lines:\n",
    "            tokens = line.split()\n",
    "            logfile = tokens[31]\n",
    "            sizelist = list()\n",
    "            durationlist = list()\n",
    "            startlist = list()\n",
    "            with open(f\"{homedir}DRing/src/emp/datacentre/{logfile}\",'r') as logf:\n",
    "                loglines = logf.readlines()\n",
    "                for logline in loglines:\n",
    "                    logtokens = logline.split()\n",
    "                    if logtokens[0] == \"FCT\":\n",
    "                        durationlist.append(float(logtokens[2]))\n",
    "                        sizelist.append(int(logtokens[1]))\n",
    "                        startlist.append(float(logtokens[3]))\n",
    "            datadict[logfile] = [durationlist,sizelist,startlist]\n",
    "            durationlist.sort()\n",
    "            sumf.write(f\"{logfile}\\t{sum(durationlist)/len(durationlist)}\\t{durationlist[int(len(durationlist)*0.5)]}\\t{durationlist[int(len(durationlist)*0.99)]}\\t{durationlist[int(len(durationlist)*0.9999)]}\\n\")"
   ]
  }
 ],
 "metadata": {
  "kernelspec": {
   "display_name": "Python 3",
   "language": "python",
   "name": "python3"
  },
  "language_info": {
   "codemirror_mode": {
    "name": "ipython",
    "version": 3
   },
   "file_extension": ".py",
   "mimetype": "text/x-python",
   "name": "python",
   "nbconvert_exporter": "python",
   "pygments_lexer": "ipython3",
   "version": "3.8.10"
  }
 },
 "nbformat": 4,
 "nbformat_minor": 2
}
