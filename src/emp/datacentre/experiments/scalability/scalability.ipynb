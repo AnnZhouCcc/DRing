{
 "cells": [
  {
   "cell_type": "markdown",
   "metadata": {},
   "source": [
    "calculate mult"
   ]
  },
  {
   "cell_type": "code",
   "execution_count": 1,
   "metadata": {},
   "outputs": [
    {
     "name": "stdout",
     "output_type": "stream",
     "text": [
      "/home/annzhou/DRing/src/emp/datacentre/scalegraphfiles/dring_deg32_sw40_sn12_i1.edgelist: 1.0793276287547193\n",
      "/home/annzhou/DRing/src/emp/datacentre/scalegraphfiles/ls_x24_y8_i1.edgelist: 1.0466207309136673\n",
      "/home/annzhou/DRing/src/emp/datacentre/scalegraphfiles/rrg_deg32_sw40_svr768_os1_i1.edgelist: 1.0466207309136673\n",
      "/home/annzhou/DRing/src/emp/datacentre/scalegraphfiles/dring_deg48_sw60_sn12_i1.edgelist: 0.4863209446807733\n",
      "/home/annzhou/DRing/src/emp/datacentre/scalegraphfiles/ls_x36_y12_i1.edgelist: 0.4668681068935424\n",
      "/home/annzhou/DRing/src/emp/datacentre/scalegraphfiles/rrg_deg48_sw60_svr1728_os1_i1.edgelist: 0.4668681068935424\n",
      "/home/annzhou/DRing/src/emp/datacentre/scalegraphfiles/dring_deg64_sw80_sn12_i1.edgelist: 0.2715763054041317\n",
      "/home/annzhou/DRing/src/emp/datacentre/scalegraphfiles/ls_x48_y16_i1.edgelist: 0.26136666986262297\n",
      "/home/annzhou/DRing/src/emp/datacentre/scalegraphfiles/rrg_deg64_sw80_svr3072_os1_i1.edgelist: 0.26136666986262297\n",
      "/home/annzhou/DRing/src/emp/datacentre/scalegraphfiles/dring_deg80_sw100_sn12_i1.edgelist: 0.17470651491702732\n",
      "/home/annzhou/DRing/src/emp/datacentre/scalegraphfiles/ls_x60_y20_i1.edgelist: 0.16798703357406472\n",
      "/home/annzhou/DRing/src/emp/datacentre/scalegraphfiles/rrg_deg80_sw100_svr4800_os1_i1.edgelist: 0.16798703357406472\n",
      "/home/annzhou/DRing/src/emp/datacentre/scalegraphfiles/dring_deg96_sw120_sn12_i1.edgelist: 0.12108603187034783\n",
      "/home/annzhou/DRing/src/emp/datacentre/scalegraphfiles/ls_x72_y24_i1.edgelist: 0.11624259059553392\n",
      "/home/annzhou/DRing/src/emp/datacentre/scalegraphfiles/rrg_deg96_sw120_svr6912_os1_i1.edgelist: 0.11624259059553392\n"
     ]
    }
   ],
   "source": [
    "loadlevel = 0.3\n",
    "\n",
    "graphnamelist = [\"dring\",\"ls\",\"rrg\"]\n",
    "swlist = range(40,121,20)\n",
    "filenameprefix = \"/home/annzhou/DRing/src/emp/datacentre/scalegraphfiles/\"\n",
    "flowfilenameprefix = \"/home/annzhou/DRing/src/emp/datacentre/flowfiles/c2s_\"\n",
    "for sw in swlist:\n",
    "    for graphname in graphnamelist:\n",
    "        if graphname==\"dring\":\n",
    "            filename = f\"{filenameprefix}dring_deg{int(sw*0.8)}_sw{sw}_sn12_i1.edgelist\"\n",
    "        elif graphname==\"rrg\":\n",
    "            filename = f\"{filenameprefix}rrg_deg{int(sw*0.8)}_sw{sw}_svr{(sw//5)*(sw//5)*12}_os1_i1.edgelist\"\n",
    "        elif graphname==\"ls\":\n",
    "            filename = f\"{filenameprefix}ls_x{int(sw*0.6)}_y{sw//5}_i1.edgelist\"\n",
    "        with open(filename,'r') as f:\n",
    "            numlink = len(f.readlines())\n",
    "            \n",
    "        flowfile = f\"{flowfilenameprefix}{(sw//5)*(sw//5)*12}_{sw}_{int(sw*0.8)}_{int(sw*0.8)}_{int(sw*0.8)}_1_0_0_0\"\n",
    "        bytespermult = 0\n",
    "        with open(flowfile,'r') as f:\n",
    "            lines = f.readlines()\n",
    "            for line in lines:\n",
    "                tokens = line.split(',')\n",
    "                bytespermult += int(tokens[2])\n",
    "            \n",
    "        bytesperlink = 894784*1500*0.2 # 894784 packets per second, 1500B per packet, 200ms\n",
    "        totalbytes = bytesperlink*numlink # *2 for 2 directions, /2 for 2 hops per flow\n",
    "        usablebytes = totalbytes*loadlevel\n",
    "        mult = usablebytes/bytespermult\n",
    "        print(f\"{filename}: {mult}\")"
   ]
  },
  {
   "cell_type": "markdown",
   "metadata": {},
   "source": [
    "generate conffile"
   ]
  },
  {
   "cell_type": "code",
   "execution_count": 8,
   "metadata": {},
   "outputs": [],
   "source": [
    "graphname = \"dring\"\n",
    "routingname = \"su2\"\n",
    "rt1 = \"su\"\n",
    "rt2 = 2\n",
    "swlist = range(40,121,20)\n",
    "dringserverlist = [752,1680,2992,4672,6720]\n",
    "multlistarr = [[1,5,100],[0,47,100],[0,26,100],[0,17,100],[0,12,100]]\n",
    "sseedarr = range(1,2)\n",
    "\n",
    "conffile = f\"/home/annzhou/DRing/src/emp/datacentre/experiments/scalability/test.conf\"\n",
    "with open(conffile,'w') as f:\n",
    "    for inumsw,numsw in enumerate(swlist):\n",
    "        multlist = multlistarr[inumsw]\n",
    "        multstr = f\"{multlist[0]}_{multlist[1]}_{multlist[2]}\"\n",
    "        numlsserver = (numsw//5)*(numsw//5)*12\n",
    "        numport = int(numsw*0.8) # == numleaf\n",
    "        numdringserver = dringserverlist[inumsw]\n",
    "        trafficfile = f\"flowfiles/c2s_{numlsserver}_{numsw}_{numport}_{numport}_{numport}_{multstr}_0\"\n",
    "        lsqvarfile = f\"qvarfiles/qvar_leafspine_{numlsserver}_{numsw}_{numport}_0_0_ecmp_64\"\n",
    "        lsnetpathfile = f\"netpathfiles/netpath_ecmp_leafspine_{numlsserver}_{numsw}_{numport}\"\n",
    "        dringqvarfile = f\"qvarfiles/qvar_{graphname}_{numdringserver}_{numsw}_{numport}_0_0_{routingname}_c2s_{numport}_{numport}_0_{multstr}_2_0_64\"\n",
    "        dringnetpathfile = f\"netpathfiles/netpath_{routingname}_{graphname}_{numdringserver}_{numsw}_{numport}\"\n",
    "        dringscalegraphfile = f\"scalegraphfiles/dring_deg{numport}_sw{numsw}_sn12_i1.edgelist\"\n",
    "        dringserverfile = f\"serverfiles/dring_{numdringserver}_{numsw}_{numport}\"\n",
    "        for sseed in sseedarr:\n",
    "            f.write(f\"./run.sh LEAFSPINE MAKE {numsw} {numlsserver} {numport} leafspine_sw{numsw}_sseed{sseed} NEW_FILE null {multlist[0]} {multlist[1]} {multlist[2]} 0 0 0 0 0 0 ecmp 0 {trafficfile} null {sseed} {lsnetpathfile} {lsqvarfile} 64 50 150 200 0 0 > m_scalability_leafspine_{numsw}_{sseed}.log\\n\")\n",
    "            f.write(f\"./run.sh RRG MAKE {numsw} {numdringserver} {numport} dring_sw{numsw}_sseed{sseed} NEW_FILE {dringscalegraphfile} {multlist[0]} {multlist[1]} {multlist[2]} 0 0 0 0 0 0 {rt1} {rt2} {trafficfile} {dringserverfile} {sseed} {dringnetpathfile} {dringqvarfile} 64 50 150 200 0 0 > m_scalability_dring_{numsw}_{sseed}.log\\n\")"
   ]
  },
  {
   "cell_type": "markdown",
   "metadata": {},
   "source": [
    "generate sumfile & picklefile"
   ]
  },
  {
   "cell_type": "code",
   "execution_count": 9,
   "metadata": {},
   "outputs": [
    {
     "name": "stdout",
     "output_type": "stream",
     "text": [
      "m_scalability_leafspine_40_1.log\n",
      "m_scalability_dring_40_1.log\n",
      "m_scalability_leafspine_60_1.log\n",
      "m_scalability_dring_60_1.log\n",
      "m_scalability_leafspine_80_1.log\n",
      "m_scalability_dring_80_1.log\n",
      "m_scalability_leafspine_100_1.log\n",
      "m_scalability_dring_100_1.log\n",
      "m_scalability_leafspine_120_1.log\n",
      "m_scalability_dring_120_1.log\n"
     ]
    }
   ],
   "source": [
    "import pickle\n",
    "\n",
    "homedir = \"/home/annzhou\"\n",
    "datadict = dict()\n",
    "conffile = f\"{homedir}/DRing/src/emp/datacentre/experiments/scalability/test.conf\"\n",
    "sumfile = f\"{homedir}/DRing/src/emp/datacentre/experiments/scalability/test.txt\"\n",
    "with open(conffile,'r') as f:\n",
    "    with open(sumfile,'a') as sumf:\n",
    "        lines = f.readlines()\n",
    "        for line in lines:\n",
    "            tokens = line.split()\n",
    "            logfile = tokens[32]\n",
    "            sizelist = list()\n",
    "            durationlist = list()\n",
    "            startlist = list()\n",
    "            with open(f\"{homedir}/DRing/src/emp/datacentre/{logfile}\",'r') as logf:\n",
    "                print(logfile)\n",
    "                loglines = logf.readlines()\n",
    "                for logline in loglines:\n",
    "                    logtokens = logline.split()\n",
    "                    if logtokens[0] == \"FCT\":\n",
    "                        durationlist.append(float(logtokens[2]))\n",
    "                        sizelist.append(int(logtokens[1]))\n",
    "                        startlist.append(float(logtokens[3]))\n",
    "            datadict[logfile] = [durationlist,sizelist,startlist]\n",
    "            durationlist.sort()\n",
    "            sumf.write(f\"{logfile}\\t{sum(durationlist)/len(durationlist)}\\t{durationlist[int(len(durationlist)*0.5)]}\\t{durationlist[int(len(durationlist)*0.99)]}\\t{durationlist[int(len(durationlist)*0.9999)]}\\n\")\n",
    "\n",
    "# with open(f'{homedir}/DRing/src/emp/datacentre/experiments/scalability/test.pickle', 'wb') as handle:\n",
    "#     pickle.dump(datadict, handle, protocol=pickle.HIGHEST_PROTOCOL)"
   ]
  },
  {
   "cell_type": "markdown",
   "metadata": {},
   "source": [
    "plot"
   ]
  },
  {
   "cell_type": "code",
   "execution_count": null,
   "metadata": {},
   "outputs": [],
   "source": [
    "import matplotlib\n",
    "import matplotlib.pyplot as plt\n",
    "import numpy as np\n",
    "\n",
    "trafficname = \"prv1\"\n",
    "\n",
    "homedir = \"/home/annzhou\"\n",
    "leafspinemultlistarr = [[0,2,100],[0,5,100],[0,7,100],[0,10,100],[0,12,100],[0,15,100],[0,17,100],[0,20,100]]\n",
    "dringmultlistarr = [[0,2,100],[0,5,100],[0,7,100],[0,10,100],[0,12,100],[0,15,100],[0,17,100],[0,20,100],[0,22,100]]\n",
    "leafspinemultnamearr = range(2,17,2)\n",
    "dringmultnamearr = range(2,19,2)\n",
    "fseedarr = range(5)\n",
    "sumfile = f\"{homedir}/DRing/src/emp/datacentre/experiments/routing/{trafficname}.txt\"\n",
    "\n",
    "xlist = list()\n",
    "ylist_over_mult = list()\n",
    "for imultlist,multlist in enumerate(leafspinemultlistarr):\n",
    "    mult = multlist[0]\n",
    "    numerator = multlist[1]\n",
    "    denominator = multlist[2]\n",
    "    multname = leafspinemultnamearr[imultlist]\n",
    "\n",
    "    xlist.append(mult + numerator/denominator)\n",
    "\n",
    "    with open(sumfile,'r') as f:\n",
    "        lines = f.readlines()\n",
    "        fct_over_fseed = list()\n",
    "        for fseed in fseedarr:\n",
    "            logfile = f\"m_leafspine_{trafficname}_{multname}_{fseed}.log\"\n",
    "            for line in lines:\n",
    "                tokens = line.split()\n",
    "                if tokens[0] == logfile:\n",
    "                    n99fct = float(tokens[3])\n",
    "                    fct_over_fseed.append(n99fct)\n",
    "        ylist_over_mult.append(sum(fct_over_fseed)/len(fct_over_fseed))\n",
    "plt.plot(xlist,ylist_over_mult,label=\"leafspine\",marker='x')\n",
    "\n",
    "xlist = list()\n",
    "ylist_over_mult = list()\n",
    "for imultlist,multlist in enumerate(dringmultlistarr):\n",
    "    mult = multlist[0]\n",
    "    numerator = multlist[1]\n",
    "    denominator = multlist[2]\n",
    "    multname = dringmultnamearr[imultlist]\n",
    "\n",
    "    xlist.append(mult + numerator/denominator)\n",
    "\n",
    "    with open(sumfile,'r') as f:\n",
    "        lines = f.readlines()\n",
    "        fct_over_fseed = list()\n",
    "        for fseed in fseedarr:\n",
    "            logfile = f\"m_dring_{trafficname}_{multname}_{fseed}.log\"\n",
    "            for line in lines:\n",
    "                tokens = line.split()\n",
    "                if tokens[0] == logfile:\n",
    "                    n99fct = float(tokens[3])\n",
    "                    fct_over_fseed.append(n99fct)\n",
    "        ylist_over_mult.append(sum(fct_over_fseed)/len(fct_over_fseed))\n",
    "plt.plot(xlist,ylist_over_mult,label=\"dring\",marker='.')\n",
    "\n",
    "plt.legend()\n",
    "plt.xlabel('load (%)')\n",
    "plt.ylabel('99ile fct (ms)')\n",
    "plt.title(f'{trafficname}, 5 runs')\n",
    "# plt.ylim(0,20)\n",
    "plt.savefig(f\"{homedir}/DRing/src/emp/datacentre/experiments/routing/{trafficname}.png\", dpi=500)\n",
    "plt.show()"
   ]
  }
 ],
 "metadata": {
  "kernelspec": {
   "display_name": "Python 3",
   "language": "python",
   "name": "python3"
  },
  "language_info": {
   "codemirror_mode": {
    "name": "ipython",
    "version": 3
   },
   "file_extension": ".py",
   "mimetype": "text/x-python",
   "name": "python",
   "nbconvert_exporter": "python",
   "pygments_lexer": "ipython3",
   "version": "3.8.10"
  }
 },
 "nbformat": 4,
 "nbformat_minor": 2
}
