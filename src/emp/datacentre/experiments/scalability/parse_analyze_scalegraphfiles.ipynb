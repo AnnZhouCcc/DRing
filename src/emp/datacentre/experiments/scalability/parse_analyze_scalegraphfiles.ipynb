{
 "cells": [
  {
   "cell_type": "markdown",
   "metadata": {},
   "source": [
    "parse sw->sw from \"a b\" to \"a->b\", remove server->sw"
   ]
  },
  {
   "cell_type": "code",
   "execution_count": 2,
   "metadata": {},
   "outputs": [],
   "source": [
    "graphname = \"dring\"\n",
    "deglist = [32,48,64,80,96]\n",
    "swlist = [40,60,80,100,120]\n",
    "for i in range(len(deglist)):\n",
    "    deg = deglist[i]\n",
    "    sw = swlist[i]\n",
    "    readgraphfile = f\"/home/annzhou/DRing/src/emp/datacentre/scalegraphfiles/withservers/{graphname}/{graphname}_deg{deg}_sw{sw}_sn12_i1.edgelist\"\n",
    "    writegraphfile = f\"/home/annzhou/DRing/src/emp/datacentre/scalegraphfiles/{graphname}_deg{deg}_sw{sw}_sn12_i1.edgelist\"\n",
    "    with open(readgraphfile,'r') as f:\n",
    "        lines = f.readlines()\n",
    "    with open(writegraphfile,'w') as f:\n",
    "        for line in lines:\n",
    "            if \"->\" not in line:\n",
    "                tokens = line.split()\n",
    "                f.write(f\"{tokens[0]}->{tokens[1]}\\n\")"
   ]
  },
  {
   "cell_type": "code",
   "execution_count": 3,
   "metadata": {},
   "outputs": [],
   "source": [
    "graphname = \"ls\"\n",
    "ylist = [8,12,16,20,24]\n",
    "for y in ylist:\n",
    "    x = y*3\n",
    "    readgraphfile = f\"/home/annzhou/DRing/src/emp/datacentre/scalegraphfiles/withservers/leafspine/{graphname}_x{x}_y{y}_i1.edgelist\"\n",
    "    writegraphfile = f\"/home/annzhou/DRing/src/emp/datacentre/scalegraphfiles/{graphname}_x{x}_y{y}_i1.edgelist\"\n",
    "    with open(readgraphfile,'r') as f:\n",
    "        lines = f.readlines()\n",
    "    with open(writegraphfile,'w') as f:\n",
    "        for line in lines:\n",
    "            if \"->\" not in line:\n",
    "                tokens = line.split()\n",
    "                f.write(f\"{tokens[0]}->{tokens[1]}\\n\")"
   ]
  },
  {
   "cell_type": "code",
   "execution_count": 4,
   "metadata": {},
   "outputs": [],
   "source": [
    "graphname = \"rrg\"\n",
    "deglist = [32,48,64,80,96]\n",
    "swlist = [40,60,80,100,120]\n",
    "for i in range(len(deglist)):\n",
    "    deg = deglist[i]\n",
    "    sw = swlist[i]\n",
    "    svr = (sw//5)*(sw//5)*12\n",
    "    readgraphfile = f\"/home/annzhou/DRing/src/emp/datacentre/scalegraphfiles/withservers/{graphname}/{graphname}_deg{deg}_sw{sw}_svr{svr}_os1_i1.edgelist\"\n",
    "    writegraphfile = f\"/home/annzhou/DRing/src/emp/datacentre/scalegraphfiles/{graphname}_deg{deg}_sw{sw}_svr{svr}_os1_i1.edgelist\"\n",
    "    with open(readgraphfile,'r') as f:\n",
    "        lines = f.readlines()\n",
    "    with open(writegraphfile,'w') as f:\n",
    "        for line in lines:\n",
    "            if \"->\" not in line:\n",
    "                tokens = line.split()\n",
    "                f.write(f\"{tokens[0]}->{tokens[1]}\\n\")"
   ]
  },
  {
   "cell_type": "markdown",
   "metadata": {},
   "source": [
    "calculate number of links"
   ]
  },
  {
   "cell_type": "code",
   "execution_count": 5,
   "metadata": {},
   "outputs": [
    {
     "name": "stdout",
     "output_type": "stream",
     "text": [
      "/home/annzhou/DRing/src/emp/datacentre/scalegraphfiles/dring_deg32_sw40_sn12_i1.edgelist: 264\n",
      "/home/annzhou/DRing/src/emp/datacentre/scalegraphfiles/ls_x24_y8_i1.edgelist: 256\n",
      "/home/annzhou/DRing/src/emp/datacentre/scalegraphfiles/rrg_deg32_sw40_svr768_os1_i1.edgelist: 256\n",
      "/home/annzhou/DRing/src/emp/datacentre/scalegraphfiles/dring_deg48_sw60_sn12_i1.edgelist: 600\n",
      "/home/annzhou/DRing/src/emp/datacentre/scalegraphfiles/ls_x36_y12_i1.edgelist: 576\n",
      "/home/annzhou/DRing/src/emp/datacentre/scalegraphfiles/rrg_deg48_sw60_svr1728_os1_i1.edgelist: 576\n",
      "/home/annzhou/DRing/src/emp/datacentre/scalegraphfiles/dring_deg64_sw80_sn12_i1.edgelist: 1064\n",
      "/home/annzhou/DRing/src/emp/datacentre/scalegraphfiles/ls_x48_y16_i1.edgelist: 1024\n",
      "/home/annzhou/DRing/src/emp/datacentre/scalegraphfiles/rrg_deg64_sw80_svr3072_os1_i1.edgelist: 1024\n",
      "/home/annzhou/DRing/src/emp/datacentre/scalegraphfiles/dring_deg80_sw100_sn12_i1.edgelist: 1664\n",
      "/home/annzhou/DRing/src/emp/datacentre/scalegraphfiles/ls_x60_y20_i1.edgelist: 1600\n",
      "/home/annzhou/DRing/src/emp/datacentre/scalegraphfiles/rrg_deg80_sw100_svr4800_os1_i1.edgelist: 1600\n",
      "/home/annzhou/DRing/src/emp/datacentre/scalegraphfiles/dring_deg96_sw120_sn12_i1.edgelist: 2400\n",
      "/home/annzhou/DRing/src/emp/datacentre/scalegraphfiles/ls_x72_y24_i1.edgelist: 2304\n",
      "/home/annzhou/DRing/src/emp/datacentre/scalegraphfiles/rrg_deg96_sw120_svr6912_os1_i1.edgelist: 2304\n"
     ]
    }
   ],
   "source": [
    "graphnamelist = [\"dring\",\"ls\",\"rrg\"]\n",
    "swlist = range(40,121,20)\n",
    "filenameprefix = \"/home/annzhou/DRing/src/emp/datacentre/scalegraphfiles/\"\n",
    "for sw in swlist:\n",
    "    for graphname in graphnamelist:\n",
    "        if graphname==\"dring\":\n",
    "            filename = f\"{filenameprefix}dring_deg{int(sw*0.8)}_sw{sw}_sn12_i1.edgelist\"\n",
    "        elif graphname==\"rrg\":\n",
    "            filename = f\"{filenameprefix}rrg_deg{int(sw*0.8)}_sw{sw}_svr{(sw//5)*(sw//5)*12}_os1_i1.edgelist\"\n",
    "        elif graphname==\"ls\":\n",
    "            filename = f\"{filenameprefix}ls_x{int(sw*0.6)}_y{sw//5}_i1.edgelist\"\n",
    "        with open(filename,'r') as f:\n",
    "            print(f\"{filename}: {len(f.readlines())}\")"
   ]
  },
  {
   "cell_type": "markdown",
   "metadata": {},
   "source": [
    "generate serverfiles"
   ]
  },
  {
   "cell_type": "code",
   "execution_count": 10,
   "metadata": {},
   "outputs": [],
   "source": [
    "graphname = \"dring\"\n",
    "deglist = [32,48,64,80,96]\n",
    "swlist = [40,60,80,100,120]\n",
    "for i in range(len(deglist)):\n",
    "    deg = deglist[i]\n",
    "    sw = swlist[i]\n",
    "    readgraphfile = f\"/home/annzhou/DRing/src/emp/datacentre/scalegraphfiles/withservers/{graphname}/{graphname}_deg{deg}_sw{sw}_sn12_i1.edgelist\"\n",
    "    numserver = 0\n",
    "    with open(readgraphfile,'r') as f:\n",
    "        lines = f.readlines()\n",
    "        for line in lines:\n",
    "            if \"->\" in line: \n",
    "                numserver += 1\n",
    "    writeserverfile = f\"/home/annzhou/DRing/src/emp/datacentre/serverfiles/{graphname}_{numserver}_{sw}_{int(sw*0.8)}\"\n",
    "    with open(writeserverfile,'w') as f:\n",
    "        for line in lines:\n",
    "            if \"->\" in line:\n",
    "                tokens = line.split(\"->\")\n",
    "                f.write(f\"{int(tokens[0])-10000},{tokens[1]}\")"
   ]
  },
  {
   "cell_type": "code",
   "execution_count": 11,
   "metadata": {},
   "outputs": [],
   "source": [
    "graphname = \"ls\"\n",
    "ylist = [8,12,16,20,24]\n",
    "for y in ylist:\n",
    "    x = y*3\n",
    "    readgraphfile = f\"/home/annzhou/DRing/src/emp/datacentre/scalegraphfiles/withservers/leafspine/{graphname}_x{x}_y{y}_i1.edgelist\"\n",
    "    numserver = 0\n",
    "    with open(readgraphfile,'r') as f:\n",
    "        lines = f.readlines()\n",
    "        for line in lines:\n",
    "            if \"->\" in line: \n",
    "                numserver += 1\n",
    "    writeserverfile = f\"/home/annzhou/DRing/src/emp/datacentre/serverfiles/leafspine_{numserver}_{y*5}_{y*4}\"\n",
    "    with open(writeserverfile,'w') as f:\n",
    "        for line in lines:\n",
    "            if \"->\" in line:\n",
    "                tokens = line.split(\"->\")\n",
    "                f.write(f\"{int(tokens[0])-10000},{tokens[1]}\")"
   ]
  },
  {
   "cell_type": "code",
   "execution_count": 12,
   "metadata": {},
   "outputs": [],
   "source": [
    "graphname = \"rrg\"\n",
    "deglist = [32,48,64,80,96]\n",
    "swlist = [40,60,80,100,120]\n",
    "for i in range(len(deglist)):\n",
    "    deg = deglist[i]\n",
    "    sw = swlist[i]\n",
    "    svr = (sw//5)*(sw//5)*12\n",
    "    readgraphfile = f\"/home/annzhou/DRing/src/emp/datacentre/scalegraphfiles/withservers/{graphname}/{graphname}_deg{deg}_sw{sw}_svr{svr}_os1_i1.edgelist\"\n",
    "    writeserverfile = f\"/home/annzhou/DRing/src/emp/datacentre/serverfiles/{graphname}_{svr}_{sw}_{int(sw*0.8)}\"\n",
    "    with open(readgraphfile,'r') as f:\n",
    "        lines = f.readlines()\n",
    "    with open(writeserverfile,'w') as f:\n",
    "        for line in lines:\n",
    "            if \"->\" in line:\n",
    "                tokens = line.split(\"->\")\n",
    "                f.write(f\"{int(tokens[0])-10000},{tokens[1]}\")"
   ]
  },
  {
   "cell_type": "markdown",
   "metadata": {},
   "source": [
    "inspect the dring files"
   ]
  },
  {
   "cell_type": "code",
   "execution_count": 9,
   "metadata": {},
   "outputs": [
    {
     "name": "stdout",
     "output_type": "stream",
     "text": [
      "60\n"
     ]
    }
   ],
   "source": [
    "readgraphfile = f\"/home/annzhou/DRing/src/emp/datacentre/scalegraphfiles/dring_deg48_sw60_sn12_i1.edgelist\"\n",
    "swlist = list()\n",
    "with open(readgraphfile,'r') as f:\n",
    "    lines = f.readlines()\n",
    "    for line in lines:\n",
    "        tokens = line.split(\"->\")\n",
    "        fromsw = int(tokens[0])\n",
    "        tosw = int(tokens[1])\n",
    "        if fromsw not in swlist:\n",
    "            swlist.append(fromsw)\n",
    "        if tosw not in swlist:\n",
    "            swlist.append(tosw)\n",
    "print(len(swlist))"
   ]
  },
  {
   "cell_type": "markdown",
   "metadata": {},
   "source": [
    "deprecated: fix dring numbering"
   ]
  },
  {
   "cell_type": "code",
   "execution_count": 14,
   "metadata": {},
   "outputs": [],
   "source": [
    "graphname = \"dring\"\n",
    "deglist = [32,48,64,80,96]\n",
    "swlist = [40,60,80,100,120]\n",
    "for i in range(len(deglist)):\n",
    "    deg = deglist[i]\n",
    "    sw = swlist[i]\n",
    "\n",
    "    readgraphfile = f\"/home/annzhou/DRing/src/emp/datacentre/scalegraphfiles/withservers/{graphname}/{graphname}_deg{deg}_sw{sw}_sn12_i1.edgelist\"\n",
    "    racklist = list()\n",
    "    with open(readgraphfile,'r') as f:\n",
    "        lines = f.readlines()\n",
    "        for line in lines:\n",
    "            if \"->\" not in line:\n",
    "                tokens = line.split()\n",
    "                fromsw = int(tokens[0])\n",
    "                tosw = int(tokens[1])\n",
    "                if fromsw not in racklist:\n",
    "                    racklist.append(fromsw)\n",
    "                if tosw not in racklist:\n",
    "                    racklist.append(tosw)\n",
    "\n",
    "    swmapping = dict()\n",
    "    for j in range(sw):\n",
    "        swmapping[racklist[j]] = j\n",
    "\n",
    "    writegraphfile = f\"/home/annzhou/DRing/src/emp/datacentre/scalegraphfiles/{graphname}_deg{deg}_sw{sw}_sn12_i1.edgelist\"\n",
    "    with open(writegraphfile,'w') as f:\n",
    "        for line in lines:\n",
    "            if \"->\" not in line:\n",
    "                tokens = line.split()\n",
    "                fromsw = swmapping[int(tokens[0])]\n",
    "                tosw = swmapping[int(tokens[1])]\n",
    "                f.write(f\"{fromsw}->{tosw}\\n\")\n",
    "\n",
    "    # numserver = 0\n",
    "    # with open(readgraphfile,'r') as f:\n",
    "    #     lines = f.readlines()\n",
    "    #     for line in lines:\n",
    "    #         if \"->\" in line: \n",
    "    #             numserver += 1\n",
    "    # writeserverfile = f\"/home/annzhou/DRing/src/emp/datacentre/serverfiles/{graphname}_{numserver}_{sw}_{int(sw*0.8)}\"\n",
    "    # with open(readgraphfile,'r') as fr:\n",
    "    #     lines = fr.readlines()\n",
    "    #     with open(writeserverfile,'w') as f:\n",
    "    #         for line in lines:\n",
    "    #             if \"->\" in line:\n",
    "    #                 tokens = line.split(\"->\")\n",
    "    #                 myserver = int(tokens[0])-10000\n",
    "    #                 mysw = swmapping[int(tokens[1])]\n",
    "    #                 f.write(f\"{myserver},{mysw}\")"
   ]
  }
 ],
 "metadata": {
  "kernelspec": {
   "display_name": "Python 3",
   "language": "python",
   "name": "python3"
  },
  "language_info": {
   "codemirror_mode": {
    "name": "ipython",
    "version": 3
   },
   "file_extension": ".py",
   "mimetype": "text/x-python",
   "name": "python",
   "nbconvert_exporter": "python",
   "pygments_lexer": "ipython3",
   "version": "3.8.10"
  }
 },
 "nbformat": 4,
 "nbformat_minor": 2
}
