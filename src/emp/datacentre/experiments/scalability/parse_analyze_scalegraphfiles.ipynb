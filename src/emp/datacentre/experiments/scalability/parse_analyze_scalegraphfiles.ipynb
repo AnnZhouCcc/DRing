{
 "cells": [
  {
   "cell_type": "markdown",
   "metadata": {},
   "source": [
    "parse sw->sw from \"a b\" to \"a->b\", remove server->sw"
   ]
  },
  {
   "cell_type": "code",
   "execution_count": 2,
   "metadata": {},
   "outputs": [],
   "source": [
    "graphname = \"dring\"\n",
    "deglist = [32,48,64,80,96]\n",
    "swlist = [40,60,80,100,120]\n",
    "for i in range(len(deglist)):\n",
    "    deg = deglist[i]\n",
    "    sw = swlist[i]\n",
    "    readgraphfile = f\"/home/annzhou/DRing/src/emp/datacentre/scalegraphfiles/withservers/{graphname}/{graphname}_deg{deg}_sw{sw}_sn12_i1.edgelist\"\n",
    "    writegraphfile = f\"/home/annzhou/DRing/src/emp/datacentre/scalegraphfiles/{graphname}_deg{deg}_sw{sw}_sn12_i1.edgelist\"\n",
    "    with open(readgraphfile,'r') as f:\n",
    "        lines = f.readlines()\n",
    "    with open(writegraphfile,'w') as f:\n",
    "        for line in lines:\n",
    "            if \"->\" not in line:\n",
    "                tokens = line.split()\n",
    "                f.write(f\"{tokens[0]}->{tokens[1]}\\n\")"
   ]
  },
  {
   "cell_type": "code",
   "execution_count": 3,
   "metadata": {},
   "outputs": [],
   "source": [
    "graphname = \"ls\"\n",
    "ylist = [8,12,16,20,24]\n",
    "for y in ylist:\n",
    "    x = y*3\n",
    "    readgraphfile = f\"/home/annzhou/DRing/src/emp/datacentre/scalegraphfiles/withservers/leafspine/{graphname}_x{x}_y{y}_i1.edgelist\"\n",
    "    writegraphfile = f\"/home/annzhou/DRing/src/emp/datacentre/scalegraphfiles/{graphname}_x{x}_y{y}_i1.edgelist\"\n",
    "    with open(readgraphfile,'r') as f:\n",
    "        lines = f.readlines()\n",
    "    with open(writegraphfile,'w') as f:\n",
    "        for line in lines:\n",
    "            if \"->\" not in line:\n",
    "                tokens = line.split()\n",
    "                f.write(f\"{tokens[0]}->{tokens[1]}\\n\")"
   ]
  },
  {
   "cell_type": "code",
   "execution_count": 5,
   "metadata": {},
   "outputs": [],
   "source": [
    "graphname = \"rrg\"\n",
    "deglist = [32,48,64,80,96]\n",
    "swlist = [40,60,80,100,120]\n",
    "for i in range(len(deglist)):\n",
    "    deg = deglist[i]\n",
    "    sw = swlist[i]\n",
    "    svr = (sw//5)*(sw//5)*12\n",
    "    readgraphfile = f\"/home/annzhou/DRing/src/emp/datacentre/scalegraphfiles/withservers/{graphname}/{graphname}_deg{deg}_sw{sw}_svr{svr}_os1_i1.edgelist\"\n",
    "    writegraphfile = f\"/home/annzhou/DRing/src/emp/datacentre/scalegraphfiles/{graphname}_deg{deg}_sw{sw}_svr{svr}_os1_i1.edgelist\"\n",
    "    with open(readgraphfile,'r') as f:\n",
    "        lines = f.readlines()\n",
    "    with open(writegraphfile,'w') as f:\n",
    "        for line in lines:\n",
    "            if \"->\" not in line:\n",
    "                tokens = line.split()\n",
    "                f.write(f\"{tokens[0]}->{tokens[1]}\\n\")"
   ]
  }
 ],
 "metadata": {
  "kernelspec": {
   "display_name": "Python 3",
   "language": "python",
   "name": "python3"
  },
  "language_info": {
   "codemirror_mode": {
    "name": "ipython",
    "version": 3
   },
   "file_extension": ".py",
   "mimetype": "text/x-python",
   "name": "python",
   "nbconvert_exporter": "python",
   "pygments_lexer": "ipython3",
   "version": "3.8.10"
  }
 },
 "nbformat": 4,
 "nbformat_minor": 2
}
