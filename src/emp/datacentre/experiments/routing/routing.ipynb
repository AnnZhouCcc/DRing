{
 "cells": [
  {
   "cell_type": "markdown",
   "metadata": {},
   "source": [
    "generate conffile"
   ]
  },
  {
   "cell_type": "code",
   "execution_count": 2,
   "metadata": {},
   "outputs": [],
   "source": [
    "trafficname = \"unv1\"\n",
    "multstrarr1 = [\"0 2 25\",\"0 17 100\",\"0 1 4\",\"0 17 50\"]\n",
    "multstrarr2 = [\"0 21 50\",\"0 51 100\",\"0 59 100\",\"0 34 50\",\"0 38 50\",\"0 17 20\"]\n",
    "multnamearr1 = range(5,21,5)\n",
    "multnamearr2 = range(25,51,5)\n",
    "sseedarr = range(1,6)\n",
    "\n",
    "conffile = f\"/home/annzhou/DRing/src/emp/datacentre/experiments/routing/{trafficname}.conf\"\n",
    "make_leafspine = \"MAKE\"\n",
    "make_dring = \"MAKE\"\n",
    "with open(conffile,'w') as f:\n",
    "    for imultstr,multstr in enumerate(multstrarr1):\n",
    "        for sseed in sseedarr:\n",
    "            multname = multnamearr1[imultstr]\n",
    "            f.write(f\"./run.sh LEAFSPINE {make_leafspine} 80 3072 64 leafspine_{trafficname} NEW_WISC null {multstr} 4 8 0 0 0 0 ecmp 0 {trafficname} {sseed} netpathfiles/netpath_ecmp_leafspine.txt qvarfiles/qvar_leafspine_0_0_ecmp_64 64 50 150 200 0 0 > m_leafspine_{trafficname}_{multname}_{sseed}.log\\n\")\n",
    "            make_leafspine = \"NOMAKE\"\n",
    "            f.write(f\"./run.sh RRG {make_dring} 80 2988 64 dring_{trafficname} NEW_WISC graphfiles/ring_supergraph/double_ring/instance1_80_64.edgelist {multstr} 4 8 0 0 0 0 null 0 {trafficname} {sseed} null null 64 50 150 200 0 0 > m_dring_{trafficname}_{multname}_{sseed}.log\\n\")\n",
    "            make_dring = \"NOMAKE\"\n",
    "    for imultstr,multstr in enumerate(multstrarr2):\n",
    "        for sseed in sseedarr:\n",
    "            multname = multnamearr2[imultstr]\n",
    "            f.write(f\"./run.sh RRG {make_dring} 80 2988 64 dring_{trafficname} NEW_WISC graphfiles/ring_supergraph/double_ring/instance1_80_64.edgelist {multstr} 4 8 0 0 0 0 null 0 {trafficname} {sseed} null null 64 50 150 200 0 0 > m_dring_{trafficname}_{multname}_{sseed}.log\\n\")\n",
    "            make_dring = \"NOMAKE\""
   ]
  },
  {
   "cell_type": "code",
   "execution_count": 10,
   "metadata": {},
   "outputs": [],
   "source": [
    "trafficname = \"prv1\"\n",
    "multstrarr1 = [\"0 2 100\",\"0 5 100\",\"0 7 100\",\"0 10 100\",\"0 12 100\",\"0 15 100\",\"0 17 100\",\"0 20 100\"]\n",
    "multstrarr2 = [\"0 22 100\"]\n",
    "multnamearr1 = range(2,17,2)\n",
    "multnamearr2 = [18]\n",
    "sseedarr = range(1,6)\n",
    "\n",
    "conffile = f\"/home/annzhou/DRing/src/emp/datacentre/experiments/routing/{trafficname}.conf\"\n",
    "make_leafspine = \"MAKE\"\n",
    "make_dring = \"MAKE\"\n",
    "with open(conffile,'w') as f:\n",
    "    for imultstr,multstr in enumerate(multstrarr1):\n",
    "        for sseed in sseedarr:\n",
    "            multname = multnamearr1[imultstr]\n",
    "            f.write(f\"./run.sh LEAFSPINE {make_leafspine} 80 3072 64 leafspine_{trafficname} NEW_WISC null {multstr} 4 8 0 0 0 0 ecmp 0 {trafficname} {sseed} netpathfiles/netpath_ecmp_leafspine.txt qvarfiles/qvar_leafspine_0_0_ecmp_64 64 50 150 200 0 0 > m_leafspine_{trafficname}_{multname}_{sseed}.log\\n\")\n",
    "            make_leafspine = \"NOMAKE\"\n",
    "            f.write(f\"./run.sh RRG {make_dring} 80 2988 64 dring_{trafficname} NEW_WISC graphfiles/ring_supergraph/double_ring/instance1_80_64.edgelist {multstr} 4 8 0 0 0 0 null 0 {trafficname} {sseed} null null 64 50 150 200 0 0 > m_dring_{trafficname}_{multname}_{sseed}.log\\n\")\n",
    "            make_dring = \"NOMAKE\"\n",
    "    for imultstr,multstr in enumerate(multstrarr2):\n",
    "        for sseed in sseedarr:\n",
    "            multname = multnamearr2[imultstr]\n",
    "            f.write(f\"./run.sh RRG {make_dring} 80 2988 64 dring_{trafficname} NEW_WISC graphfiles/ring_supergraph/double_ring/instance1_80_64.edgelist {multstr} 4 8 0 0 0 0 null 0 {trafficname} {sseed} null null 64 50 150 200 0 0 > m_dring_{trafficname}_{multname}_{sseed}.log\\n\")\n",
    "            make_dring = \"NOMAKE\""
   ]
  },
  {
   "cell_type": "code",
   "execution_count": 2,
   "metadata": {},
   "outputs": [],
   "source": [
    "trafficname = \"cluster_a\"\n",
    "multstrarr1 = [\"20 42 100\",\"12 25 100\",\"4 8 100\",\"28 59 100\"]\n",
    "multstrarr2 = []\n",
    "multnamearr1 = [10,30,50,70]\n",
    "multnamearr2 = []\n",
    "sseedarr = range(1,2)\n",
    "\n",
    "conffile = f\"/home/annzhou/DRing/src/emp/datacentre/experiments/routing/{trafficname}.conf\"\n",
    "make_leafspine = \"MAKE\"\n",
    "make_dring = \"MAKE\"\n",
    "with open(conffile,'w') as f:\n",
    "    for imultstr,multstr in enumerate(multstrarr1):\n",
    "        for sseed in sseedarr:\n",
    "            multname = multnamearr1[imultstr]\n",
    "            f.write(f\"./run.sh LEAFSPINE {make_leafspine} 80 3072 64 leafspine_{trafficname} NEW_WISC null {multstr} 24 48 0 0 0 0 ecmp 0 {trafficname} {sseed} netpathfiles/netpath_ecmp_leafspine.txt qvarfiles/qvar_leafspine_0_0_ecmp_64 64 50 150 200 0 0 > m_leafspine_{trafficname}_{multname}_{sseed}.log\\n\")\n",
    "            make_leafspine = \"NOMAKE\"\n",
    "            f.write(f\"./run.sh RRG {make_dring} 80 2988 64 dring_{trafficname} NEW_WISC graphfiles/ring_supergraph/double_ring/instance1_80_64.edgelist {multstr} 24 48 0 0 0 0 null 0 {trafficname} {sseed} null null 64 50 150 200 0 0 > m_dring_{trafficname}_{multname}_{sseed}.log\\n\")\n",
    "            make_dring = \"NOMAKE\"\n",
    "    for imultstr,multstr in enumerate(multstrarr2):\n",
    "        for sseed in sseedarr:\n",
    "            multname = multnamearr2[imultstr]\n",
    "            f.write(f\"./run.sh RRG {make_dring} 80 2988 64 dring_{trafficname} NEW_WISC graphfiles/ring_supergraph/double_ring/instance1_80_64.edgelist {multstr} 24 48 0 0 0 0 null 0 {trafficname} {sseed} null null 64 50 150 200 0 0 > m_dring_{trafficname}_{multname}_{sseed}.log\\n\")\n",
    "            make_dring = \"NOMAKE\""
   ]
  },
  {
   "cell_type": "code",
   "execution_count": 3,
   "metadata": {},
   "outputs": [],
   "source": [
    "trafficname = \"cluster_b\"\n",
    "multstrarr1 = [\"0 27 100\",\"0 80 100\",\"1 34 100\",\"1 87 100\",\"2 40 100\"]\n",
    "multstrarr2 = []\n",
    "multnamearr1 = [10,30,50,70,90]\n",
    "multnamearr2 = []\n",
    "sseedarr = range(1,2)\n",
    "\n",
    "conffile = f\"/home/annzhou/DRing/src/emp/datacentre/experiments/routing/{trafficname}.conf\"\n",
    "make_leafspine = \"MAKE\"\n",
    "make_dring = \"MAKE\"\n",
    "with open(conffile,'w') as f:\n",
    "    for imultstr,multstr in enumerate(multstrarr1):\n",
    "        for sseed in sseedarr:\n",
    "            multname = multnamearr1[imultstr]\n",
    "            f.write(f\"./run.sh LEAFSPINE {make_leafspine} 80 3072 64 leafspine_{trafficname} NEW_WISC null {multstr} 24 48 0 0 0 0 ecmp 0 {trafficname} {sseed} netpathfiles/netpath_ecmp_leafspine.txt qvarfiles/qvar_leafspine_0_0_ecmp_64 64 50 150 200 0 0 > m_leafspine_{trafficname}_{multname}_{sseed}.log\\n\")\n",
    "            make_leafspine = \"NOMAKE\"\n",
    "            f.write(f\"./run.sh RRG {make_dring} 80 2988 64 dring_{trafficname} NEW_WISC graphfiles/ring_supergraph/double_ring/instance1_80_64.edgelist {multstr} 24 48 0 0 0 0 null 0 {trafficname} {sseed} null null 64 50 150 200 0 0 > m_dring_{trafficname}_{multname}_{sseed}.log\\n\")\n",
    "            make_dring = \"NOMAKE\"\n",
    "    for imultstr,multstr in enumerate(multstrarr2):\n",
    "        for sseed in sseedarr:\n",
    "            multname = multnamearr2[imultstr]\n",
    "            f.write(f\"./run.sh RRG {make_dring} 80 2988 64 dring_{trafficname} NEW_WISC graphfiles/ring_supergraph/double_ring/instance1_80_64.edgelist {multstr} 24 48 0 0 0 0 null 0 {trafficname} {sseed} null null 64 50 150 200 0 0 > m_dring_{trafficname}_{multname}_{sseed}.log\\n\")\n",
    "            make_dring = \"NOMAKE\""
   ]
  },
  {
   "cell_type": "code",
   "execution_count": 4,
   "metadata": {},
   "outputs": [],
   "source": [
    "trafficname = \"cluster_c\"\n",
    "multstrarr1 = [\"0 19 100\",\"0 57 100\",\"0 94 100\",\"1 32 100\"]\n",
    "multstrarr2 = []\n",
    "multnamearr1 = [10,30,50,70]\n",
    "multnamearr2 = []\n",
    "sseedarr = range(1,2)\n",
    "\n",
    "conffile = f\"/home/annzhou/DRing/src/emp/datacentre/experiments/routing/{trafficname}.conf\"\n",
    "make_leafspine = \"MAKE\"\n",
    "make_dring = \"MAKE\"\n",
    "with open(conffile,'w') as f:\n",
    "    for imultstr,multstr in enumerate(multstrarr1):\n",
    "        for sseed in sseedarr:\n",
    "            multname = multnamearr1[imultstr]\n",
    "            f.write(f\"./run.sh LEAFSPINE {make_leafspine} 80 3072 64 leafspine_{trafficname} NEW_WISC null {multstr} 24 48 0 0 0 0 ecmp 0 {trafficname} {sseed} netpathfiles/netpath_ecmp_leafspine.txt qvarfiles/qvar_leafspine_0_0_ecmp_64 64 50 150 200 0 0 > m_leafspine_{trafficname}_{multname}_{sseed}.log\\n\")\n",
    "            make_leafspine = \"NOMAKE\"\n",
    "            f.write(f\"./run.sh RRG {make_dring} 80 2988 64 dring_{trafficname} NEW_WISC graphfiles/ring_supergraph/double_ring/instance1_80_64.edgelist {multstr} 24 48 0 0 0 0 null 0 {trafficname} {sseed} null null 64 50 150 200 0 0 > m_dring_{trafficname}_{multname}_{sseed}.log\\n\")\n",
    "            make_dring = \"NOMAKE\"\n",
    "    for imultstr,multstr in enumerate(multstrarr2):\n",
    "        for sseed in sseedarr:\n",
    "            multname = multnamearr2[imultstr]\n",
    "            f.write(f\"./run.sh RRG {make_dring} 80 2988 64 dring_{trafficname} NEW_WISC graphfiles/ring_supergraph/double_ring/instance1_80_64.edgelist {multstr} 24 48 0 0 0 0 null 0 {trafficname} {sseed} null null 64 50 150 200 0 0 > m_dring_{trafficname}_{multname}_{sseed}.log\\n\")\n",
    "            make_dring = \"NOMAKE\""
   ]
  },
  {
   "cell_type": "markdown",
   "metadata": {},
   "source": [
    "generate sumfile & picklefile"
   ]
  },
  {
   "cell_type": "code",
   "execution_count": 1,
   "metadata": {},
   "outputs": [
    {
     "name": "stdout",
     "output_type": "stream",
     "text": [
      "m_leafspine_cluster_b_10_1.log\n",
      "m_dring_cluster_b_10_1.log\n",
      "m_leafspine_cluster_b_30_1.log\n",
      "m_dring_cluster_b_30_1.log\n",
      "m_leafspine_cluster_b_50_1.log\n",
      "m_dring_cluster_b_50_1.log\n",
      "m_leafspine_cluster_b_70_1.log\n",
      "m_dring_cluster_b_70_1.log\n",
      "m_leafspine_cluster_b_90_1.log\n",
      "m_dring_cluster_b_90_1.log\n"
     ]
    }
   ],
   "source": [
    "import pickle\n",
    "\n",
    "trafficname = \"cluster_b\"\n",
    "\n",
    "homedir = \"/u/az6922\"\n",
    "datadict = dict()\n",
    "conffile = f\"{homedir}/DRing/src/emp/datacentre/experiments/routing/{trafficname}.conf\"\n",
    "sumfile = f\"{homedir}/DRing/src/emp/datacentre/experiments/routing/{trafficname}.txt\"\n",
    "with open(conffile,'r') as f:\n",
    "    with open(sumfile,'a') as sumf:\n",
    "        lines = f.readlines()\n",
    "        for line in lines:\n",
    "            tokens = line.split()\n",
    "            logfile = tokens[31]\n",
    "            sizelist = list()\n",
    "            durationlist = list()\n",
    "            startlist = list()\n",
    "            with open(f\"{homedir}/DRing/src/emp/datacentre/{logfile}\",'r') as logf:\n",
    "                print(logfile)\n",
    "                loglines = logf.readlines()\n",
    "                for logline in loglines:\n",
    "                    logtokens = logline.split()\n",
    "                    if logtokens[0] == \"FCT\":\n",
    "                        durationlist.append(float(logtokens[2]))\n",
    "                        sizelist.append(int(logtokens[1]))\n",
    "                        startlist.append(float(logtokens[3]))\n",
    "            datadict[logfile] = [durationlist,sizelist,startlist]\n",
    "            durationlist.sort()\n",
    "            sumf.write(f\"{logfile}\\t{sum(durationlist)/len(durationlist)}\\t{durationlist[int(len(durationlist)*0.5)]}\\t{durationlist[int(len(durationlist)*0.99)]}\\t{durationlist[int(len(durationlist)*0.9999)]}\\n\")\n",
    "\n",
    "# with open(f'/home/annzhou/DRing/src/emp/datacentre/experiments/routing/{trafficname}_data.pickle', 'wb') as handle:\n",
    "#     pickle.dump(datadict, handle, protocol=pickle.HIGHEST_PROTOCOL)"
   ]
  },
  {
   "cell_type": "markdown",
   "metadata": {},
   "source": [
    "plot"
   ]
  },
  {
   "cell_type": "code",
   "execution_count": 5,
   "metadata": {},
   "outputs": [
    {
     "data": {
      "image/png": "[encoded data removed]",
      "text/plain": [
       "<Figure size 640x480 with 1 Axes>"
      ]
     },
     "metadata": {},
     "output_type": "display_data"
    }
   ],
   "source": [
    "import matplotlib\n",
    "import matplotlib.pyplot as plt\n",
    "import numpy as np\n",
    "\n",
    "trafficname = \"prv1\"\n",
    "\n",
    "homedir = \"/home/annzhou\"\n",
    "leafspinemultlistarr = [[0,2,100],[0,5,100],[0,7,100],[0,10,100],[0,12,100],[0,15,100],[0,17,100],[0,20,100]]\n",
    "dringmultlistarr = [[0,2,100],[0,5,100],[0,7,100],[0,10,100],[0,12,100],[0,15,100],[0,17,100],[0,20,100],[0,22,100]]\n",
    "leafspinemultnamearr = range(2,17,2)\n",
    "dringmultnamearr = range(2,19,2)\n",
    "fseedarr = range(5)\n",
    "sumfile = f\"{homedir}/DRing/src/emp/datacentre/experiments/routing/{trafficname}.txt\"\n",
    "\n",
    "xlist = list()\n",
    "ylist_over_mult = list()\n",
    "for imultlist,multlist in enumerate(leafspinemultlistarr):\n",
    "    mult = multlist[0]\n",
    "    numerator = multlist[1]\n",
    "    denominator = multlist[2]\n",
    "    multname = leafspinemultnamearr[imultlist]\n",
    "\n",
    "    xlist.append(mult + numerator/denominator)\n",
    "\n",
    "    with open(sumfile,'r') as f:\n",
    "        lines = f.readlines()\n",
    "        fct_over_fseed = list()\n",
    "        for fseed in fseedarr:\n",
    "            logfile = f\"m_leafspine_{trafficname}_{multname}_{fseed}.log\"\n",
    "            for line in lines:\n",
    "                tokens = line.split()\n",
    "                if tokens[0] == logfile:\n",
    "                    n99fct = float(tokens[3])\n",
    "                    fct_over_fseed.append(n99fct)\n",
    "        ylist_over_mult.append(sum(fct_over_fseed)/len(fct_over_fseed))\n",
    "plt.plot(xlist,ylist_over_mult,label=\"leafspine\",marker='x')\n",
    "\n",
    "xlist = list()\n",
    "ylist_over_mult = list()\n",
    "for imultlist,multlist in enumerate(dringmultlistarr):\n",
    "    mult = multlist[0]\n",
    "    numerator = multlist[1]\n",
    "    denominator = multlist[2]\n",
    "    multname = dringmultnamearr[imultlist]\n",
    "\n",
    "    xlist.append(mult + numerator/denominator)\n",
    "\n",
    "    with open(sumfile,'r') as f:\n",
    "        lines = f.readlines()\n",
    "        fct_over_fseed = list()\n",
    "        for fseed in fseedarr:\n",
    "            logfile = f\"m_dring_{trafficname}_{multname}_{fseed}.log\"\n",
    "            for line in lines:\n",
    "                tokens = line.split()\n",
    "                if tokens[0] == logfile:\n",
    "                    n99fct = float(tokens[3])\n",
    "                    fct_over_fseed.append(n99fct)\n",
    "        ylist_over_mult.append(sum(fct_over_fseed)/len(fct_over_fseed))\n",
    "plt.plot(xlist,ylist_over_mult,label=\"dring\",marker='.')\n",
    "\n",
    "plt.legend()\n",
    "plt.xlabel('load (%)')\n",
    "plt.ylabel('99ile fct (ms)')\n",
    "plt.title(f'{trafficname}, 5 runs')\n",
    "# plt.ylim(0,20)\n",
    "plt.savefig(f\"{homedir}/DRing/src/emp/datacentre/experiments/routing/{trafficname}.png\", dpi=500)\n",
    "plt.show()"
   ]
  },
  {
   "cell_type": "markdown",
   "metadata": {},
   "source": [
    "delete log,run files"
   ]
  },
  {
   "cell_type": "code",
   "execution_count": null,
   "metadata": {},
   "outputs": [],
   "source": [
    "import os\n",
    "\n",
    "homedir = \"/u/az6922\"\n",
    "dringdir = f\"{homedir}/DRing/src/emp/datacentre\"\n",
    "for filedir in os.listdir(dringdir):\n",
    "    if os.path.isfile(os.path.join(dringdir, filedir)):\n",
    "        tokens = filedir.split(\"_\")\n",
    "        if tokens[0]==\"m\" and (tokens[1]==\"leafspine\" or tokens[1]==\"dring\") and tokens[-1].split('.')[-1]==\"log\":\n",
    "            print(filedir)\n",
    "            os.remove(f\"{homedir}/DRing/src/emp/datacentre/{filedir}\")\n",
    "        if (tokens[0]==\"rrg\" or tokens[0]==\"leafspine\") and tokens[1]==\"log\":\n",
    "            print(filedir)\n",
    "            os.remove(f\"{homedir}/DRing/src/emp/datacentre/{filedir}\")\n",
    "        if (tokens[-1]==\"run\") and ((tokens[0]==\"leafspine\" and tokens[1]==\"leafspine\") or (tokens[0]==\"rrg\" and (tokens[1]==\"rrg\" or tokens[1]==\"dring\"))):\n",
    "            print(filedir)\n",
    "            os.remove(f\"{homedir}/DRing/src/emp/datacentre/{filedir}\")"
   ]
  }
 ],
 "metadata": {
  "kernelspec": {
   "display_name": "Python 3",
   "language": "python",
   "name": "python3"
  },
  "language_info": {
   "codemirror_mode": {
    "name": "ipython",
    "version": 3
   },
   "file_extension": ".py",
   "mimetype": "text/x-python",
   "name": "python",
   "nbconvert_exporter": "python",
   "pygments_lexer": "ipython3",
   "version": "3.10.12"
  }
 },
 "nbformat": 4,
 "nbformat_minor": 2
}
