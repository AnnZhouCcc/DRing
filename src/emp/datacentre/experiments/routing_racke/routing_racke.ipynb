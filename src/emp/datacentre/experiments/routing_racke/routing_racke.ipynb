{
 "cells": [
  {
   "cell_type": "markdown",
   "metadata": {},
   "source": [
    "Generate choicefile"
   ]
  },
  {
   "cell_type": "code",
   "execution_count": 1,
   "metadata": {},
   "outputs": [],
   "source": [
    "trafficfilenamearr = [\"unv1\",\"prv1\",\"cluster_a\",\"cluster_b\",\"cluster_c\"]\n",
    "numintervalarr = [4,4,24,24,24]\n",
    "for itrafficfilename,trafficfilename in enumerate(trafficfilenamearr):\n",
    "    numinterval = numintervalarr[itrafficfilename]\n",
    "    choicefile = f\"/home/annzhou/DRing/src/emp/datacentre/choicefiles/{trafficfilename}\"\n",
    "    with open(choicefile,'w') as f:\n",
    "        for _ in range(numinterval):\n",
    "            f.write(\"5\\n\")"
   ]
  },
  {
   "cell_type": "markdown",
   "metadata": {},
   "source": [
    "Generate qivarfiles for meta\n",
    "inspired by computerouting2/computerouting2.ipynb"
   ]
  },
  {
   "cell_type": "code",
   "execution_count": 4,
   "metadata": {},
   "outputs": [],
   "source": [
    "def copy(copyfromfile, copyintofile):\n",
    "    with open(copyfromfile,'r') as fr:\n",
    "        lines = fr.readlines()\n",
    "        with open(copyintofile,'w') as fw:\n",
    "            for line in lines:\n",
    "                tokens = line.split()\n",
    "                fromsw = int(tokens[0])\n",
    "                tosw = int(tokens[1])\n",
    "                pid = int(tokens[2])\n",
    "                value = float(tokens[5])\n",
    "                fw.write(f\"{fromsw},{tosw},{pid},{value}\\n\")"
   ]
  },
  {
   "cell_type": "code",
   "execution_count": 5,
   "metadata": {},
   "outputs": [],
   "source": [
    "clusterarr = [\"a\",\"b\",\"c\"]\n",
    "intervalstart = 24\n",
    "intervalend = 48\n",
    "factor = 64\n",
    "numsw = 80\n",
    "racke = 0\n",
    "step = 1800\n",
    "\n",
    "for cluster in clusterarr:\n",
    "    for interval in range(intervalstart, intervalend):\n",
    "        copyfromivarfile = f\"/home/annzhou/DRing/src/emp/datacentre/pathweightfiles/dring/racke{racke}/cluster{cluster}/pathweight_dring_racke{racke}_cluster{cluster}_lp1_barriernocrossover_{interval*step}_{(interval+1)*step}_{factor}.txt\"\n",
    "        copyintoqivarfile = f\"/home/annzhou/DRing/src/emp/datacentre/qivarfiles/qivar_dring_0_0_cluster_{cluster}_{interval}_racke{racke}_2_0\"\n",
    "        copy(copyfromivarfile, copyintoqivarfile)"
   ]
  },
  {
   "cell_type": "markdown",
   "metadata": {},
   "source": [
    "Generate qivarfiles for wisc\n",
    "inspired by computerouting2/computerouting2.ipynb"
   ]
  },
  {
   "cell_type": "code",
   "execution_count": null,
   "metadata": {},
   "outputs": [],
   "source": []
  },
  {
   "cell_type": "markdown",
   "metadata": {},
   "source": [
    "generate conffile"
   ]
  },
  {
   "cell_type": "code",
   "execution_count": 24,
   "metadata": {},
   "outputs": [],
   "source": [
    "trafficname = \"unv1\"\n",
    "multstrarr1 = [\"0 2 25\",\"0 17 100\",\"0 1 4\",\"0 17 50\",\"0 21 50\",\"0 51 100\"]\n",
    "# multstrarr2 = [\"0 21 50\",\"0 51 100\",\"0 59 100\",\"0 34 50\",\"0 38 50\",\"0 17 20\"]\n",
    "multnamearr1 = range(5,31,5)\n",
    "# multnamearr2 = range(25,51,5)\n",
    "sseedarr = range(1,6)\n",
    "\n",
    "conffile = f\"/home/annzhou/DRing/src/emp/datacentre/experiments/routing_fhi/{trafficname}.conf\"\n",
    "make_leafspine = \"MAKE\"\n",
    "make_dring = \"MAKE\"\n",
    "with open(conffile,'w') as f:\n",
    "    for imultstr,multstr in enumerate(multstrarr1):\n",
    "        for sseed in sseedarr:\n",
    "            multname = multnamearr1[imultstr]\n",
    "            # f.write(f\"./run.sh LEAFSPINE {make_leafspine} 80 3072 64 leafspine_{trafficname} NEW_WISC null {multstr} 4 8 0 0 0 0 ecmp 0 {trafficname} {sseed} netpathfiles/netpath_ecmp_leafspine.txt qvarfiles/qvar_leafspine_0_0_ecmp_64 64 50 150 200 0 0 > m_leafspine_{trafficname}_{multname}_{sseed}.log\\n\")\n",
    "            make_leafspine = \"NOMAKE\"\n",
    "            f.write(f\"./run.sh RRG {make_dring} 80 2988 64 dring_{trafficname} NEW_WISC graphfiles/ring_supergraph/double_ring/instance1_80_64.edgelist {multstr} 4 8 0 0 0 0 fhi 0 {trafficname} serverfiles/dring_2988_80_64 {sseed} null null 64 50 150 200 0 0 > m_dring_{trafficname}_{multname}_{sseed}.log\\n\")\n",
    "            make_dring = \"NOMAKE\""
   ]
  },
  {
   "cell_type": "code",
   "execution_count": 26,
   "metadata": {},
   "outputs": [],
   "source": [
    "trafficname = \"prv1\"\n",
    "multstrarr1 = [\"0 2 100\",\"0 5 100\",\"0 7 100\",\"0 10 100\",\"0 12 100\",\"0 15 100\",\"0 17 100\",\"0 20 100\",\"0 22 100\",\"0 25 100\"]\n",
    "# multstrarr2 = [\"0 22 100\"]\n",
    "multnamearr1 = range(2,21,2)\n",
    "# multnamearr2 = [18]\n",
    "# multstrarr1 = [\"0 25 100\",\"0 37 100\",\"0 49 100\",\"0 62 100\",\"0 74 100\"]\n",
    "# multstrarr2 = []\n",
    "# multnamearr1 = range(20,61,10)\n",
    "# multnamearr2 = []\n",
    "sseedarr = range(1,6)\n",
    "\n",
    "conffile = f\"/home/annzhou/DRing/src/emp/datacentre/experiments/routing_fhi/{trafficname}.conf\"\n",
    "make_leafspine = \"MAKE\"\n",
    "make_dring = \"MAKE\"\n",
    "with open(conffile,'w') as f:\n",
    "    for imultstr,multstr in enumerate(multstrarr1):\n",
    "        for sseed in sseedarr:\n",
    "            multname = multnamearr1[imultstr]\n",
    "            # f.write(f\"./run.sh LEAFSPINE {make_leafspine} 80 3072 64 leafspine_{trafficname} NEW_WISC null {multstr} 4 8 0 0 0 0 ecmp 0 {trafficname} {sseed} netpathfiles/netpath_ecmp_leafspine.txt qvarfiles/qvar_leafspine_0_0_ecmp_64 64 50 150 200 0 0 > m_leafspine_{trafficname}_{multname}_{sseed}.log\\n\")\n",
    "            make_leafspine = \"NOMAKE\"\n",
    "            f.write(f\"./run.sh RRG {make_dring} 80 2988 64 dring_{trafficname} NEW_WISC graphfiles/ring_supergraph/double_ring/instance1_80_64.edgelist {multstr} 4 8 0 0 0 0 fhi 0 {trafficname} serverfiles/dring_2988_80_64 {sseed} null null 64 50 150 200 0 0 > m_dring_{trafficname}_{multname}_{sseed}.log\\n\")\n",
    "            make_dring = \"NOMAKE\""
   ]
  },
  {
   "cell_type": "code",
   "execution_count": 7,
   "metadata": {},
   "outputs": [],
   "source": [
    "trafficname = \"cluster_a\"\n",
    "racke=0\n",
    "multstrarr1 = [\"4 8 100\",\"8 17 100\",\"12 25 100\",\"16 34 100\",\"20 42 100\",\"24 51 100\",\"28 59 100\",\"32 67 100\",\"36 76 100\"]\n",
    "multnamearr1 = range(10,91,10)\n",
    "sseedarr = range(1,6)\n",
    "\n",
    "conffile = f\"/home/annzhou/DRing/src/emp/datacentre/experiments/routing_racke/{trafficname}_{racke}.conf\"\n",
    "make_leafspine = \"MAKE\"\n",
    "make_dring = \"MAKE\"\n",
    "with open(conffile,'w') as f:\n",
    "    for imultstr,multstr in enumerate(multstrarr1):\n",
    "        for sseed in sseedarr:\n",
    "            multname = multnamearr1[imultstr]\n",
    "            # f.write(f\"./run.sh LEAFSPINE {make_leafspine} 80 3072 64 leafspine_{trafficname} NEW_WISC null {multstr} 24 48 0 0 0 0 ecmp 0 {trafficname} {sseed} netpathfiles/netpath_ecmp_leafspine.txt qvarfiles/qvar_leafspine_0_0_ecmp_64 64 50 150 200 0 0 > m_leafspine_{trafficname}_{multname}_{sseed}.log\\n\")\n",
    "            make_leafspine = \"NOMAKE\"\n",
    "            f.write(f\"./run.sh RRG {make_dring} 80 2988 64 dring_{trafficname}_{racke} NEW_WISC graphfiles/ring_supergraph/double_ring/instance1_80_64.edgelist {multstr} 24 48 0 0 0 0 racke {racke} {trafficname} serverfiles/dring_2988_80_64 {sseed} null null 64 50 150 200 0 0 > m_dring_{trafficname}_{racke}_{multname}_{sseed}.log\\n\")\n",
    "            make_dring = \"NOMAKE\""
   ]
  },
  {
   "cell_type": "code",
   "execution_count": 2,
   "metadata": {},
   "outputs": [],
   "source": [
    "trafficname = \"cluster_b\"\n",
    "racke=0\n",
    "multstrarr1 = [\"0 27 100\",\"0 53 100\",\"0 80 100\",\"1 7 100\",\"1 34 100\",\"1 60 100\",\"1 87 100\",\"2 14 100\",\"2 40 100\"]\n",
    "multnamearr1 = range(10,91,10)\n",
    "sseedarr = range(1,6)\n",
    "\n",
    "conffile = f\"/u/az6922/DRing/src/emp/datacentre/experiments/routing_racke/{trafficname}_{racke}.conf\"\n",
    "make_leafspine = \"MAKE\"\n",
    "make_dring = \"MAKE\"\n",
    "with open(conffile,'w') as f:\n",
    "    for imultstr,multstr in enumerate(multstrarr1):\n",
    "        for sseed in sseedarr:\n",
    "            multname = multnamearr1[imultstr]\n",
    "            # f.write(f\"./run.sh LEAFSPINE {make_leafspine} 80 3072 64 leafspine_{trafficname} NEW_WISC null {multstr} 24 48 0 0 0 0 ecmp 0 {trafficname} {sseed} netpathfiles/netpath_ecmp_leafspine.txt qvarfiles/qvar_leafspine_0_0_ecmp_64 64 50 150 200 0 0 > m_leafspine_{trafficname}_{multname}_{sseed}.log\\n\")\n",
    "            make_leafspine = \"NOMAKE\"\n",
    "            f.write(f\"./run.sh RRG {make_dring} 80 2988 64 dring_{trafficname}_{racke} NEW_WISC graphfiles/ring_supergraph/double_ring/instance1_80_64.edgelist {multstr} 24 48 0 0 0 0 racke {racke} {trafficname} serverfiles/dring_2988_80_64 {sseed} null null 64 50 150 200 0 0 > m_dring_{trafficname}_{racke}_{multname}_{sseed}.log\\n\")\n",
    "            make_dring = \"NOMAKE\""
   ]
  },
  {
   "cell_type": "code",
   "execution_count": 9,
   "metadata": {},
   "outputs": [],
   "source": [
    "trafficname = \"cluster_c\"\n",
    "racke=0\n",
    "multstrarr1 = [\"0 19 100\",\"0 38 100\",\"0 57 100\",\"0 75 100\",\"0 94 100\",\"1 13 100\",\"1 32 100\",\"1 51 100\",\"1 70 100\"]\n",
    "multnamearr1 = range(10,91,10)\n",
    "sseedarr = range(1,6)\n",
    "\n",
    "conffile = f\"/home/annzhou/DRing/src/emp/datacentre/experiments/routing_racke/{trafficname}_{racke}.conf\"\n",
    "make_leafspine = \"MAKE\"\n",
    "make_dring = \"MAKE\"\n",
    "with open(conffile,'w') as f:\n",
    "    for imultstr,multstr in enumerate(multstrarr1):\n",
    "        for sseed in sseedarr:\n",
    "            multname = multnamearr1[imultstr]\n",
    "            # f.write(f\"./run.sh LEAFSPINE {make_leafspine} 80 3072 64 leafspine_{trafficname} NEW_WISC null {multstr} 24 48 0 0 0 0 ecmp 0 {trafficname} {sseed} netpathfiles/netpath_ecmp_leafspine.txt qvarfiles/qvar_leafspine_0_0_ecmp_64 64 50 150 200 0 0 > m_leafspine_{trafficname}_{multname}_{sseed}.log\\n\")\n",
    "            make_leafspine = \"NOMAKE\"\n",
    "            f.write(f\"./run.sh RRG {make_dring} 80 2988 64 dring_{trafficname}_{racke} NEW_WISC graphfiles/ring_supergraph/double_ring/instance1_80_64.edgelist {multstr} 24 48 0 0 0 0 racke {racke} {trafficname} serverfiles/dring_2988_80_64 {sseed} null null 64 50 150 200 0 0 > m_dring_{trafficname}_{racke}_{multname}_{sseed}.log\\n\")\n",
    "            make_dring = \"NOMAKE\""
   ]
  },
  {
   "cell_type": "markdown",
   "metadata": {},
   "source": [
    "generate sumfile & picklefile"
   ]
  },
  {
   "cell_type": "code",
   "execution_count": null,
   "metadata": {},
   "outputs": [],
   "source": [
    "import pickle\n",
    "\n",
    "trafficname = \"prv1\"\n",
    "\n",
    "homedir = \"/home/annzhou\"\n",
    "datadict = dict()\n",
    "conffile = f\"{homedir}/DRing/src/emp/datacentre/experiments/routing_fhi/{trafficname}.conf\"\n",
    "sumfile = f\"{homedir}/DRing/src/emp/datacentre/experiments/routing_fhi/{trafficname}.txt\"\n",
    "with open(conffile,'r') as f:\n",
    "    with open(sumfile,'a') as sumf:\n",
    "        lines = f.readlines()\n",
    "        for line in lines:\n",
    "            tokens = line.split()\n",
    "            logfile = tokens[32]\n",
    "            sizelist = list()\n",
    "            durationlist = list()\n",
    "            startlist = list()\n",
    "            with open(f\"{homedir}/DRing/src/emp/datacentre/{logfile}\",'r') as logf:\n",
    "                print(logfile)\n",
    "                loglines = logf.readlines()\n",
    "                for logline in loglines:\n",
    "                    logtokens = logline.split()\n",
    "                    if logtokens[0] == \"FCT\":\n",
    "                        durationlist.append(float(logtokens[2]))\n",
    "                        sizelist.append(int(logtokens[1]))\n",
    "                        startlist.append(float(logtokens[3]))\n",
    "            datadict[logfile] = [durationlist,sizelist,startlist]\n",
    "            durationlist.sort()\n",
    "            sumf.write(f\"{logfile}\\t{sum(durationlist)/len(durationlist)}\\t{durationlist[int(len(durationlist)*0.5)]}\\t{durationlist[int(len(durationlist)*0.99)]}\\t{durationlist[int(len(durationlist)*0.9999)]}\\n\")\n",
    "\n",
    "with open(f'{homedir}/DRing/src/emp/datacentre/experiments/routing_fhi/{trafficname}.pickle', 'wb') as handle:\n",
    "    pickle.dump(datadict, handle, protocol=pickle.HIGHEST_PROTOCOL)"
   ]
  },
  {
   "cell_type": "markdown",
   "metadata": {},
   "source": [
    "delete log,run files"
   ]
  },
  {
   "cell_type": "code",
   "execution_count": null,
   "metadata": {},
   "outputs": [],
   "source": [
    "import os\n",
    "\n",
    "homedir = \"/home/annzhou\"\n",
    "dringdir = f\"{homedir}/DRing/src/emp/datacentre\"\n",
    "for filedir in os.listdir(dringdir):\n",
    "    if os.path.isfile(os.path.join(dringdir, filedir)):\n",
    "        tokens = filedir.split(\"_\")\n",
    "        if tokens[0]==\"m\" and (tokens[1]==\"leafspine\" or tokens[1]==\"dring\") and tokens[-1].split('.')[-1]==\"log\":\n",
    "            print(filedir)\n",
    "            os.remove(f\"{homedir}/DRing/src/emp/datacentre/{filedir}\")\n",
    "        if (tokens[0]==\"rrg\" or tokens[0]==\"leafspine\") and tokens[1]==\"log\":\n",
    "            print(filedir)\n",
    "            os.remove(f\"{homedir}/DRing/src/emp/datacentre/{filedir}\")\n",
    "        if (tokens[-1]==\"run\") and ((tokens[0]==\"leafspine\" and tokens[1]==\"leafspine\") or (tokens[0]==\"rrg\" and (tokens[1]==\"rrg\" or tokens[1]==\"dring\"))):\n",
    "            print(filedir)\n",
    "            os.remove(f\"{homedir}/DRing/src/emp/datacentre/{filedir}\")"
   ]
  }
 ],
 "metadata": {
  "kernelspec": {
   "display_name": "Python 3",
   "language": "python",
   "name": "python3"
  },
  "language_info": {
   "codemirror_mode": {
    "name": "ipython",
    "version": 3
   },
   "file_extension": ".py",
   "mimetype": "text/x-python",
   "name": "python",
   "nbconvert_exporter": "python",
   "pygments_lexer": "ipython3",
   "version": "3.10.12"
  }
 },
 "nbformat": 4,
 "nbformat_minor": 2
}
