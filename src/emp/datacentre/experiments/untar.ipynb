{
 "cells": [
  {
   "cell_type": "markdown",
   "metadata": {},
   "source": [
    "a2a (dring)\n",
    "```\n",
    "cd pathweightfiles/dring/\n",
    "mv ecmp/ ecmptmp\n",
    "tar -zxvf ecmptmp/dring_ecmp_others.tar.gz\n",
    "mv su2 su2tmp\n",
    "tar -zxvf su2tmp/dring_su2_others.tar.gz\n",
    "```"
   ]
  }
 ],
 "metadata": {
  "language_info": {
   "name": "python"
  }
 },
 "nbformat": 4,
 "nbformat_minor": 2
}
