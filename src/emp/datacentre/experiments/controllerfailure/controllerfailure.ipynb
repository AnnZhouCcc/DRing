{
 "cells": [
  {
   "cell_type": "markdown",
   "metadata": {},
   "source": [
    "generate choicefile & qivarfiles\n",
    "inspired by computerouting2/computerouting2.ipynb"
   ]
  },
  {
   "cell_type": "code",
   "execution_count": 5,
   "metadata": {},
   "outputs": [],
   "source": [
    "import shutil\n",
    "\n",
    "# cluster_a\n",
    "intervaltoqivarfile = dict()\n",
    "for interval in range(24,48):\n",
    "    intervaltoqivarfile[interval] = interval\n",
    "for interval in range(30,36):\n",
    "    intervaltoqivarfile[interval] = 30\n",
    "for interval in range(24,48):\n",
    "    copyfromfile = f\"/home/annzhou/DRing/src/emp/datacentre/qivarfiles/routing_cluster_a/qivar_dring_0_0_cluster_a_{intervaltoqivarfile[interval]}_su3_2_0\"\n",
    "    copytofile = f\"/home/annzhou/DRing/src/emp/datacentre/qivarfiles/qivar_dring_0_0_cluster_a_{interval}_su3_2_0\"\n",
    "    shutil.copy(copyfromfile, copytofile)"
   ]
  },
  {
   "cell_type": "code",
   "execution_count": 9,
   "metadata": {},
   "outputs": [
    {
     "data": {
      "text/plain": [
       "'/home/annzhou/DRing/src/emp/datacentre/qivarfiles/qivar_dring_0_0_prv1_7_su2_2_0'"
      ]
     },
     "execution_count": 9,
     "metadata": {},
     "output_type": "execute_result"
    }
   ],
   "source": [
    "# prv1\n",
    "intervaltoqivarfile = {4:4,5:5,6:5,7:7}\n",
    "for interval in range(4,7):\n",
    "    copyfromfile = f\"/home/annzhou/DRing/src/emp/datacentre/qivarfiles/routing_prv1/qivar_dring_0_0_prv1_{intervaltoqivarfile[interval]}_su3_2_0\"\n",
    "    copytofile = f\"/home/annzhou/DRing/src/emp/datacentre/qivarfiles/qivar_dring_0_0_prv1_{interval}_su3_2_0\"\n",
    "    shutil.copy(copyfromfile, copytofile)\n",
    "interval = 7\n",
    "copyfromfile = f\"/home/annzhou/DRing/src/emp/datacentre/qivarfiles/routing_prv1/qivar_dring_0_0_prv1_{intervaltoqivarfile[interval]}_su2_2_0\"\n",
    "copytofile = f\"/home/annzhou/DRing/src/emp/datacentre/qivarfiles/qivar_dring_0_0_prv1_{interval}_su2_2_0\"\n",
    "shutil.copy(copyfromfile, copytofile)"
   ]
  },
  {
   "cell_type": "code",
   "execution_count": 10,
   "metadata": {},
   "outputs": [],
   "source": [
    "with open(\"/home/annzhou/DRing/src/emp/datacentre/choicefiles/prv1\",'w') as f:\n",
    "    f.write(\"2\\n2\\n2\\n1\\n\")\n",
    "\n",
    "with open(\"/home/annzhou/DRing/src/emp/datacentre/choicefiles/cluster_a\",'w') as f:\n",
    "    for _ in range(24):\n",
    "        f.write(\"2\\n\")"
   ]
  },
  {
   "cell_type": "markdown",
   "metadata": {},
   "source": [
    "generate conf files"
   ]
  },
  {
   "cell_type": "code",
   "execution_count": 11,
   "metadata": {},
   "outputs": [],
   "source": [
    "trafficname = \"prv1\"\n",
    "multstrarr1 = [\"0 2 100\",\"0 5 100\",\"0 7 100\",\"0 10 100\",\"0 12 100\",\"0 15 100\",\"0 17 100\",\"0 20 100\",\"0 22 100\",\"0 25 100\",\"0 37 100\"]\n",
    "multnamearr1 = list(range(2,21,2))+list(range(20,31,10))\n",
    "sseedarr = range(1,6)\n",
    "\n",
    "conffile = f\"/home/annzhou/DRing/src/emp/datacentre/experiments/controllerfailure/{trafficname}.conf\"\n",
    "make_leafspine = \"MAKE\"\n",
    "make_dring = \"MAKE\"\n",
    "with open(conffile,'w') as f:\n",
    "    for imultstr,multstr in enumerate(multstrarr1):\n",
    "        for sseed in sseedarr:\n",
    "            multname = multnamearr1[imultstr]\n",
    "            # f.write(f\"./run.sh LEAFSPINE {make_leafspine} 80 3072 64 leafspine_{trafficname} NEW_WISC null {multstr} 4 8 0 0 0 0 ecmp 0 {trafficname} {sseed} netpathfiles/netpath_ecmp_leafspine.txt qvarfiles/qvar_leafspine_0_0_ecmp_64 64 50 150 200 0 0 > m_leafspine_{trafficname}_{multname}_{sseed}.log\\n\")\n",
    "            make_leafspine = \"NOMAKE\"\n",
    "            f.write(f\"./run.sh RRG {make_dring} 80 2988 64 dring_{trafficname} NEW_WISC graphfiles/ring_supergraph/double_ring/instance1_80_64.edgelist {multstr} 4 8 0 0 0 0 null 0 {trafficname} serverfiles/dring_2988_80_64 {sseed} null null 64 50 150 200 0 0 > m_dring_{trafficname}_{multname}_{sseed}.log\\n\")\n",
    "            make_dring = \"NOMAKE\""
   ]
  },
  {
   "cell_type": "code",
   "execution_count": 12,
   "metadata": {},
   "outputs": [],
   "source": [
    "trafficname = \"cluster_a\"\n",
    "multstrarr1 = [\"4 8 100\",\"8 17 100\",\"12 25 100\",\"16 34 100\",\"20 42 100\",\"24 51 100\",\"28 59 100\",\"32 67 100\",\"36 76 100\"]\n",
    "multnamearr1 = range(10,91,10)\n",
    "sseedarr = range(1,6)\n",
    "\n",
    "conffile = f\"/home/annzhou/DRing/src/emp/datacentre/experiments/controllerfailure/{trafficname}.conf\"\n",
    "make_leafspine = \"MAKE\"\n",
    "make_dring = \"MAKE\"\n",
    "with open(conffile,'w') as f:\n",
    "    for imultstr,multstr in enumerate(multstrarr1):\n",
    "        for sseed in sseedarr:\n",
    "            multname = multnamearr1[imultstr]\n",
    "            # f.write(f\"./run.sh LEAFSPINE {make_leafspine} 80 3072 64 leafspine_{trafficname} NEW_WISC null {multstr} 24 48 0 0 0 0 ecmp 0 {trafficname} {sseed} netpathfiles/netpath_ecmp_leafspine.txt qvarfiles/qvar_leafspine_0_0_ecmp_64 64 50 150 200 0 0 > m_leafspine_{trafficname}_{multname}_{sseed}.log\\n\")\n",
    "            make_leafspine = \"NOMAKE\"\n",
    "            f.write(f\"./run.sh RRG {make_dring} 80 2988 64 dring_{trafficname} NEW_WISC graphfiles/ring_supergraph/double_ring/instance1_80_64.edgelist {multstr} 24 48 0 0 0 0 null 0 {trafficname} serverfiles/dring_2988_80_64 {sseed} null null 64 50 150 200 0 0 > m_dring_{trafficname}_{multname}_{sseed}.log\\n\")\n",
    "            make_dring = \"NOMAKE\""
   ]
  }
 ],
 "metadata": {
  "kernelspec": {
   "display_name": "Python 3",
   "language": "python",
   "name": "python3"
  },
  "language_info": {
   "codemirror_mode": {
    "name": "ipython",
    "version": 3
   },
   "file_extension": ".py",
   "mimetype": "text/x-python",
   "name": "python",
   "nbconvert_exporter": "python",
   "pygments_lexer": "ipython3",
   "version": "3.8.10"
  }
 },
 "nbformat": 4,
 "nbformat_minor": 2
}
