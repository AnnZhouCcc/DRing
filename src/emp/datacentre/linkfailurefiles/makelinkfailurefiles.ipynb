{
 "cells": [
  {
   "cell_type": "markdown",
   "metadata": {},
   "source": [
    "DRing"
   ]
  },
  {
   "cell_type": "code",
   "execution_count": 23,
   "metadata": {},
   "outputs": [
    {
     "name": "stdout",
     "output_type": "stream",
     "text": [
      "Number of failed links = 2\n"
     ]
    }
   ],
   "source": [
    "failpercent = 0.001\n",
    "\n",
    "numtotalbilinks = 1066\n",
    "numfaillinks = int(numtotalbilinks*2*failpercent)\n",
    "print(f\"Number of failed links = {numfaillinks}\")\n",
    "\n",
    "\n",
    "import random\n",
    "\n",
    "def generate_linedirection():\n",
    "    linenumber = random.randint(0,numtotalbilinks-1)\n",
    "    direction = random.randint(0,1)\n",
    "    return [linenumber,direction]\n",
    "\n",
    "def check_repeated_linedirection(linenumber,direction,linenumberlist,directionlist):\n",
    "    for i in range(len(linenumberlist)):\n",
    "        mylinenumber = linenumberlist[i]\n",
    "        mydirection = directionlist[i]\n",
    "        if linenumber==mylinenumber and direction==mydirection:\n",
    "            return True\n",
    "    return False\n",
    "\n",
    "\n",
    "for rseed in range(10):\n",
    "    random.seed(rseed)\n",
    "    linenumberlist = list()\n",
    "    directionlist = list()\n",
    "    for i in range(numfaillinks):\n",
    "        linenumber,direction = generate_linedirection()\n",
    "        while check_repeated_linedirection(linenumber,direction,linenumberlist,directionlist):\n",
    "            linenumber,direction = generate_linedirection()\n",
    "        linenumberlist.append(linenumber)\n",
    "        directionlist.append(direction)\n",
    "\n",
    "    # print(linenumberlist)\n",
    "    # print(directionlist)\n",
    "\n",
    "    failsrc = list()\n",
    "    faildst = list()\n",
    "    with open(\"/home/annzhou/DRing/src/emp/datacentre/graphfiles/ring_supergraph/double_ring/instance1_80_64.edgelist\",'r') as f:\n",
    "        lines = f.readlines()\n",
    "        for ilinenumber,linenumber in enumerate(linenumberlist):\n",
    "            direction = directionlist[ilinenumber]\n",
    "            line = lines[linenumber]\n",
    "            tokens = line.split(\"->\")\n",
    "            fromsw = int(tokens[0])\n",
    "            tosw = int(tokens[1])\n",
    "            if direction==1:\n",
    "                tempsw = fromsw\n",
    "                fromsw = tosw\n",
    "                tosw = tempsw\n",
    "            failsrc.append(fromsw)\n",
    "            faildst.append(tosw)\n",
    "        \n",
    "    # print(failsrc)\n",
    "    # print(faildst)\n",
    "\n",
    "    with open(f\"/home/annzhou/DRing/src/emp/datacentre/linkfailurefiles/dring_{numtotalbilinks*2}_{numfaillinks}_{rseed}\",'w') as f:\n",
    "        for isrc,src in enumerate(failsrc):\n",
    "            dst = faildst[isrc]\n",
    "            f.write(f\"{src} {dst}\\n\")"
   ]
  },
  {
   "cell_type": "markdown",
   "metadata": {},
   "source": [
    "Leafspine"
   ]
  },
  {
   "cell_type": "code",
   "execution_count": 26,
   "metadata": {},
   "outputs": [
    {
     "name": "stdout",
     "output_type": "stream",
     "text": [
      "Number of failed links = 204\n"
     ]
    }
   ],
   "source": [
    "failpercent = 0.1\n",
    "\n",
    "NLO = 64 # NL\n",
    "NUP = 16 # NSP\n",
    "numtotallinks = NLO*NUP*2\n",
    "numfaillinks = int(numtotallinks*failpercent)\n",
    "print(f\"Number of failed links = {numfaillinks}\")\n",
    "\n",
    "\n",
    "import random\n",
    "\n",
    "def generate_srcdst():\n",
    "    mylo = random.randint(0,NLO-1)\n",
    "    myup = random.randint(0,NUP-1)\n",
    "    mydirection = random.randint(0,1)\n",
    "    while mylo==myup:\n",
    "        myup = random.randint(0,NUP-1)\n",
    "    return [mylo,myup,mydirection]\n",
    "\n",
    "def check_repeated_srcdst(lo,up,direction,lolist,uplist,directionlist):\n",
    "    for i in range(len(lolist)):\n",
    "        mylo = lolist[i]\n",
    "        myup = uplist[i]\n",
    "        mydirection = directionlist[i]\n",
    "        if lo==mylo and up==myup and direction==mydirection:\n",
    "            return True\n",
    "    return False\n",
    "\n",
    "\n",
    "for rseed in range(10):\n",
    "    random.seed(rseed)\n",
    "    lolist = list()\n",
    "    uplist = list()\n",
    "    directionlist = list()\n",
    "    for i in range(numfaillinks):\n",
    "        mylo,myup,mydirection = generate_srcdst()\n",
    "        while check_repeated_srcdst(mylo,myup,mydirection,lolist,uplist,directionlist):\n",
    "            mylo,myup,mydirection = generate_srcdst()\n",
    "        lolist.append(mylo)\n",
    "        uplist.append(myup)\n",
    "        directionlist.append(mydirection)\n",
    "\n",
    "    # print(lolist)\n",
    "    # print(uplist)\n",
    "    # print(directionlist)\n",
    "\n",
    "    with open(f\"/home/annzhou/DRing/src/emp/datacentre/linkfailurefiles/leafspine_{numtotallinks}_{numfaillinks}_{rseed}\",'w') as f:\n",
    "        for ilo,lo in enumerate(lolist):\n",
    "            up = uplist[ilo]\n",
    "            direction = directionlist[ilo]\n",
    "            f.write(f\"{lo} {up} {direction}\\n\")"
   ]
  }
 ],
 "metadata": {
  "kernelspec": {
   "display_name": "Python 3",
   "language": "python",
   "name": "python3"
  },
  "language_info": {
   "codemirror_mode": {
    "name": "ipython",
    "version": 3
   },
   "file_extension": ".py",
   "mimetype": "text/x-python",
   "name": "python",
   "nbconvert_exporter": "python",
   "pygments_lexer": "ipython3",
   "version": "3.8.10"
  }
 },
 "nbformat": 4,
 "nbformat_minor": 2
}
