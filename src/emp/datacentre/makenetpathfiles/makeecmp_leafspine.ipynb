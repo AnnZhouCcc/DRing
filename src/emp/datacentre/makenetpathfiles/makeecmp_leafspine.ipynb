{
 "cells": [
  {
   "cell_type": "code",
   "execution_count": 4,
   "metadata": {},
   "outputs": [],
   "source": [
    "swlist = range(40,121,20)\n",
    "for numsw in swlist:\n",
    "    numserver = (numsw//5)*(numsw//5)*12\n",
    "    numport = int(numsw*0.8)\n",
    "    numleaf = int(numsw*0.8)\n",
    "    numspine = numsw-numleaf\n",
    "    netpathfile = f\"/home/annzhou/DRing/src/emp/datacentre/netpathfiles/netpath_ecmp_leafspine_{numserver}_{numsw}_{numport}\"\n",
    "    with open(netpathfile,'w') as f:\n",
    "        for srcsw in range(numleaf):\n",
    "            for dstsw in range(numleaf):\n",
    "                if srcsw == dstsw:\n",
    "                    f.write(f\"{srcsw} {dstsw} 0\\n\")\n",
    "                else:\n",
    "                    f.write(f\"{srcsw} {dstsw} {numspine}\\n\")\n",
    "                    for spsw in range(numleaf,numsw):\n",
    "                        f.write(f\" {srcsw}->{spsw} {spsw}->{dstsw}\\n\")"
   ]
  }
 ],
 "metadata": {
  "kernelspec": {
   "display_name": "Python 3",
   "language": "python",
   "name": "python3"
  },
  "language_info": {
   "codemirror_mode": {
    "name": "ipython",
    "version": 3
   },
   "file_extension": ".py",
   "mimetype": "text/x-python",
   "name": "python",
   "nbconvert_exporter": "python",
   "pygments_lexer": "ipython3",
   "version": "3.8.10"
  }
 },
 "nbformat": 4,
 "nbformat_minor": 2
}
